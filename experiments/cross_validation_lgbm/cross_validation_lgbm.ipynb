{
 "cells": [
  {
   "cell_type": "code",
   "execution_count": 1,
   "metadata": {
    "ExecuteTime": {
     "end_time": "2019-02-06T20:50:08.894711Z",
     "start_time": "2019-02-06T20:50:08.888377Z"
    }
   },
   "outputs": [],
   "source": [
    "import sys\n",
    "sys.path.append('../..')"
   ]
  },
  {
   "cell_type": "code",
   "execution_count": 2,
   "metadata": {
    "ExecuteTime": {
     "end_time": "2019-02-06T20:50:09.721525Z",
     "start_time": "2019-02-06T20:50:09.269292Z"
    }
   },
   "outputs": [],
   "source": [
    "import pandas as pd\n",
    "import numpy as np\n",
    "import catboost\n",
    "from sklearn.model_selection import train_test_split, KFold\n",
    "import itertools\n",
    "from tqdm import tqdm_notebook as tqdm\n",
    "import lightgbm\n",
    "import scoring\n",
    "\n",
    "pd.options.display.max_rows = 80\n",
    "pd.options.display.max_columns = 80"
   ]
  },
  {
   "cell_type": "code",
   "execution_count": 3,
   "metadata": {
    "ExecuteTime": {
     "end_time": "2019-02-06T20:50:10.632805Z",
     "start_time": "2019-02-06T20:50:09.723057Z"
    }
   },
   "outputs": [
    {
     "data": {
      "text/plain": [
       "((5445705, 89), (5445705, 2))"
      ]
     },
     "execution_count": 3,
     "metadata": {},
     "output_type": "execute_result"
    }
   ],
   "source": [
    "data = pd.read_hdf(\"../../data/all_train_data.hdf\")\n",
    "target_labels = pd.read_hdf(\"../../data/train_labels.hdf\")\n",
    "\n",
    "data.shape, target_labels.shape"
   ]
  },
  {
   "cell_type": "code",
   "execution_count": 4,
   "metadata": {
    "ExecuteTime": {
     "end_time": "2019-02-06T20:50:10.637098Z",
     "start_time": "2019-02-06T20:50:10.634262Z"
    }
   },
   "outputs": [],
   "source": [
    "new_columns = list(itertools.chain(*[[f'ClosestHit_{f}[{i}]' for i in range(4)]\n",
    "                                     for f in [\"X\", \"Y\", \"T\", \"z\", \"dx\", \"dy\"]]))\n",
    "\n",
    "rename_dict = dict(zip(range(24), new_columns))"
   ]
  },
  {
   "cell_type": "code",
   "execution_count": 5,
   "metadata": {
    "ExecuteTime": {
     "end_time": "2019-02-06T20:50:15.163105Z",
     "start_time": "2019-02-06T20:50:10.727577Z"
    }
   },
   "outputs": [],
   "source": [
    "data.rename(rename_dict, axis='columns', inplace=True)\n",
    "\n",
    "for j in range(4):\n",
    "    distance_to_center = 0\n",
    "    for i in [\"X\", \"Y\"]:\n",
    "        data[f'Lextra_ClosestHit_dt_{i}[{j}]'] = np.square(data[f'ClosestHit_{i}[{j}]'] - data[f'Lextra_{i}[{j}]'])\n",
    "        data[f'MatchedHit_ClosestHit_dt{i}[{j}]'] = np.square(data[f'ClosestHit_{i}[{j}]'] - data[f'MatchedHit_{i}[{j}]'])\n",
    "        distance_to_center += np.square(data[f'ClosestHit_{i}[{j}]'])\n",
    "    data[f'ClosestHit_to_Center[{j}]'] = np.sqrt(distance_to_center)"
   ]
  },
  {
   "cell_type": "code",
   "execution_count": 6,
   "metadata": {
    "ExecuteTime": {
     "end_time": "2019-02-06T20:50:15.167988Z",
     "start_time": "2019-02-06T20:50:15.164796Z"
    }
   },
   "outputs": [
    {
     "data": {
      "text/plain": [
       "((5445705, 109), (5445705, 2))"
      ]
     },
     "execution_count": 6,
     "metadata": {},
     "output_type": "execute_result"
    }
   ],
   "source": [
    "data.shape, target_labels.shape"
   ]
  },
  {
   "cell_type": "code",
   "execution_count": 7,
   "metadata": {
    "ExecuteTime": {
     "end_time": "2019-02-06T20:50:15.178618Z",
     "start_time": "2019-02-06T20:50:15.169183Z"
    }
   },
   "outputs": [],
   "source": [
    "def _test_parameters(fit_params):\n",
    "    k = KFold(n_splits=5, shuffle=True, random_state=0) # K-Fold index generator\n",
    "    \n",
    "    test_scores = [] # Test scores\n",
    "    train_scores = [] # Train scores\n",
    "\n",
    "    for train_index, test_index in tqdm(k.split(data, target_labels), leave=False, total=5):\n",
    "\n",
    "        X_train, X_test, y_train, y_test = data.iloc[train_index], data.iloc[test_index], target_labels.iloc[train_index], target_labels.iloc[test_index]\n",
    "\n",
    "        y_train = y_train.copy()\n",
    "        y_train_true = y_train.copy() # Keep unmodified labels for evaluating\n",
    "        y_train.loc[y_train.weight < 0, 'label'] = 1 - y_train.loc[y_train.weight < 0, 'label'] # Invert labels\n",
    "        y_train.weight = np.abs(y_train.weight) # Take absolute weights\n",
    "\n",
    "        model = lightgbm.LGBMClassifier(**fit_params)\n",
    "\n",
    "        model.fit(X_train, y_train.label, sample_weight=y_train.weight)\n",
    "\n",
    "        pred_train = model.predict_proba(X_train)[:, 1]\n",
    "        train_score = scoring.rejection90(y_train_true.label.values, pred_train, sample_weight=y_train_true.weight.values) * 10000\n",
    "        train_scores.append(train_score)\n",
    "\n",
    "        pred_test = model.predict_proba(X_test)[:, 1]\n",
    "        score = scoring.rejection90(y_test.label.values, pred_test, sample_weight=y_test.weight.values) * 10000\n",
    "        test_scores.append(score)\n",
    "    \n",
    "    train_score_mean = np.mean(train_scores)\n",
    "    train_score_std = np.std(train_scores)\n",
    "    \n",
    "    test_score_mean = np.mean(test_scores)\n",
    "    test_score_std = np.std(test_scores)    \n",
    "    \n",
    "    return train_score_mean, train_score_std, test_score_mean, test_score_std\n",
    "    "
   ]
  },
  {
   "cell_type": "code",
   "execution_count": 8,
   "metadata": {
    "ExecuteTime": {
     "end_time": "2019-02-06T20:50:15.189946Z",
     "start_time": "2019-02-06T20:50:15.180237Z"
    }
   },
   "outputs": [],
   "source": [
    "def run_cross_validation(parameters):\n",
    "    param_names = list(parameters.keys())\n",
    "    param_combinations = list(itertools.product(*list(parameters.values())))\n",
    "    results = pd.DataFrame(param_combinations, columns=param_names)\n",
    "    results['train_score_mean'] = -1.0\n",
    "    results['train_score_std'] = -1.0\n",
    "    results['test_score_mean'] = -1.0\n",
    "    results['test_score_std'] = -1.0\n",
    "    \n",
    "    \n",
    "    for i in tqdm(range(len(param_combinations)), leave=True):\n",
    "        fit_params = dict(zip(param_names, param_combinations[i]))\n",
    "        train_score_mean, train_score_std, test_score_mean, test_score_std = _test_parameters(fit_params)\n",
    "        \n",
    "        results.loc[i, 'train_score_mean'] = train_score_mean\n",
    "        results.loc[i, 'train_score_std'] = train_score_std\n",
    "        results.loc[i, 'test_score_mean'] = test_score_mean\n",
    "        results.loc[i, 'test_score_std'] = test_score_std\n",
    "        \n",
    "        print(fit_params)\n",
    "        print(f'Train score: {train_score_mean:.0f} ± {train_score_std:.0f}')\n",
    "        print(f'Test score: {test_score_mean:.0f} ± {test_score_std:.0f}')\n",
    "        print()\n",
    "\n",
    "    return results\n"
   ]
  },
  {
   "cell_type": "code",
   "execution_count": 9,
   "metadata": {
    "ExecuteTime": {
     "end_time": "2019-02-06T20:50:16.040057Z",
     "start_time": "2019-02-06T20:50:16.035741Z"
    }
   },
   "outputs": [],
   "source": [
    "parameters = {'n_estimators': [100, 200, 300], 'num_leaves': [31, 63], 'max_depth': [-1, 7, 8]}"
   ]
  },
  {
   "cell_type": "code",
   "execution_count": 10,
   "metadata": {
    "ExecuteTime": {
     "end_time": "2019-02-06T23:24:29.029849Z",
     "start_time": "2019-02-06T20:50:17.681165Z"
    }
   },
   "outputs": [
    {
     "data": {
      "application/vnd.jupyter.widget-view+json": {
       "model_id": "475dd89fe2f543cd9696720a1a5b96be",
       "version_major": 2,
       "version_minor": 0
      },
      "text/plain": [
       "HBox(children=(IntProgress(value=0, max=18), HTML(value='')))"
      ]
     },
     "metadata": {},
     "output_type": "display_data"
    },
    {
     "data": {
      "application/vnd.jupyter.widget-view+json": {
       "model_id": "",
       "version_major": 2,
       "version_minor": 0
      },
      "text/plain": [
       "HBox(children=(IntProgress(value=0, max=5), HTML(value='')))"
      ]
     },
     "metadata": {},
     "output_type": "display_data"
    },
    {
     "name": "stdout",
     "output_type": "stream",
     "text": [
      "{'n_estimators': 100, 'num_leaves': 31, 'max_depth': -1}\n",
      "Train score: 8480 ± 29\n",
      "Test score: 7798 ± 60\n",
      "\n"
     ]
    },
    {
     "data": {
      "application/vnd.jupyter.widget-view+json": {
       "model_id": "",
       "version_major": 2,
       "version_minor": 0
      },
      "text/plain": [
       "HBox(children=(IntProgress(value=0, max=5), HTML(value='')))"
      ]
     },
     "metadata": {},
     "output_type": "display_data"
    },
    {
     "name": "stdout",
     "output_type": "stream",
     "text": [
      "{'n_estimators': 100, 'num_leaves': 31, 'max_depth': 7}\n",
      "Train score: 8433 ± 35\n",
      "Test score: 7755 ± 74\n",
      "\n"
     ]
    },
    {
     "data": {
      "application/vnd.jupyter.widget-view+json": {
       "model_id": "",
       "version_major": 2,
       "version_minor": 0
      },
      "text/plain": [
       "HBox(children=(IntProgress(value=0, max=5), HTML(value='')))"
      ]
     },
     "metadata": {},
     "output_type": "display_data"
    },
    {
     "name": "stdout",
     "output_type": "stream",
     "text": [
      "{'n_estimators': 100, 'num_leaves': 31, 'max_depth': 8}\n",
      "Train score: 8443 ± 25\n",
      "Test score: 7763 ± 50\n",
      "\n"
     ]
    },
    {
     "data": {
      "application/vnd.jupyter.widget-view+json": {
       "model_id": "",
       "version_major": 2,
       "version_minor": 0
      },
      "text/plain": [
       "HBox(children=(IntProgress(value=0, max=5), HTML(value='')))"
      ]
     },
     "metadata": {},
     "output_type": "display_data"
    },
    {
     "name": "stdout",
     "output_type": "stream",
     "text": [
      "{'n_estimators': 100, 'num_leaves': 63, 'max_depth': -1}\n",
      "Train score: 9254 ± 29\n",
      "Test score: 7813 ± 92\n",
      "\n"
     ]
    },
    {
     "data": {
      "application/vnd.jupyter.widget-view+json": {
       "model_id": "",
       "version_major": 2,
       "version_minor": 0
      },
      "text/plain": [
       "HBox(children=(IntProgress(value=0, max=5), HTML(value='')))"
      ]
     },
     "metadata": {},
     "output_type": "display_data"
    },
    {
     "name": "stdout",
     "output_type": "stream",
     "text": [
      "{'n_estimators': 100, 'num_leaves': 63, 'max_depth': 7}\n",
      "Train score: 8936 ± 30\n",
      "Test score: 7810 ± 52\n",
      "\n"
     ]
    },
    {
     "data": {
      "application/vnd.jupyter.widget-view+json": {
       "model_id": "",
       "version_major": 2,
       "version_minor": 0
      },
      "text/plain": [
       "HBox(children=(IntProgress(value=0, max=5), HTML(value='')))"
      ]
     },
     "metadata": {},
     "output_type": "display_data"
    },
    {
     "name": "stdout",
     "output_type": "stream",
     "text": [
      "{'n_estimators': 100, 'num_leaves': 63, 'max_depth': 8}\n",
      "Train score: 9042 ± 24\n",
      "Test score: 7817 ± 57\n",
      "\n"
     ]
    },
    {
     "data": {
      "application/vnd.jupyter.widget-view+json": {
       "model_id": "",
       "version_major": 2,
       "version_minor": 0
      },
      "text/plain": [
       "HBox(children=(IntProgress(value=0, max=5), HTML(value='')))"
      ]
     },
     "metadata": {},
     "output_type": "display_data"
    },
    {
     "name": "stdout",
     "output_type": "stream",
     "text": [
      "{'n_estimators': 200, 'num_leaves': 31, 'max_depth': -1}\n",
      "Train score: 9080 ± 23\n",
      "Test score: 7820 ± 64\n",
      "\n"
     ]
    },
    {
     "data": {
      "application/vnd.jupyter.widget-view+json": {
       "model_id": "",
       "version_major": 2,
       "version_minor": 0
      },
      "text/plain": [
       "HBox(children=(IntProgress(value=0, max=5), HTML(value='')))"
      ]
     },
     "metadata": {},
     "output_type": "display_data"
    },
    {
     "name": "stdout",
     "output_type": "stream",
     "text": [
      "{'n_estimators': 200, 'num_leaves': 31, 'max_depth': 7}\n",
      "Train score: 8979 ± 32\n",
      "Test score: 7808 ± 91\n",
      "\n"
     ]
    },
    {
     "data": {
      "application/vnd.jupyter.widget-view+json": {
       "model_id": "",
       "version_major": 2,
       "version_minor": 0
      },
      "text/plain": [
       "HBox(children=(IntProgress(value=0, max=5), HTML(value='')))"
      ]
     },
     "metadata": {},
     "output_type": "display_data"
    },
    {
     "name": "stdout",
     "output_type": "stream",
     "text": [
      "{'n_estimators': 200, 'num_leaves': 31, 'max_depth': 8}\n",
      "Train score: 9003 ± 45\n",
      "Test score: 7824 ± 48\n",
      "\n"
     ]
    },
    {
     "data": {
      "application/vnd.jupyter.widget-view+json": {
       "model_id": "",
       "version_major": 2,
       "version_minor": 0
      },
      "text/plain": [
       "HBox(children=(IntProgress(value=0, max=5), HTML(value='')))"
      ]
     },
     "metadata": {},
     "output_type": "display_data"
    },
    {
     "name": "stdout",
     "output_type": "stream",
     "text": [
      "{'n_estimators': 200, 'num_leaves': 63, 'max_depth': -1}\n",
      "Train score: 10041 ± 31\n",
      "Test score: 7851 ± 98\n",
      "\n"
     ]
    },
    {
     "data": {
      "application/vnd.jupyter.widget-view+json": {
       "model_id": "",
       "version_major": 2,
       "version_minor": 0
      },
      "text/plain": [
       "HBox(children=(IntProgress(value=0, max=5), HTML(value='')))"
      ]
     },
     "metadata": {},
     "output_type": "display_data"
    },
    {
     "name": "stdout",
     "output_type": "stream",
     "text": [
      "{'n_estimators': 200, 'num_leaves': 63, 'max_depth': 7}\n",
      "Train score: 9660 ± 18\n",
      "Test score: 7859 ± 89\n",
      "\n"
     ]
    },
    {
     "data": {
      "application/vnd.jupyter.widget-view+json": {
       "model_id": "",
       "version_major": 2,
       "version_minor": 0
      },
      "text/plain": [
       "HBox(children=(IntProgress(value=0, max=5), HTML(value='')))"
      ]
     },
     "metadata": {},
     "output_type": "display_data"
    },
    {
     "name": "stdout",
     "output_type": "stream",
     "text": [
      "{'n_estimators': 200, 'num_leaves': 63, 'max_depth': 8}\n",
      "Train score: 9810 ± 15\n",
      "Test score: 7825 ± 56\n",
      "\n"
     ]
    },
    {
     "data": {
      "application/vnd.jupyter.widget-view+json": {
       "model_id": "",
       "version_major": 2,
       "version_minor": 0
      },
      "text/plain": [
       "HBox(children=(IntProgress(value=0, max=5), HTML(value='')))"
      ]
     },
     "metadata": {},
     "output_type": "display_data"
    },
    {
     "name": "stdout",
     "output_type": "stream",
     "text": [
      "{'n_estimators': 300, 'num_leaves': 31, 'max_depth': -1}\n",
      "Train score: 9525 ± 23\n",
      "Test score: 7834 ± 65\n",
      "\n"
     ]
    },
    {
     "data": {
      "application/vnd.jupyter.widget-view+json": {
       "model_id": "",
       "version_major": 2,
       "version_minor": 0
      },
      "text/plain": [
       "HBox(children=(IntProgress(value=0, max=5), HTML(value='')))"
      ]
     },
     "metadata": {},
     "output_type": "display_data"
    },
    {
     "name": "stdout",
     "output_type": "stream",
     "text": [
      "{'n_estimators': 300, 'num_leaves': 31, 'max_depth': 7}\n",
      "Train score: 9392 ± 27\n",
      "Test score: 7826 ± 94\n",
      "\n"
     ]
    },
    {
     "data": {
      "application/vnd.jupyter.widget-view+json": {
       "model_id": "",
       "version_major": 2,
       "version_minor": 0
      },
      "text/plain": [
       "HBox(children=(IntProgress(value=0, max=5), HTML(value='')))"
      ]
     },
     "metadata": {},
     "output_type": "display_data"
    },
    {
     "name": "stdout",
     "output_type": "stream",
     "text": [
      "{'n_estimators': 300, 'num_leaves': 31, 'max_depth': 8}\n",
      "Train score: 9426 ± 43\n",
      "Test score: 7822 ± 69\n",
      "\n"
     ]
    },
    {
     "data": {
      "application/vnd.jupyter.widget-view+json": {
       "model_id": "",
       "version_major": 2,
       "version_minor": 0
      },
      "text/plain": [
       "HBox(children=(IntProgress(value=0, max=5), HTML(value='')))"
      ]
     },
     "metadata": {},
     "output_type": "display_data"
    },
    {
     "name": "stdout",
     "output_type": "stream",
     "text": [
      "{'n_estimators': 300, 'num_leaves': 63, 'max_depth': -1}\n",
      "Train score: 10576 ± 38\n",
      "Test score: 7839 ± 111\n",
      "\n"
     ]
    },
    {
     "data": {
      "application/vnd.jupyter.widget-view+json": {
       "model_id": "",
       "version_major": 2,
       "version_minor": 0
      },
      "text/plain": [
       "HBox(children=(IntProgress(value=0, max=5), HTML(value='')))"
      ]
     },
     "metadata": {},
     "output_type": "display_data"
    },
    {
     "name": "stdout",
     "output_type": "stream",
     "text": [
      "{'n_estimators': 300, 'num_leaves': 63, 'max_depth': 7}\n",
      "Train score: 10224 ± 35\n",
      "Test score: 7856 ± 81\n",
      "\n"
     ]
    },
    {
     "data": {
      "application/vnd.jupyter.widget-view+json": {
       "model_id": "",
       "version_major": 2,
       "version_minor": 0
      },
      "text/plain": [
       "HBox(children=(IntProgress(value=0, max=5), HTML(value='')))"
      ]
     },
     "metadata": {},
     "output_type": "display_data"
    },
    {
     "name": "stdout",
     "output_type": "stream",
     "text": [
      "{'n_estimators': 300, 'num_leaves': 63, 'max_depth': 8}\n",
      "Train score: 10357 ± 34\n",
      "Test score: 7849 ± 73\n",
      "\n",
      "\n"
     ]
    }
   ],
   "source": [
    "results = run_cross_validation(parameters)"
   ]
  },
  {
   "cell_type": "code",
   "execution_count": 12,
   "metadata": {
    "ExecuteTime": {
     "end_time": "2019-02-07T05:50:48.830708Z",
     "start_time": "2019-02-07T05:50:48.809273Z"
    }
   },
   "outputs": [
    {
     "data": {
      "text/html": [
       "<div>\n",
       "<style scoped>\n",
       "    .dataframe tbody tr th:only-of-type {\n",
       "        vertical-align: middle;\n",
       "    }\n",
       "\n",
       "    .dataframe tbody tr th {\n",
       "        vertical-align: top;\n",
       "    }\n",
       "\n",
       "    .dataframe thead th {\n",
       "        text-align: right;\n",
       "    }\n",
       "</style>\n",
       "<table border=\"1\" class=\"dataframe\">\n",
       "  <thead>\n",
       "    <tr style=\"text-align: right;\">\n",
       "      <th></th>\n",
       "      <th>n_estimators</th>\n",
       "      <th>num_leaves</th>\n",
       "      <th>max_depth</th>\n",
       "      <th>train_score_mean</th>\n",
       "      <th>train_score_std</th>\n",
       "      <th>test_score_mean</th>\n",
       "      <th>test_score_std</th>\n",
       "    </tr>\n",
       "  </thead>\n",
       "  <tbody>\n",
       "    <tr>\n",
       "      <th>1</th>\n",
       "      <td>100</td>\n",
       "      <td>31</td>\n",
       "      <td>7</td>\n",
       "      <td>8432.843554</td>\n",
       "      <td>35.381687</td>\n",
       "      <td>7755.229662</td>\n",
       "      <td>73.818026</td>\n",
       "    </tr>\n",
       "    <tr>\n",
       "      <th>2</th>\n",
       "      <td>100</td>\n",
       "      <td>31</td>\n",
       "      <td>8</td>\n",
       "      <td>8443.412820</td>\n",
       "      <td>25.070837</td>\n",
       "      <td>7762.700175</td>\n",
       "      <td>49.525359</td>\n",
       "    </tr>\n",
       "    <tr>\n",
       "      <th>0</th>\n",
       "      <td>100</td>\n",
       "      <td>31</td>\n",
       "      <td>-1</td>\n",
       "      <td>8479.503869</td>\n",
       "      <td>28.566061</td>\n",
       "      <td>7797.511420</td>\n",
       "      <td>59.726690</td>\n",
       "    </tr>\n",
       "    <tr>\n",
       "      <th>7</th>\n",
       "      <td>200</td>\n",
       "      <td>31</td>\n",
       "      <td>7</td>\n",
       "      <td>8978.954237</td>\n",
       "      <td>32.070849</td>\n",
       "      <td>7807.626582</td>\n",
       "      <td>91.006896</td>\n",
       "    </tr>\n",
       "    <tr>\n",
       "      <th>4</th>\n",
       "      <td>100</td>\n",
       "      <td>63</td>\n",
       "      <td>7</td>\n",
       "      <td>8936.237597</td>\n",
       "      <td>29.836261</td>\n",
       "      <td>7809.859706</td>\n",
       "      <td>51.681942</td>\n",
       "    </tr>\n",
       "    <tr>\n",
       "      <th>3</th>\n",
       "      <td>100</td>\n",
       "      <td>63</td>\n",
       "      <td>-1</td>\n",
       "      <td>9254.467900</td>\n",
       "      <td>29.145777</td>\n",
       "      <td>7813.187474</td>\n",
       "      <td>91.726775</td>\n",
       "    </tr>\n",
       "    <tr>\n",
       "      <th>5</th>\n",
       "      <td>100</td>\n",
       "      <td>63</td>\n",
       "      <td>8</td>\n",
       "      <td>9042.218309</td>\n",
       "      <td>23.958498</td>\n",
       "      <td>7817.380500</td>\n",
       "      <td>56.549865</td>\n",
       "    </tr>\n",
       "    <tr>\n",
       "      <th>6</th>\n",
       "      <td>200</td>\n",
       "      <td>31</td>\n",
       "      <td>-1</td>\n",
       "      <td>9080.422888</td>\n",
       "      <td>23.390798</td>\n",
       "      <td>7820.454845</td>\n",
       "      <td>64.032141</td>\n",
       "    </tr>\n",
       "    <tr>\n",
       "      <th>14</th>\n",
       "      <td>300</td>\n",
       "      <td>31</td>\n",
       "      <td>8</td>\n",
       "      <td>9425.634304</td>\n",
       "      <td>42.740422</td>\n",
       "      <td>7822.290394</td>\n",
       "      <td>68.839296</td>\n",
       "    </tr>\n",
       "    <tr>\n",
       "      <th>8</th>\n",
       "      <td>200</td>\n",
       "      <td>31</td>\n",
       "      <td>8</td>\n",
       "      <td>9002.980816</td>\n",
       "      <td>45.348058</td>\n",
       "      <td>7824.119566</td>\n",
       "      <td>47.716391</td>\n",
       "    </tr>\n",
       "    <tr>\n",
       "      <th>11</th>\n",
       "      <td>200</td>\n",
       "      <td>63</td>\n",
       "      <td>8</td>\n",
       "      <td>9810.186937</td>\n",
       "      <td>14.767116</td>\n",
       "      <td>7824.677341</td>\n",
       "      <td>55.671222</td>\n",
       "    </tr>\n",
       "    <tr>\n",
       "      <th>13</th>\n",
       "      <td>300</td>\n",
       "      <td>31</td>\n",
       "      <td>7</td>\n",
       "      <td>9391.974218</td>\n",
       "      <td>26.838735</td>\n",
       "      <td>7826.045534</td>\n",
       "      <td>94.334158</td>\n",
       "    </tr>\n",
       "    <tr>\n",
       "      <th>12</th>\n",
       "      <td>300</td>\n",
       "      <td>31</td>\n",
       "      <td>-1</td>\n",
       "      <td>9525.003303</td>\n",
       "      <td>23.206496</td>\n",
       "      <td>7834.106558</td>\n",
       "      <td>64.637410</td>\n",
       "    </tr>\n",
       "    <tr>\n",
       "      <th>15</th>\n",
       "      <td>300</td>\n",
       "      <td>63</td>\n",
       "      <td>-1</td>\n",
       "      <td>10575.853355</td>\n",
       "      <td>37.986249</td>\n",
       "      <td>7839.170676</td>\n",
       "      <td>111.294264</td>\n",
       "    </tr>\n",
       "    <tr>\n",
       "      <th>17</th>\n",
       "      <td>300</td>\n",
       "      <td>63</td>\n",
       "      <td>8</td>\n",
       "      <td>10356.623291</td>\n",
       "      <td>34.361812</td>\n",
       "      <td>7849.240303</td>\n",
       "      <td>72.512919</td>\n",
       "    </tr>\n",
       "    <tr>\n",
       "      <th>9</th>\n",
       "      <td>200</td>\n",
       "      <td>63</td>\n",
       "      <td>-1</td>\n",
       "      <td>10040.680797</td>\n",
       "      <td>30.525771</td>\n",
       "      <td>7851.143286</td>\n",
       "      <td>97.958815</td>\n",
       "    </tr>\n",
       "    <tr>\n",
       "      <th>16</th>\n",
       "      <td>300</td>\n",
       "      <td>63</td>\n",
       "      <td>7</td>\n",
       "      <td>10224.128876</td>\n",
       "      <td>34.817078</td>\n",
       "      <td>7855.700942</td>\n",
       "      <td>81.313620</td>\n",
       "    </tr>\n",
       "    <tr>\n",
       "      <th>10</th>\n",
       "      <td>200</td>\n",
       "      <td>63</td>\n",
       "      <td>7</td>\n",
       "      <td>9659.739618</td>\n",
       "      <td>17.583754</td>\n",
       "      <td>7859.192379</td>\n",
       "      <td>88.844503</td>\n",
       "    </tr>\n",
       "  </tbody>\n",
       "</table>\n",
       "</div>"
      ],
      "text/plain": [
       "    n_estimators  num_leaves  max_depth  train_score_mean  train_score_std  \\\n",
       "1            100          31          7       8432.843554        35.381687   \n",
       "2            100          31          8       8443.412820        25.070837   \n",
       "0            100          31         -1       8479.503869        28.566061   \n",
       "7            200          31          7       8978.954237        32.070849   \n",
       "4            100          63          7       8936.237597        29.836261   \n",
       "3            100          63         -1       9254.467900        29.145777   \n",
       "5            100          63          8       9042.218309        23.958498   \n",
       "6            200          31         -1       9080.422888        23.390798   \n",
       "14           300          31          8       9425.634304        42.740422   \n",
       "8            200          31          8       9002.980816        45.348058   \n",
       "11           200          63          8       9810.186937        14.767116   \n",
       "13           300          31          7       9391.974218        26.838735   \n",
       "12           300          31         -1       9525.003303        23.206496   \n",
       "15           300          63         -1      10575.853355        37.986249   \n",
       "17           300          63          8      10356.623291        34.361812   \n",
       "9            200          63         -1      10040.680797        30.525771   \n",
       "16           300          63          7      10224.128876        34.817078   \n",
       "10           200          63          7       9659.739618        17.583754   \n",
       "\n",
       "    test_score_mean  test_score_std  \n",
       "1       7755.229662       73.818026  \n",
       "2       7762.700175       49.525359  \n",
       "0       7797.511420       59.726690  \n",
       "7       7807.626582       91.006896  \n",
       "4       7809.859706       51.681942  \n",
       "3       7813.187474       91.726775  \n",
       "5       7817.380500       56.549865  \n",
       "6       7820.454845       64.032141  \n",
       "14      7822.290394       68.839296  \n",
       "8       7824.119566       47.716391  \n",
       "11      7824.677341       55.671222  \n",
       "13      7826.045534       94.334158  \n",
       "12      7834.106558       64.637410  \n",
       "15      7839.170676      111.294264  \n",
       "17      7849.240303       72.512919  \n",
       "9       7851.143286       97.958815  \n",
       "16      7855.700942       81.313620  \n",
       "10      7859.192379       88.844503  "
      ]
     },
     "execution_count": 12,
     "metadata": {},
     "output_type": "execute_result"
    }
   ],
   "source": [
    "results.sort_values(by='test_score_mean')"
   ]
  },
  {
   "cell_type": "code",
   "execution_count": 13,
   "metadata": {
    "ExecuteTime": {
     "end_time": "2019-02-07T05:57:42.934228Z",
     "start_time": "2019-02-07T05:57:42.930308Z"
    }
   },
   "outputs": [],
   "source": [
    "parameters = {'n_estimators': [200], 'num_leaves': [63], 'max_depth': [-1, 6, 7], 'learning_rate': [0.3, 0.1, 0.02]}"
   ]
  },
  {
   "cell_type": "code",
   "execution_count": 14,
   "metadata": {
    "ExecuteTime": {
     "end_time": "2019-02-07T07:24:32.173389Z",
     "start_time": "2019-02-07T05:58:10.274189Z"
    }
   },
   "outputs": [
    {
     "data": {
      "application/vnd.jupyter.widget-view+json": {
       "model_id": "6e8007c45499412c9f9c7c809d59a4c7",
       "version_major": 2,
       "version_minor": 0
      },
      "text/plain": [
       "HBox(children=(IntProgress(value=0, max=9), HTML(value='')))"
      ]
     },
     "metadata": {},
     "output_type": "display_data"
    },
    {
     "data": {
      "application/vnd.jupyter.widget-view+json": {
       "model_id": "",
       "version_major": 2,
       "version_minor": 0
      },
      "text/plain": [
       "HBox(children=(IntProgress(value=0, max=5), HTML(value='')))"
      ]
     },
     "metadata": {},
     "output_type": "display_data"
    },
    {
     "name": "stdout",
     "output_type": "stream",
     "text": [
      "{'n_estimators': 200, 'num_leaves': 63, 'max_depth': -1, 'learning_rate': 0.3}\n",
      "Train score: 11348 ± 43\n",
      "Test score: 7625 ± 121\n",
      "\n"
     ]
    },
    {
     "data": {
      "application/vnd.jupyter.widget-view+json": {
       "model_id": "",
       "version_major": 2,
       "version_minor": 0
      },
      "text/plain": [
       "HBox(children=(IntProgress(value=0, max=5), HTML(value='')))"
      ]
     },
     "metadata": {},
     "output_type": "display_data"
    },
    {
     "name": "stdout",
     "output_type": "stream",
     "text": [
      "{'n_estimators': 200, 'num_leaves': 63, 'max_depth': -1, 'learning_rate': 0.1}\n",
      "Train score: 10041 ± 31\n",
      "Test score: 7851 ± 98\n",
      "\n"
     ]
    },
    {
     "data": {
      "application/vnd.jupyter.widget-view+json": {
       "model_id": "",
       "version_major": 2,
       "version_minor": 0
      },
      "text/plain": [
       "HBox(children=(IntProgress(value=0, max=5), HTML(value='')))"
      ]
     },
     "metadata": {},
     "output_type": "display_data"
    },
    {
     "name": "stdout",
     "output_type": "stream",
     "text": [
      "{'n_estimators': 200, 'num_leaves': 63, 'max_depth': -1, 'learning_rate': 0.02}\n",
      "Train score: 8463 ± 22\n",
      "Test score: 7739 ± 65\n",
      "\n"
     ]
    },
    {
     "data": {
      "application/vnd.jupyter.widget-view+json": {
       "model_id": "",
       "version_major": 2,
       "version_minor": 0
      },
      "text/plain": [
       "HBox(children=(IntProgress(value=0, max=5), HTML(value='')))"
      ]
     },
     "metadata": {},
     "output_type": "display_data"
    },
    {
     "name": "stdout",
     "output_type": "stream",
     "text": [
      "{'n_estimators': 200, 'num_leaves': 63, 'max_depth': 6, 'learning_rate': 0.3}\n",
      "Train score: 10763 ± 19\n",
      "Test score: 7690 ± 70\n",
      "\n"
     ]
    },
    {
     "data": {
      "application/vnd.jupyter.widget-view+json": {
       "model_id": "",
       "version_major": 2,
       "version_minor": 0
      },
      "text/plain": [
       "HBox(children=(IntProgress(value=0, max=5), HTML(value='')))"
      ]
     },
     "metadata": {},
     "output_type": "display_data"
    },
    {
     "name": "stdout",
     "output_type": "stream",
     "text": [
      "{'n_estimators': 200, 'num_leaves': 63, 'max_depth': 6, 'learning_rate': 0.1}\n",
      "Train score: 9304 ± 26\n",
      "Test score: 7846 ± 73\n",
      "\n"
     ]
    },
    {
     "data": {
      "application/vnd.jupyter.widget-view+json": {
       "model_id": "",
       "version_major": 2,
       "version_minor": 0
      },
      "text/plain": [
       "HBox(children=(IntProgress(value=0, max=5), HTML(value='')))"
      ]
     },
     "metadata": {},
     "output_type": "display_data"
    },
    {
     "name": "stdout",
     "output_type": "stream",
     "text": [
      "{'n_estimators': 200, 'num_leaves': 63, 'max_depth': 6, 'learning_rate': 0.02}\n",
      "Train score: 8156 ± 24\n",
      "Test score: 7702 ± 42\n",
      "\n"
     ]
    },
    {
     "data": {
      "application/vnd.jupyter.widget-view+json": {
       "model_id": "",
       "version_major": 2,
       "version_minor": 0
      },
      "text/plain": [
       "HBox(children=(IntProgress(value=0, max=5), HTML(value='')))"
      ]
     },
     "metadata": {},
     "output_type": "display_data"
    },
    {
     "name": "stdout",
     "output_type": "stream",
     "text": [
      "{'n_estimators': 200, 'num_leaves': 63, 'max_depth': 7, 'learning_rate': 0.3}\n",
      "Train score: 11082 ± 37\n",
      "Test score: 7656 ± 119\n",
      "\n"
     ]
    },
    {
     "data": {
      "application/vnd.jupyter.widget-view+json": {
       "model_id": "",
       "version_major": 2,
       "version_minor": 0
      },
      "text/plain": [
       "HBox(children=(IntProgress(value=0, max=5), HTML(value='')))"
      ]
     },
     "metadata": {},
     "output_type": "display_data"
    },
    {
     "name": "stdout",
     "output_type": "stream",
     "text": [
      "{'n_estimators': 200, 'num_leaves': 63, 'max_depth': 7, 'learning_rate': 0.1}\n",
      "Train score: 9660 ± 18\n",
      "Test score: 7859 ± 89\n",
      "\n"
     ]
    },
    {
     "data": {
      "application/vnd.jupyter.widget-view+json": {
       "model_id": "",
       "version_major": 2,
       "version_minor": 0
      },
      "text/plain": [
       "HBox(children=(IntProgress(value=0, max=5), HTML(value='')))"
      ]
     },
     "metadata": {},
     "output_type": "display_data"
    },
    {
     "name": "stdout",
     "output_type": "stream",
     "text": [
      "{'n_estimators': 200, 'num_leaves': 63, 'max_depth': 7, 'learning_rate': 0.02}\n",
      "Train score: 8296 ± 19\n",
      "Test score: 7751 ± 48\n",
      "\n",
      "\n"
     ]
    }
   ],
   "source": [
    "results = run_cross_validation(parameters)"
   ]
  }
 ],
 "metadata": {
  "kernelspec": {
   "display_name": "Python 3",
   "language": "python",
   "name": "python3"
  },
  "language_info": {
   "codemirror_mode": {
    "name": "ipython",
    "version": 3
   },
   "file_extension": ".py",
   "mimetype": "text/x-python",
   "name": "python",
   "nbconvert_exporter": "python",
   "pygments_lexer": "ipython3",
   "version": "3.6.6"
  }
 },
 "nbformat": 4,
 "nbformat_minor": 2
}
