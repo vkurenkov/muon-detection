{
 "cells": [
  {
   "cell_type": "markdown",
   "metadata": {},
   "source": [
    "Without stacking \n",
    "\n"
   ]
  },
  {
   "cell_type": "code",
   "execution_count": 11,
   "metadata": {
    "ExecuteTime": {
     "end_time": "2019-02-07T08:19:47.290095Z",
     "start_time": "2019-02-07T08:19:47.169736Z"
    }
   },
   "outputs": [],
   "source": [
    "import pandas as pd\n",
    "import numpy as np\n",
    "import lightgbm\n",
    "import joblib\n",
    "\n",
    "pd.options.display.max_rows = 80\n",
    "pd.options.display.max_columns = 80"
   ]
  },
  {
   "cell_type": "code",
   "execution_count": 2,
   "metadata": {
    "ExecuteTime": {
     "end_time": "2019-02-07T07:55:03.687593Z",
     "start_time": "2019-02-07T07:55:02.744307Z"
    }
   },
   "outputs": [],
   "source": [
    "data = pd.read_hdf(\"../../data/all_train_data.hdf\")\n",
    "target_labels = pd.read_hdf(\"../../data/train_labels.hdf\")"
   ]
  },
  {
   "cell_type": "code",
   "execution_count": 3,
   "metadata": {
    "ExecuteTime": {
     "end_time": "2019-02-07T07:55:03.697064Z",
     "start_time": "2019-02-07T07:55:03.689182Z"
    }
   },
   "outputs": [
    {
     "data": {
      "text/plain": [
       "((5445705, 89), (5445705, 2))"
      ]
     },
     "execution_count": 3,
     "metadata": {},
     "output_type": "execute_result"
    }
   ],
   "source": [
    "data.shape, target_labels.shape"
   ]
  },
  {
   "cell_type": "code",
   "execution_count": 4,
   "metadata": {
    "ExecuteTime": {
     "end_time": "2019-02-07T07:55:03.710226Z",
     "start_time": "2019-02-07T07:55:03.698327Z"
    }
   },
   "outputs": [],
   "source": [
    "import itertools\n",
    "\n",
    "new_columns = list(itertools.chain(*[[f'ClosestHit_{f}[{i}]' for i in range(4)]\n",
    "                                     for f in [\"X\", \"Y\", \"T\", \"z\", \"dx\", \"dy\"]]))\n",
    "\n",
    "rename_dict = dict(zip(range(24), new_columns))\n",
    "\n"
   ]
  },
  {
   "cell_type": "code",
   "execution_count": 5,
   "metadata": {
    "ExecuteTime": {
     "end_time": "2019-02-07T07:55:08.712390Z",
     "start_time": "2019-02-07T07:55:04.254910Z"
    }
   },
   "outputs": [],
   "source": [
    "data.rename(rename_dict, axis='columns', inplace=True)\n",
    "\n",
    "for j in range(4):\n",
    "    distance_to_center = 0\n",
    "    for i in [\"X\", \"Y\"]:\n",
    "        data[f'Lextra_ClosestHit_dt_{i}[{j}]'] = np.square(data[f'ClosestHit_{i}[{j}]'] - data[f'Lextra_{i}[{j}]'])\n",
    "        data[f'MatchedHit_ClosestHit_dt{i}[{j}]'] = np.square(data[f'ClosestHit_{i}[{j}]'] - data[f'MatchedHit_{i}[{j}]'])\n",
    "        distance_to_center += np.square(data[f'ClosestHit_{i}[{j}]'])\n",
    "    data[f'ClosestHit_to_Center[{j}]'] = np.sqrt(distance_to_center)"
   ]
  },
  {
   "cell_type": "code",
   "execution_count": 6,
   "metadata": {
    "ExecuteTime": {
     "end_time": "2019-02-07T07:55:08.717919Z",
     "start_time": "2019-02-07T07:55:08.714518Z"
    }
   },
   "outputs": [
    {
     "data": {
      "text/plain": [
       "((5445705, 109), (5445705, 2))"
      ]
     },
     "execution_count": 6,
     "metadata": {},
     "output_type": "execute_result"
    }
   ],
   "source": [
    "data.shape, target_labels.shape"
   ]
  },
  {
   "cell_type": "code",
   "execution_count": 7,
   "metadata": {
    "ExecuteTime": {
     "end_time": "2019-02-07T07:55:08.891180Z",
     "start_time": "2019-02-07T07:55:08.719369Z"
    }
   },
   "outputs": [],
   "source": [
    "target_labels.loc[target_labels['weight'] < 0, 'label'] = 1 - target_labels.loc[target_labels['weight'] < 0, 'label']\n",
    "target_labels.loc[target_labels['weight'] < 0, 'weight'] = - target_labels.loc[target_labels['weight'] < 0, 'weight']"
   ]
  },
  {
   "cell_type": "code",
   "execution_count": 8,
   "metadata": {
    "ExecuteTime": {
     "end_time": "2019-02-07T07:58:30.607099Z",
     "start_time": "2019-02-07T07:58:30.602626Z"
    }
   },
   "outputs": [],
   "source": [
    "model = lightgbm.LGBMClassifier(n_estimators=200, num_leaves=63, max_depth=7)"
   ]
  },
  {
   "cell_type": "code",
   "execution_count": 9,
   "metadata": {
    "ExecuteTime": {
     "end_time": "2019-02-07T08:00:50.668232Z",
     "start_time": "2019-02-07T07:58:56.869651Z"
    }
   },
   "outputs": [
    {
     "data": {
      "text/plain": [
       "LGBMClassifier(boosting_type='gbdt', class_weight=None, colsample_bytree=1.0,\n",
       "        importance_type='split', learning_rate=0.1, max_depth=7,\n",
       "        min_child_samples=20, min_child_weight=0.001, min_split_gain=0.0,\n",
       "        n_estimators=200, n_jobs=-1, num_leaves=63, objective=None,\n",
       "        random_state=None, reg_alpha=0.0, reg_lambda=0.0, silent=True,\n",
       "        subsample=1.0, subsample_for_bin=200000, subsample_freq=0)"
      ]
     },
     "execution_count": 9,
     "metadata": {},
     "output_type": "execute_result"
    }
   ],
   "source": [
    "model.fit(data, target_labels.label, sample_weight=target_labels.weight)"
   ]
  },
  {
   "cell_type": "code",
   "execution_count": 12,
   "metadata": {
    "ExecuteTime": {
     "end_time": "2019-02-07T08:19:58.315271Z",
     "start_time": "2019-02-07T08:19:58.285220Z"
    }
   },
   "outputs": [
    {
     "data": {
      "text/plain": [
       "['model_lgbm_1']"
      ]
     },
     "execution_count": 12,
     "metadata": {},
     "output_type": "execute_result"
    }
   ],
   "source": [
    "joblib.dump(model, 'model_lgbm_1')"
   ]
  },
  {
   "cell_type": "markdown",
   "metadata": {},
   "source": [
    "## Process training data"
   ]
  },
  {
   "cell_type": "code",
   "execution_count": 13,
   "metadata": {
    "ExecuteTime": {
     "end_time": "2019-02-07T08:20:14.916279Z",
     "start_time": "2019-02-07T08:20:14.901469Z"
    }
   },
   "outputs": [],
   "source": [
    "model = joblib.load('model_lgbm_1')"
   ]
  },
  {
   "cell_type": "code",
   "execution_count": 14,
   "metadata": {
    "ExecuteTime": {
     "end_time": "2019-02-07T08:20:16.575651Z",
     "start_time": "2019-02-07T08:20:16.423167Z"
    }
   },
   "outputs": [],
   "source": [
    "test_data = pd.read_hdf(\"../../data/all_test_data.hdf\")"
   ]
  },
  {
   "cell_type": "code",
   "execution_count": 15,
   "metadata": {
    "ExecuteTime": {
     "end_time": "2019-02-07T08:20:18.405693Z",
     "start_time": "2019-02-07T08:20:17.762194Z"
    }
   },
   "outputs": [],
   "source": [
    "test_data.rename(rename_dict, axis='columns', inplace=True)\n",
    "\n",
    "for j in range(4):\n",
    "    distance_to_center = 0\n",
    "    for i in [\"X\", \"Y\"]:\n",
    "        test_data[f'Lextra_ClosestHit_dt_{i}[{j}]'] = np.square(test_data[f'ClosestHit_{i}[{j}]'] - test_data[f'Lextra_{i}[{j}]'])\n",
    "        test_data[f'MatchedHit_ClosestHit_dt{i}[{j}]'] = np.square(test_data[f'ClosestHit_{i}[{j}]'] - test_data[f'MatchedHit_{i}[{j}]'])\n",
    "        distance_to_center += np.square(test_data[f'ClosestHit_{i}[{j}]'])\n",
    "    test_data[f'ClosestHit_to_Center[{j}]'] = np.sqrt(distance_to_center)"
   ]
  },
  {
   "cell_type": "code",
   "execution_count": 16,
   "metadata": {
    "ExecuteTime": {
     "end_time": "2019-02-07T08:20:21.837076Z",
     "start_time": "2019-02-07T08:20:18.999966Z"
    }
   },
   "outputs": [],
   "source": [
    "predicted_label = model.predict_proba(test_data)"
   ]
  },
  {
   "cell_type": "code",
   "execution_count": 17,
   "metadata": {
    "ExecuteTime": {
     "end_time": "2019-02-07T08:20:23.191024Z",
     "start_time": "2019-02-07T08:20:21.838593Z"
    }
   },
   "outputs": [],
   "source": [
    "pd.DataFrame(data={\"prediction\": predicted_label[:,1]}, index=test_data.index).to_csv(\n",
    "    \"sample_submission.csv\", index_label=\"id\")"
   ]
  },
  {
   "cell_type": "code",
   "execution_count": 18,
   "metadata": {
    "ExecuteTime": {
     "end_time": "2019-02-07T08:20:26.662963Z",
     "start_time": "2019-02-07T08:20:26.467525Z"
    }
   },
   "outputs": [],
   "source": [
    "ss = pd.read_csv(\"sample_submission.csv\")"
   ]
  },
  {
   "cell_type": "code",
   "execution_count": 19,
   "metadata": {
    "ExecuteTime": {
     "end_time": "2019-02-07T08:20:27.364692Z",
     "start_time": "2019-02-07T08:20:27.352421Z"
    }
   },
   "outputs": [
    {
     "data": {
      "text/html": [
       "<div>\n",
       "<style scoped>\n",
       "    .dataframe tbody tr th:only-of-type {\n",
       "        vertical-align: middle;\n",
       "    }\n",
       "\n",
       "    .dataframe tbody tr th {\n",
       "        vertical-align: top;\n",
       "    }\n",
       "\n",
       "    .dataframe thead th {\n",
       "        text-align: right;\n",
       "    }\n",
       "</style>\n",
       "<table border=\"1\" class=\"dataframe\">\n",
       "  <thead>\n",
       "    <tr style=\"text-align: right;\">\n",
       "      <th></th>\n",
       "      <th>id</th>\n",
       "      <th>prediction</th>\n",
       "    </tr>\n",
       "  </thead>\n",
       "  <tbody>\n",
       "    <tr>\n",
       "      <th>0</th>\n",
       "      <td>0</td>\n",
       "      <td>0.910409</td>\n",
       "    </tr>\n",
       "    <tr>\n",
       "      <th>1</th>\n",
       "      <td>1</td>\n",
       "      <td>0.669373</td>\n",
       "    </tr>\n",
       "    <tr>\n",
       "      <th>2</th>\n",
       "      <td>2</td>\n",
       "      <td>0.710130</td>\n",
       "    </tr>\n",
       "    <tr>\n",
       "      <th>3</th>\n",
       "      <td>3</td>\n",
       "      <td>0.794326</td>\n",
       "    </tr>\n",
       "    <tr>\n",
       "      <th>4</th>\n",
       "      <td>4</td>\n",
       "      <td>0.844219</td>\n",
       "    </tr>\n",
       "  </tbody>\n",
       "</table>\n",
       "</div>"
      ],
      "text/plain": [
       "   id  prediction\n",
       "0   0    0.910409\n",
       "1   1    0.669373\n",
       "2   2    0.710130\n",
       "3   3    0.794326\n",
       "4   4    0.844219"
      ]
     },
     "execution_count": 19,
     "metadata": {},
     "output_type": "execute_result"
    }
   ],
   "source": [
    "ss.head()"
   ]
  },
  {
   "cell_type": "code",
   "execution_count": null,
   "metadata": {},
   "outputs": [],
   "source": []
  }
 ],
 "metadata": {
  "kernelspec": {
   "display_name": "Python 3",
   "language": "python",
   "name": "python3"
  },
  "language_info": {
   "codemirror_mode": {
    "name": "ipython",
    "version": 3
   },
   "file_extension": ".py",
   "mimetype": "text/x-python",
   "name": "python",
   "nbconvert_exporter": "python",
   "pygments_lexer": "ipython3",
   "version": "3.6.6"
  }
 },
 "nbformat": 4,
 "nbformat_minor": 2
}
