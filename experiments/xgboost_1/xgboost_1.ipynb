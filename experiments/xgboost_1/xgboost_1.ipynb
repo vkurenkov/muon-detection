{
 "cells": [
  {
   "cell_type": "markdown",
   "metadata": {},
   "source": [
    "Without stacking \n",
    "\n"
   ]
  },
  {
   "cell_type": "code",
   "execution_count": 10,
   "metadata": {
    "ExecuteTime": {
     "end_time": "2019-02-07T15:58:18.546694Z",
     "start_time": "2019-02-07T15:58:18.533048Z"
    }
   },
   "outputs": [],
   "source": [
    "import pandas as pd\n",
    "import numpy as np\n",
    "import xgboost\n",
    "import joblib\n",
    "\n",
    "pd.options.display.max_rows = 80\n",
    "pd.options.display.max_columns = 80"
   ]
  },
  {
   "cell_type": "code",
   "execution_count": 11,
   "metadata": {
    "ExecuteTime": {
     "end_time": "2019-02-07T15:58:19.337030Z",
     "start_time": "2019-02-07T15:58:18.548336Z"
    }
   },
   "outputs": [],
   "source": [
    "data = pd.read_hdf(\"../../data/all_train_data.hdf\")\n",
    "target_labels = pd.read_hdf(\"../../data/train_labels.hdf\")"
   ]
  },
  {
   "cell_type": "code",
   "execution_count": 12,
   "metadata": {
    "ExecuteTime": {
     "end_time": "2019-02-07T15:58:19.342735Z",
     "start_time": "2019-02-07T15:58:19.338422Z"
    }
   },
   "outputs": [
    {
     "data": {
      "text/plain": [
       "((5445705, 89), (5445705, 2))"
      ]
     },
     "execution_count": 12,
     "metadata": {},
     "output_type": "execute_result"
    }
   ],
   "source": [
    "data.shape, target_labels.shape"
   ]
  },
  {
   "cell_type": "code",
   "execution_count": 13,
   "metadata": {
    "ExecuteTime": {
     "end_time": "2019-02-07T15:58:19.355908Z",
     "start_time": "2019-02-07T15:58:19.345855Z"
    }
   },
   "outputs": [],
   "source": [
    "import itertools\n",
    "\n",
    "new_columns = list(itertools.chain(*[[f'ClosestHit_{f}[{i}]' for i in range(4)]\n",
    "                                     for f in [\"X\", \"Y\", \"T\", \"z\", \"dx\", \"dy\"]]))\n",
    "\n",
    "rename_dict = dict(zip(range(24), new_columns))\n",
    "\n"
   ]
  },
  {
   "cell_type": "code",
   "execution_count": 14,
   "metadata": {
    "ExecuteTime": {
     "end_time": "2019-02-07T15:58:23.507834Z",
     "start_time": "2019-02-07T15:58:19.357584Z"
    }
   },
   "outputs": [],
   "source": [
    "data.rename(rename_dict, axis='columns', inplace=True)\n",
    "\n",
    "for j in range(4):\n",
    "    distance_to_center = 0\n",
    "    for i in [\"X\", \"Y\"]:\n",
    "        data[f'Lextra_ClosestHit_dt_{i}[{j}]'] = np.square(data[f'ClosestHit_{i}[{j}]'] - data[f'Lextra_{i}[{j}]'])\n",
    "        data[f'MatchedHit_ClosestHit_dt{i}[{j}]'] = np.square(data[f'ClosestHit_{i}[{j}]'] - data[f'MatchedHit_{i}[{j}]'])\n",
    "        distance_to_center += np.square(data[f'ClosestHit_{i}[{j}]'])\n",
    "    data[f'ClosestHit_to_Center[{j}]'] = np.sqrt(distance_to_center)"
   ]
  },
  {
   "cell_type": "code",
   "execution_count": 15,
   "metadata": {
    "ExecuteTime": {
     "end_time": "2019-02-07T15:58:26.006286Z",
     "start_time": "2019-02-07T15:58:23.509505Z"
    }
   },
   "outputs": [],
   "source": [
    "# replace '[' and ']' because xgboost doesn't accept them inside column names\n",
    "\n",
    "rename_dict_2 = dict(zip(data.columns, data.columns.str.replace('[', '{', regex=False).str.replace(']', '}', regex=False)))\n",
    "data.rename(rename_dict_2, axis='columns', inplace=True)"
   ]
  },
  {
   "cell_type": "code",
   "execution_count": 16,
   "metadata": {
    "ExecuteTime": {
     "end_time": "2019-02-07T15:58:26.011132Z",
     "start_time": "2019-02-07T15:58:26.007877Z"
    }
   },
   "outputs": [
    {
     "data": {
      "text/plain": [
       "((5445705, 109), (5445705, 2))"
      ]
     },
     "execution_count": 16,
     "metadata": {},
     "output_type": "execute_result"
    }
   ],
   "source": [
    "data.shape, target_labels.shape"
   ]
  },
  {
   "cell_type": "code",
   "execution_count": 17,
   "metadata": {
    "ExecuteTime": {
     "end_time": "2019-02-07T15:58:26.144151Z",
     "start_time": "2019-02-07T15:58:26.012552Z"
    }
   },
   "outputs": [],
   "source": [
    "target_labels.loc[target_labels['weight'] < 0, 'label'] = 1 - target_labels.loc[target_labels['weight'] < 0, 'label']\n",
    "target_labels.loc[target_labels['weight'] < 0, 'weight'] = - target_labels.loc[target_labels['weight'] < 0, 'weight']"
   ]
  },
  {
   "cell_type": "code",
   "execution_count": 18,
   "metadata": {
    "ExecuteTime": {
     "end_time": "2019-02-07T15:58:26.148150Z",
     "start_time": "2019-02-07T15:58:26.145978Z"
    }
   },
   "outputs": [],
   "source": [
    "model = xgboost.XGBClassifier(max_depth=7, n_estimators=100, njobs=12)"
   ]
  },
  {
   "cell_type": "code",
   "execution_count": null,
   "metadata": {
    "ExecuteTime": {
     "start_time": "2019-02-07T15:58:30.785Z"
    }
   },
   "outputs": [
    {
     "name": "stdout",
     "output_type": "stream",
     "text": [
      "[15:58:41] Tree method is automatically selected to be 'approx' for faster speed. to use old behavior(exact greedy algorithm on single machine), set tree_method to 'exact'\n"
     ]
    }
   ],
   "source": [
    "model.fit(data, target_labels.label, sample_weight=target_labels.weight)"
   ]
  },
  {
   "cell_type": "code",
   "execution_count": null,
   "metadata": {
    "ExecuteTime": {
     "start_time": "2019-02-07T15:58:31.979Z"
    }
   },
   "outputs": [],
   "source": [
    "joblib.dump(model, 'model_xgboost_1')"
   ]
  },
  {
   "cell_type": "markdown",
   "metadata": {},
   "source": [
    "## Process training data"
   ]
  },
  {
   "cell_type": "code",
   "execution_count": null,
   "metadata": {
    "ExecuteTime": {
     "start_time": "2019-02-07T15:58:33.075Z"
    }
   },
   "outputs": [],
   "source": [
    "model = joblib.load('model_xgboost_1')"
   ]
  },
  {
   "cell_type": "code",
   "execution_count": null,
   "metadata": {
    "ExecuteTime": {
     "start_time": "2019-02-07T15:58:33.389Z"
    }
   },
   "outputs": [],
   "source": [
    "test_data = pd.read_hdf(\"../../data/all_test_data.hdf\")"
   ]
  },
  {
   "cell_type": "code",
   "execution_count": null,
   "metadata": {
    "ExecuteTime": {
     "start_time": "2019-02-07T15:58:33.770Z"
    }
   },
   "outputs": [],
   "source": [
    "test_data.rename(rename_dict, axis='columns', inplace=True)\n",
    "\n",
    "for j in range(4):\n",
    "    distance_to_center = 0\n",
    "    for i in [\"X\", \"Y\"]:\n",
    "        test_data[f'Lextra_ClosestHit_dt_{i}[{j}]'] = np.square(test_data[f'ClosestHit_{i}[{j}]'] - test_data[f'Lextra_{i}[{j}]'])\n",
    "        test_data[f'MatchedHit_ClosestHit_dt{i}[{j}]'] = np.square(test_data[f'ClosestHit_{i}[{j}]'] - test_data[f'MatchedHit_{i}[{j}]'])\n",
    "        distance_to_center += np.square(test_data[f'ClosestHit_{i}[{j}]'])\n",
    "    test_data[f'ClosestHit_to_Center[{j}]'] = np.sqrt(distance_to_center)"
   ]
  },
  {
   "cell_type": "code",
   "execution_count": null,
   "metadata": {
    "ExecuteTime": {
     "start_time": "2019-02-07T15:58:34.246Z"
    }
   },
   "outputs": [],
   "source": [
    "test_data.rename(rename_dict_2, axis='columns', inplace=True)"
   ]
  },
  {
   "cell_type": "code",
   "execution_count": null,
   "metadata": {
    "ExecuteTime": {
     "start_time": "2019-02-07T15:58:35.019Z"
    }
   },
   "outputs": [],
   "source": [
    "predicted_label = model.predict_proba(test_data)"
   ]
  },
  {
   "cell_type": "code",
   "execution_count": null,
   "metadata": {
    "ExecuteTime": {
     "start_time": "2019-02-07T15:58:35.392Z"
    }
   },
   "outputs": [],
   "source": [
    "pd.DataFrame(data={\"prediction\": predicted_label[:,1]}, index=test_data.index).to_csv(\n",
    "    \"sample_submission.csv\", index_label=\"id\")"
   ]
  },
  {
   "cell_type": "code",
   "execution_count": null,
   "metadata": {
    "ExecuteTime": {
     "start_time": "2019-02-07T15:58:35.994Z"
    }
   },
   "outputs": [],
   "source": [
    "ss = pd.read_csv(\"sample_submission.csv\")"
   ]
  },
  {
   "cell_type": "code",
   "execution_count": null,
   "metadata": {
    "ExecuteTime": {
     "start_time": "2019-02-07T18:06:22.202Z"
    }
   },
   "outputs": [],
   "source": [
    "ss.head()"
   ]
  }
 ],
 "metadata": {
  "kernelspec": {
   "display_name": "Python 3",
   "language": "python",
   "name": "python3"
  },
  "language_info": {
   "codemirror_mode": {
    "name": "ipython",
    "version": 3
   },
   "file_extension": ".py",
   "mimetype": "text/x-python",
   "name": "python",
   "nbconvert_exporter": "python",
   "pygments_lexer": "ipython3",
   "version": "3.6.6"
  }
 },
 "nbformat": 4,
 "nbformat_minor": 2
}
