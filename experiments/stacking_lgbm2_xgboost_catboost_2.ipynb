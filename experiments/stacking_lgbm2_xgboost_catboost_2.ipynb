{
 "cells": [
  {
   "cell_type": "code",
   "execution_count": 18,
   "metadata": {
    "ExecuteTime": {
     "end_time": "2019-02-07T20:53:48.039939Z",
     "start_time": "2019-02-07T20:53:48.036858Z"
    }
   },
   "outputs": [],
   "source": [
    "import sys\n",
    "sys.path.append('../..')"
   ]
  },
  {
   "cell_type": "code",
   "execution_count": 1,
   "metadata": {
    "ExecuteTime": {
     "end_time": "2019-02-07T19:44:48.417911Z",
     "start_time": "2019-02-07T19:44:47.859051Z"
    }
   },
   "outputs": [],
   "source": [
    "import pandas as pd\n",
    "import numpy as np\n",
    "import catboost\n",
    "import sys\n",
    "import os\n",
    "sys.path.append(os.path.abspath('..'))\n",
    "import utils\n",
    "import scoring\n",
    "import lightgbm\n",
    "import xgboost\n",
    "from sklearn.neighbors.nearest_centroid import NearestCentroid\n",
    "from sklearn.ensemble import RandomForestClassifier\n",
    "from sklearn.linear_model import RidgeClassifier\n",
    "from sklearn.model_selection import train_test_split, KFold\n",
    "from sklearn.svm import SVC\n",
    "import itertools\n",
    "\n",
    "%matplotlib inline"
   ]
  },
  {
   "cell_type": "code",
   "execution_count": 2,
   "metadata": {
    "ExecuteTime": {
     "end_time": "2019-02-07T19:44:49.328124Z",
     "start_time": "2019-02-07T19:44:48.419387Z"
    }
   },
   "outputs": [],
   "source": [
    "data = pd.read_hdf(\"../data/all_train_data.hdf\")\n",
    "target_labels = pd.read_hdf(\"../data/train_labels.hdf\")"
   ]
  },
  {
   "cell_type": "code",
   "execution_count": 3,
   "metadata": {
    "ExecuteTime": {
     "end_time": "2019-02-07T19:44:49.334566Z",
     "start_time": "2019-02-07T19:44:49.329760Z"
    }
   },
   "outputs": [],
   "source": [
    "# Apply inplace\n",
    "def preprocess_data(data: pd.DataFrame):\n",
    "    new_columns = list(itertools.chain(*[[f'ClosestHit_{f}[{i}]' for i in range(4)] for f in [\"X\", \"Y\", \"T\", \"z\", \"dx\", \"dy\"]]))\n",
    "    rename_dict = dict(zip(range(24), new_columns))\n",
    "    data.rename(rename_dict, axis='columns', inplace=True)\n",
    "    \n",
    "    for j in range(4):\n",
    "        distance_to_center = 0\n",
    "        mh_distance_to_center = 0\n",
    "        for i in [\"X\", \"Y\"]:\n",
    "            data[f'Lextra_ClosestHit_dt_{i}[{j}]'] = np.square(data[f'ClosestHit_{i}[{j}]'] - data[f'Lextra_{i}[{j}]'])\n",
    "            data[f'MatchedHit_ClosestHit_dt{i}[{j}]'] = np.square(data[f'ClosestHit_{i}[{j}]'] - data[f'MatchedHit_{i}[{j}]'])\n",
    "            data[f'MatchedHit_Lextra_dt{i}[{j}]'] = np.square(data[f'Lextra_{i}[{j}]'] - data[f'MatchedHit_{i}[{j}]'])\n",
    "            distance_to_center += np.square(data[f'ClosestHit_{i}[{j}]'])\n",
    "            mh_distance_to_center += np.square(data[f'MatchedHit_{i}[{j}]'])                                     \n",
    "        data[f'ClosestHit_to_Center[{j}]'] = np.sqrt(distance_to_center)\n",
    "        data[f'MachtedHit_to_Center[{j}]'] = np.sqrt(mh_distance_to_center)\n",
    "    \n",
    "    "
   ]
  },
  {
   "cell_type": "code",
   "execution_count": 4,
   "metadata": {
    "ExecuteTime": {
     "end_time": "2019-02-07T19:44:54.008344Z",
     "start_time": "2019-02-07T19:44:49.335960Z"
    }
   },
   "outputs": [],
   "source": [
    "preprocess_data(data)"
   ]
  },
  {
   "cell_type": "code",
   "execution_count": 5,
   "metadata": {
    "ExecuteTime": {
     "end_time": "2019-02-07T19:45:01.993322Z",
     "start_time": "2019-02-07T19:44:54.010175Z"
    }
   },
   "outputs": [],
   "source": [
    "train_x, test_x, train_y, test_y, = train_test_split(data, target_labels, test_size=0.4)\n"
   ]
  },
  {
   "cell_type": "code",
   "execution_count": 6,
   "metadata": {
    "ExecuteTime": {
     "end_time": "2019-02-07T19:45:02.121494Z",
     "start_time": "2019-02-07T19:45:01.994953Z"
    }
   },
   "outputs": [
    {
     "name": "stderr",
     "output_type": "stream",
     "text": [
      "/usr/local/lib/python3.6/dist-packages/pandas/core/indexing.py:543: SettingWithCopyWarning: \n",
      "A value is trying to be set on a copy of a slice from a DataFrame.\n",
      "Try using .loc[row_indexer,col_indexer] = value instead\n",
      "\n",
      "See the caveats in the documentation: http://pandas.pydata.org/pandas-docs/stable/indexing.html#indexing-view-versus-copy\n",
      "  self.obj[item] = s\n",
      "/usr/local/lib/python3.6/dist-packages/pandas/core/generic.py:4405: SettingWithCopyWarning: \n",
      "A value is trying to be set on a copy of a slice from a DataFrame.\n",
      "Try using .loc[row_indexer,col_indexer] = value instead\n",
      "\n",
      "See the caveats in the documentation: http://pandas.pydata.org/pandas-docs/stable/indexing.html#indexing-view-versus-copy\n",
      "  self[name] = value\n"
     ]
    }
   ],
   "source": [
    "train_y.loc[train_y.weight < 0, 'label'] = 1 - train_y.loc[train_y.weight < 0, 'label'] # Invert labels\n",
    "train_y.weight = train_y.weight.abs() # Take absolute weights\n"
   ]
  },
  {
   "cell_type": "code",
   "execution_count": null,
   "metadata": {
    "ExecuteTime": {
     "end_time": "2019-02-07T19:45:02.126691Z",
     "start_time": "2019-02-07T19:45:02.123401Z"
    }
   },
   "outputs": [],
   "source": [
    "lgbm = lightgbm.LGBMClassifier(num_leaves=60, n_estimators=200, max_depth=7, n_jobs=-1)\n",
    "catb = catboost.CatBoostClassifier(n_estimators=800, depth=7, thread_count=12, verbose=False)\n",
    "lgbm2 = lightgbm.LGBMClassifier(num_leaves=31, n_estimators=50,\n",
    "                                n_jobs=-1, boosting_type=\"dart\", learning_rate=0.3)\n",
    "xgbt = xgboost.XGBClassifier(n_estimators=250, max_depth=7, n_jobs=12)"
   ]
  },
  {
   "cell_type": "code",
   "execution_count": 38,
   "metadata": {
    "ExecuteTime": {
     "end_time": "2019-02-08T07:05:46.053858Z",
     "start_time": "2019-02-08T07:05:46.049983Z"
    }
   },
   "outputs": [],
   "source": [
    "models = [lgbm, catb, lgbm2]"
   ]
  },
  {
   "cell_type": "code",
   "execution_count": 8,
   "metadata": {
    "ExecuteTime": {
     "end_time": "2019-02-07T19:45:02.141319Z",
     "start_time": "2019-02-07T19:45:02.127872Z"
    }
   },
   "outputs": [],
   "source": [
    "train_x.columns = train_x.columns.str.replace(\"[\", \"\").str.replace(\"]\", \"\")"
   ]
  },
  {
   "cell_type": "code",
   "execution_count": 9,
   "metadata": {
    "ExecuteTime": {
     "end_time": "2019-02-07T20:36:52.764040Z",
     "start_time": "2019-02-07T19:45:02.142949Z"
    },
    "scrolled": true
   },
   "outputs": [
    {
     "name": "stdout",
     "output_type": "stream",
     "text": [
      "<class 'lightgbm.sklearn.LGBMClassifier'> is training.\n",
      "<class 'catboost.core.CatBoostClassifier'> is training.\n",
      "<class 'lightgbm.sklearn.LGBMClassifier'> is training.\n",
      "<class 'xgboost.sklearn.XGBClassifier'> is training.\n"
     ]
    }
   ],
   "source": [
    "for model in models:\n",
    "    print(f\"{model.__class__} is training.\")\n",
    "    model.fit(train_x, train_y.label, sample_weight=train_y.weight)"
   ]
  },
  {
   "cell_type": "code",
   "execution_count": 10,
   "metadata": {
    "ExecuteTime": {
     "end_time": "2019-02-07T20:36:52.828376Z",
     "start_time": "2019-02-07T20:36:52.766908Z"
    }
   },
   "outputs": [],
   "source": [
    "del train_x, train_y"
   ]
  },
  {
   "cell_type": "markdown",
   "metadata": {},
   "source": [
    "## Stacking part"
   ]
  },
  {
   "cell_type": "code",
   "execution_count": 11,
   "metadata": {
    "ExecuteTime": {
     "end_time": "2019-02-07T20:36:52.842150Z",
     "start_time": "2019-02-07T20:36:52.829882Z"
    }
   },
   "outputs": [],
   "source": [
    "# Define meta classifier\n",
    "meta_clf = lightgbm.LGBMClassifier(num_leaves=5, n_estimators=200, learning_rate=0.1, n_jobs=-1)\n"
   ]
  },
  {
   "cell_type": "code",
   "execution_count": 14,
   "metadata": {
    "ExecuteTime": {
     "end_time": "2019-02-07T20:39:58.307100Z",
     "start_time": "2019-02-07T20:39:58.301432Z"
    }
   },
   "outputs": [],
   "source": [
    "test_x.columns = test_x.columns.str.replace(\"[\", \"\").str.replace(\"]\", \"\")"
   ]
  },
  {
   "cell_type": "markdown",
   "metadata": {},
   "source": [
    "Cross validate it"
   ]
  },
  {
   "cell_type": "code",
   "execution_count": 39,
   "metadata": {
    "ExecuteTime": {
     "end_time": "2019-02-08T07:08:42.926286Z",
     "start_time": "2019-02-08T07:05:51.314952Z"
    }
   },
   "outputs": [
    {
     "name": "stdout",
     "output_type": "stream",
     "text": [
      "Train score: 5748.12, test score: 5600.83\n",
      "Train score: 5746.30, test score: 5630.58\n",
      "Train score: 5760.88, test score: 5607.80\n",
      "Train score: 5691.69, test score: 5684.30\n",
      "Train score: 5742.23, test score: 5731.03\n",
      "Train mean score: 5737.85, test mean score: 5650.91\n"
     ]
    }
   ],
   "source": [
    "k =  KFold(n_splits=5)\n",
    "test_scores = []\n",
    "train_scores = []\n",
    "for train_index, test_index in k.split(test_x, test_y):\n",
    "    \n",
    "    mf_train_x, mf_test_x = test_x.iloc[train_index], test_x.iloc[test_index]\n",
    "    mf_train_y, mf_test_y = test_y.iloc[train_index].copy(), test_y.iloc[test_index]\n",
    "    \n",
    "    mf_train_y_true = mf_train_y.copy()\n",
    "    \n",
    "    # Invert labels & take absolute weights\n",
    "    mf_train_y.loc[mf_train_y.weight < 0, 'label'] = 1 - mf_train_y.loc[mf_train_y.weight < 0, 'label'] \n",
    "    mf_train_y.weight = mf_train_y.weight.abs()\n",
    "\n",
    "    \n",
    "    meta_features = np.array([m.predict_proba(mf_train_x)[:,1] for m in models]).T\n",
    "    \n",
    " \n",
    "    meta_clf.fit(meta_features, mf_train_y.label, sample_weight = mf_train_y.weight)\n",
    "    \n",
    "   \n",
    "    meta_features_test = np.array([m.predict_proba(mf_test_x)[:,1] for m in models]).T\n",
    "\n",
    "    \n",
    "    train_preds = meta_clf.predict_proba(meta_features)[:, 1]\n",
    "    train_score = 10000 * scoring.rejection90(np.array(mf_train_y_true.label),\n",
    "                                      train_preds,\n",
    "                                      sample_weight=np.array(mf_train_y_true.weight))\n",
    "    train_scores.append(train_score)\n",
    "    \n",
    "    test_preds = meta_clf.predict_proba(meta_features_test)[:, 1]\n",
    "    test_score = 10000* scoring.rejection90(np.array(mf_test_y.label),\n",
    "                                       test_preds,\n",
    "                                       sample_weight=np.array(mf_test_y.weight)) \n",
    "    test_scores.append(test_score)\n",
    "    \n",
    "    print(f\"Train score: {train_score:.2f}, test score: {test_score:.2f}\")\n",
    "\n",
    "print(f\"Train mean score: {np.mean(train_scores):.2f}, test mean score: {np.mean(test_scores):.2f}\")\n"
   ]
  },
  {
   "cell_type": "code",
   "execution_count": 40,
   "metadata": {
    "ExecuteTime": {
     "end_time": "2019-02-08T07:08:42.968410Z",
     "start_time": "2019-02-08T07:08:42.928172Z"
    }
   },
   "outputs": [
    {
     "data": {
      "text/html": [
       "<div>\n",
       "<style scoped>\n",
       "    .dataframe tbody tr th:only-of-type {\n",
       "        vertical-align: middle;\n",
       "    }\n",
       "\n",
       "    .dataframe tbody tr th {\n",
       "        vertical-align: top;\n",
       "    }\n",
       "\n",
       "    .dataframe thead th {\n",
       "        text-align: right;\n",
       "    }\n",
       "</style>\n",
       "<table border=\"1\" class=\"dataframe\">\n",
       "  <thead>\n",
       "    <tr style=\"text-align: right;\">\n",
       "      <th></th>\n",
       "      <th>0</th>\n",
       "      <th>1</th>\n",
       "      <th>2</th>\n",
       "    </tr>\n",
       "  </thead>\n",
       "  <tbody>\n",
       "    <tr>\n",
       "      <th>0</th>\n",
       "      <td>1.000000</td>\n",
       "      <td>0.905865</td>\n",
       "      <td>0.953671</td>\n",
       "    </tr>\n",
       "    <tr>\n",
       "      <th>1</th>\n",
       "      <td>0.905865</td>\n",
       "      <td>1.000000</td>\n",
       "      <td>0.883156</td>\n",
       "    </tr>\n",
       "    <tr>\n",
       "      <th>2</th>\n",
       "      <td>0.953671</td>\n",
       "      <td>0.883156</td>\n",
       "      <td>1.000000</td>\n",
       "    </tr>\n",
       "  </tbody>\n",
       "</table>\n",
       "</div>"
      ],
      "text/plain": [
       "          0         1         2\n",
       "0  1.000000  0.905865  0.953671\n",
       "1  0.905865  1.000000  0.883156\n",
       "2  0.953671  0.883156  1.000000"
      ]
     },
     "execution_count": 40,
     "metadata": {},
     "output_type": "execute_result"
    }
   ],
   "source": [
    "pd.DataFrame(meta_features).corr()"
   ]
  },
  {
   "cell_type": "code",
   "execution_count": 41,
   "metadata": {
    "ExecuteTime": {
     "end_time": "2019-02-08T07:09:09.740876Z",
     "start_time": "2019-02-08T07:09:09.733149Z"
    }
   },
   "outputs": [
    {
     "data": {
      "text/plain": [
       "5650.906388307127"
      ]
     },
     "execution_count": 41,
     "metadata": {},
     "output_type": "execute_result"
    }
   ],
   "source": [
    "np.mean(test_scores)"
   ]
  },
  {
   "cell_type": "code",
   "execution_count": 42,
   "metadata": {
    "ExecuteTime": {
     "end_time": "2019-02-08T07:09:10.053765Z",
     "start_time": "2019-02-08T07:09:10.046941Z"
    }
   },
   "outputs": [
    {
     "data": {
      "text/plain": [
       "49.62727125874402"
      ]
     },
     "execution_count": 42,
     "metadata": {},
     "output_type": "execute_result"
    }
   ],
   "source": [
    "np.std(test_scores)"
   ]
  },
  {
   "cell_type": "code",
   "execution_count": 43,
   "metadata": {
    "ExecuteTime": {
     "end_time": "2019-02-08T07:09:10.294635Z",
     "start_time": "2019-02-08T07:09:10.290434Z"
    }
   },
   "outputs": [
    {
     "data": {
      "text/plain": [
       "5737.847268067641"
      ]
     },
     "execution_count": 43,
     "metadata": {},
     "output_type": "execute_result"
    }
   ],
   "source": [
    "np.mean(train_scores)"
   ]
  },
  {
   "cell_type": "code",
   "execution_count": 44,
   "metadata": {
    "ExecuteTime": {
     "end_time": "2019-02-08T07:09:10.640553Z",
     "start_time": "2019-02-08T07:09:10.634020Z"
    }
   },
   "outputs": [
    {
     "data": {
      "text/plain": [
       "23.90430640675209"
      ]
     },
     "execution_count": 44,
     "metadata": {},
     "output_type": "execute_result"
    }
   ],
   "source": [
    "np.std(train_scores)"
   ]
  },
  {
   "cell_type": "markdown",
   "metadata": {
    "ExecuteTime": {
     "end_time": "2019-02-04T04:34:06.984969Z",
     "start_time": "2019-02-04T04:34:06.982461Z"
    }
   },
   "source": [
    "\n",
    "\n",
    "Check overfitting and score\n"
   ]
  },
  {
   "cell_type": "code",
   "execution_count": 45,
   "metadata": {
    "ExecuteTime": {
     "end_time": "2019-02-08T07:10:20.920132Z",
     "start_time": "2019-02-08T07:09:52.262000Z"
    }
   },
   "outputs": [
    {
     "name": "stderr",
     "output_type": "stream",
     "text": [
      "/usr/local/lib/python3.6/dist-packages/pandas/core/indexing.py:543: SettingWithCopyWarning: \n",
      "A value is trying to be set on a copy of a slice from a DataFrame.\n",
      "Try using .loc[row_indexer,col_indexer] = value instead\n",
      "\n",
      "See the caveats in the documentation: http://pandas.pydata.org/pandas-docs/stable/indexing.html#indexing-view-versus-copy\n",
      "  self.obj[item] = s\n",
      "/usr/local/lib/python3.6/dist-packages/pandas/core/generic.py:4405: SettingWithCopyWarning: \n",
      "A value is trying to be set on a copy of a slice from a DataFrame.\n",
      "Try using .loc[row_indexer,col_indexer] = value instead\n",
      "\n",
      "See the caveats in the documentation: http://pandas.pydata.org/pandas-docs/stable/indexing.html#indexing-view-versus-copy\n",
      "  self[name] = value\n"
     ]
    }
   ],
   "source": [
    "all_meta_features = np.concatenate([m.predict_proba(test_x)[:,1].reshape(-1, 1) for m in models], axis=1)\n",
    "\n",
    "test_y.loc[test_y.weight < 0, 'label'] = 1 - test_y.loc[test_y.weight < 0, 'label'] \n",
    "test_y.weight = test_y.weight.abs()"
   ]
  },
  {
   "cell_type": "code",
   "execution_count": 46,
   "metadata": {
    "ExecuteTime": {
     "end_time": "2019-02-08T07:10:24.867593Z",
     "start_time": "2019-02-08T07:10:20.921672Z"
    }
   },
   "outputs": [
    {
     "data": {
      "text/plain": [
       "LGBMClassifier(boosting_type='gbdt', class_weight=None, colsample_bytree=1.0,\n",
       "        importance_type='split', learning_rate=0.1, max_depth=-1,\n",
       "        min_child_samples=20, min_child_weight=0.001, min_split_gain=0.0,\n",
       "        n_estimators=200, n_jobs=-1, num_leaves=5, objective=None,\n",
       "        random_state=None, reg_alpha=0.0, reg_lambda=0.0, silent=True,\n",
       "        subsample=1.0, subsample_for_bin=200000, subsample_freq=0)"
      ]
     },
     "execution_count": 46,
     "metadata": {},
     "output_type": "execute_result"
    }
   ],
   "source": [
    "mf_lgbm = lightgbm.LGBMClassifier(num_leaves=5, n_estimators=200, learning_rate=0.1, n_jobs=-1)\n",
    "\n",
    "mf_lgbm.fit(all_meta_features, test_y.label, sample_weight = test_y.weight)"
   ]
  },
  {
   "cell_type": "markdown",
   "metadata": {},
   "source": [
    "# Make prediction"
   ]
  },
  {
   "cell_type": "code",
   "execution_count": 47,
   "metadata": {
    "ExecuteTime": {
     "end_time": "2019-02-08T07:12:50.040510Z",
     "start_time": "2019-02-08T07:12:49.255200Z"
    }
   },
   "outputs": [],
   "source": [
    "# Make prediction\n",
    "submission_data = pd.read_hdf(\"../data/all_test_data.hdf\")\n",
    "\n",
    "preprocess_data(submission_data)\n"
   ]
  },
  {
   "cell_type": "code",
   "execution_count": 48,
   "metadata": {
    "ExecuteTime": {
     "end_time": "2019-02-08T07:12:50.044916Z",
     "start_time": "2019-02-08T07:12:50.042024Z"
    }
   },
   "outputs": [],
   "source": [
    "submission_data.columns = submission_data.columns.str.replace(\"[\", \"\").str.replace(\"]\", \"\")"
   ]
  },
  {
   "cell_type": "code",
   "execution_count": 49,
   "metadata": {
    "ExecuteTime": {
     "end_time": "2019-02-08T07:13:00.533950Z",
     "start_time": "2019-02-08T07:12:50.338104Z"
    }
   },
   "outputs": [],
   "source": [
    "submission_meta_features = np.concatenate([m.predict_proba(submission_data)[:,1].reshape(-1, 1) for m in models], axis=1)\n"
   ]
  },
  {
   "cell_type": "code",
   "execution_count": 50,
   "metadata": {
    "ExecuteTime": {
     "end_time": "2019-02-08T07:13:00.879222Z",
     "start_time": "2019-02-08T07:13:00.535555Z"
    }
   },
   "outputs": [],
   "source": [
    "submission_y = meta_clf.predict_proba(submission_meta_features)[:, 1]"
   ]
  },
  {
   "cell_type": "code",
   "execution_count": 51,
   "metadata": {
    "ExecuteTime": {
     "end_time": "2019-02-08T07:13:02.312850Z",
     "start_time": "2019-02-08T07:13:00.880898Z"
    }
   },
   "outputs": [],
   "source": [
    "pd.DataFrame(data={\"prediction\": submission_y}, index=submission_data.index).to_csv(\n",
    "    \"stacking_lgbm_lgbm_catboost_xgboost.csv\", index_label=\"id\")"
   ]
  },
  {
   "cell_type": "code",
   "execution_count": null,
   "metadata": {},
   "outputs": [],
   "source": []
  }
 ],
 "metadata": {
  "kernelspec": {
   "display_name": "Python 3",
   "language": "python",
   "name": "python3"
  },
  "language_info": {
   "codemirror_mode": {
    "name": "ipython",
    "version": 3
   },
   "file_extension": ".py",
   "mimetype": "text/x-python",
   "name": "python",
   "nbconvert_exporter": "python",
   "pygments_lexer": "ipython3",
   "version": "3.6.6"
  }
 },
 "nbformat": 4,
 "nbformat_minor": 2
}
