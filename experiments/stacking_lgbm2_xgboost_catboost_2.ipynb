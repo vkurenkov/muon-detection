{
 "cells": [
  {
   "cell_type": "code",
   "execution_count": 18,
   "metadata": {
    "ExecuteTime": {
     "end_time": "2019-02-07T20:53:48.039939Z",
     "start_time": "2019-02-07T20:53:48.036858Z"
    }
   },
   "outputs": [],
   "source": [
    "import sys\n",
    "sys.path.append('../..')"
   ]
  },
  {
   "cell_type": "code",
   "execution_count": 1,
   "metadata": {
    "ExecuteTime": {
     "end_time": "2019-02-07T19:44:48.417911Z",
     "start_time": "2019-02-07T19:44:47.859051Z"
    }
   },
   "outputs": [],
   "source": [
    "import pandas as pd\n",
    "import numpy as np\n",
    "import catboost\n",
    "import sys\n",
    "import os\n",
    "sys.path.append(os.path.abspath('..'))\n",
    "import utils\n",
    "import scoring\n",
    "import lightgbm\n",
    "import xgboost\n",
    "from sklearn.neighbors.nearest_centroid import NearestCentroid\n",
    "from sklearn.ensemble import RandomForestClassifier\n",
    "from sklearn.linear_model import RidgeClassifier\n",
    "from sklearn.model_selection import train_test_split, KFold\n",
    "from sklearn.svm import SVC\n",
    "import itertools\n",
    "\n",
    "%matplotlib inline"
   ]
  },
  {
   "cell_type": "code",
   "execution_count": 2,
   "metadata": {
    "ExecuteTime": {
     "end_time": "2019-02-07T19:44:49.328124Z",
     "start_time": "2019-02-07T19:44:48.419387Z"
    }
   },
   "outputs": [],
   "source": [
    "data = pd.read_hdf(\"../data/all_train_data.hdf\")\n",
    "target_labels = pd.read_hdf(\"../data/train_labels.hdf\")"
   ]
  },
  {
   "cell_type": "code",
   "execution_count": 3,
   "metadata": {
    "ExecuteTime": {
     "end_time": "2019-02-07T19:44:49.334566Z",
     "start_time": "2019-02-07T19:44:49.329760Z"
    }
   },
   "outputs": [],
   "source": [
    "# Apply inplace\n",
    "def preprocess_data(data: pd.DataFrame):\n",
    "    new_columns = list(itertools.chain(*[[f'ClosestHit_{f}[{i}]' for i in range(4)] for f in [\"X\", \"Y\", \"T\", \"z\", \"dx\", \"dy\"]]))\n",
    "    rename_dict = dict(zip(range(24), new_columns))\n",
    "    data.rename(rename_dict, axis='columns', inplace=True)\n",
    "    \n",
    "    for j in range(4):\n",
    "        distance_to_center = 0\n",
    "        mh_distance_to_center = 0\n",
    "        for i in [\"X\", \"Y\"]:\n",
    "            data[f'Lextra_ClosestHit_dt_{i}[{j}]'] = np.square(data[f'ClosestHit_{i}[{j}]'] - data[f'Lextra_{i}[{j}]'])\n",
    "            data[f'MatchedHit_ClosestHit_dt{i}[{j}]'] = np.square(data[f'ClosestHit_{i}[{j}]'] - data[f'MatchedHit_{i}[{j}]'])\n",
    "            data[f'MatchedHit_Lextra_dt{i}[{j}]'] = np.square(data[f'Lextra_{i}[{j}]'] - data[f'MatchedHit_{i}[{j}]'])\n",
    "            distance_to_center += np.square(data[f'ClosestHit_{i}[{j}]'])\n",
    "            mh_distance_to_center += np.square(data[f'MatchedHit_{i}[{j}]'])                                     \n",
    "        data[f'ClosestHit_to_Center[{j}]'] = np.sqrt(distance_to_center)\n",
    "        data[f'MachtedHit_to_Center[{j}]'] = np.sqrt(mh_distance_to_center)\n",
    "    \n",
    "    "
   ]
  },
  {
   "cell_type": "code",
   "execution_count": 4,
   "metadata": {
    "ExecuteTime": {
     "end_time": "2019-02-07T19:44:54.008344Z",
     "start_time": "2019-02-07T19:44:49.335960Z"
    }
   },
   "outputs": [],
   "source": [
    "preprocess_data(data)"
   ]
  },
  {
   "cell_type": "code",
   "execution_count": 5,
   "metadata": {
    "ExecuteTime": {
     "end_time": "2019-02-07T19:45:01.993322Z",
     "start_time": "2019-02-07T19:44:54.010175Z"
    }
   },
   "outputs": [],
   "source": [
    "train_x, test_x, train_y, test_y, = train_test_split(data, target_labels, test_size=0.4)\n"
   ]
  },
  {
   "cell_type": "code",
   "execution_count": 6,
   "metadata": {
    "ExecuteTime": {
     "end_time": "2019-02-07T19:45:02.121494Z",
     "start_time": "2019-02-07T19:45:01.994953Z"
    }
   },
   "outputs": [
    {
     "name": "stderr",
     "output_type": "stream",
     "text": [
      "/usr/local/lib/python3.6/dist-packages/pandas/core/indexing.py:543: SettingWithCopyWarning: \n",
      "A value is trying to be set on a copy of a slice from a DataFrame.\n",
      "Try using .loc[row_indexer,col_indexer] = value instead\n",
      "\n",
      "See the caveats in the documentation: http://pandas.pydata.org/pandas-docs/stable/indexing.html#indexing-view-versus-copy\n",
      "  self.obj[item] = s\n",
      "/usr/local/lib/python3.6/dist-packages/pandas/core/generic.py:4405: SettingWithCopyWarning: \n",
      "A value is trying to be set on a copy of a slice from a DataFrame.\n",
      "Try using .loc[row_indexer,col_indexer] = value instead\n",
      "\n",
      "See the caveats in the documentation: http://pandas.pydata.org/pandas-docs/stable/indexing.html#indexing-view-versus-copy\n",
      "  self[name] = value\n"
     ]
    }
   ],
   "source": [
    "train_y.loc[train_y.weight < 0, 'label'] = 1 - train_y.loc[train_y.weight < 0, 'label'] # Invert labels\n",
    "train_y.weight = train_y.weight.abs() # Take absolute weights\n"
   ]
  },
  {
   "cell_type": "code",
   "execution_count": 7,
   "metadata": {
    "ExecuteTime": {
     "end_time": "2019-02-07T19:45:02.126691Z",
     "start_time": "2019-02-07T19:45:02.123401Z"
    }
   },
   "outputs": [],
   "source": [
    "lgbm = lightgbm.LGBMClassifier(num_leaves=60, n_estimators=200, max_depth=7, n_jobs=-1)\n",
    "catb = catboost.CatBoostClassifier(n_estimators=800, depth=7, thread_count=12, verbose=False)\n",
    "lgbm2 = lightgbm.LGBMClassifier(num_leaves=31, n_estimators=50,\n",
    "                                n_jobs=-1, boosting_type=\"dart\", learning_rate=0.3)\n",
    "xgbt = xgboost.XGBClassifier(n_estimators=250, max_depth=7, n_jobs=12)\n",
    "models = [lgbm, catb, lgbm2, xgbt]"
   ]
  },
  {
   "cell_type": "code",
   "execution_count": 8,
   "metadata": {
    "ExecuteTime": {
     "end_time": "2019-02-07T19:45:02.141319Z",
     "start_time": "2019-02-07T19:45:02.127872Z"
    }
   },
   "outputs": [],
   "source": [
    "train_x.columns = train_x.columns.str.replace(\"[\", \"\").str.replace(\"]\", \"\")"
   ]
  },
  {
   "cell_type": "code",
   "execution_count": 9,
   "metadata": {
    "ExecuteTime": {
     "end_time": "2019-02-07T20:36:52.764040Z",
     "start_time": "2019-02-07T19:45:02.142949Z"
    },
    "scrolled": true
   },
   "outputs": [
    {
     "name": "stdout",
     "output_type": "stream",
     "text": [
      "<class 'lightgbm.sklearn.LGBMClassifier'> is training.\n",
      "<class 'catboost.core.CatBoostClassifier'> is training.\n",
      "<class 'lightgbm.sklearn.LGBMClassifier'> is training.\n",
      "<class 'xgboost.sklearn.XGBClassifier'> is training.\n"
     ]
    }
   ],
   "source": [
    "for model in models:\n",
    "    print(f\"{model.__class__} is training.\")\n",
    "    model.fit(train_x, train_y.label, sample_weight=train_y.weight)"
   ]
  },
  {
   "cell_type": "code",
   "execution_count": 10,
   "metadata": {
    "ExecuteTime": {
     "end_time": "2019-02-07T20:36:52.828376Z",
     "start_time": "2019-02-07T20:36:52.766908Z"
    }
   },
   "outputs": [],
   "source": [
    "del train_x, train_y"
   ]
  },
  {
   "cell_type": "markdown",
   "metadata": {},
   "source": [
    "## Stacking part"
   ]
  },
  {
   "cell_type": "code",
   "execution_count": 11,
   "metadata": {
    "ExecuteTime": {
     "end_time": "2019-02-07T20:36:52.842150Z",
     "start_time": "2019-02-07T20:36:52.829882Z"
    }
   },
   "outputs": [],
   "source": [
    "# Define meta classifier\n",
    "meta_clf = lightgbm.LGBMClassifier(num_leaves=5, n_estimators=200, learning_rate=0.1, n_jobs=-1)\n"
   ]
  },
  {
   "cell_type": "code",
   "execution_count": 14,
   "metadata": {
    "ExecuteTime": {
     "end_time": "2019-02-07T20:39:58.307100Z",
     "start_time": "2019-02-07T20:39:58.301432Z"
    }
   },
   "outputs": [],
   "source": [
    "test_x.columns = test_x.columns.str.replace(\"[\", \"\").str.replace(\"]\", \"\")"
   ]
  },
  {
   "cell_type": "markdown",
   "metadata": {},
   "source": [
    "Cross validate it"
   ]
  },
  {
   "cell_type": "code",
   "execution_count": null,
   "metadata": {
    "ExecuteTime": {
     "start_time": "2019-02-07T21:04:36.736Z"
    }
   },
   "outputs": [
    {
     "name": "stdout",
     "output_type": "stream",
     "text": [
      "(1742625, 4)\n",
      "Train score: 5780.35, test score: 7800.83\n",
      "(1742625, 4)\n",
      "Train score: 5805.89, test score: 7962.21\n"
     ]
    }
   ],
   "source": [
    "k =  KFold(n_splits=5)\n",
    "test_scores = []\n",
    "train_scores = []\n",
    "for train_index, test_index in k.split(test_x, test_y):\n",
    "    \n",
    "    mf_train_x, mf_test_x = test_x.iloc[train_index], test_x.iloc[test_index]\n",
    "    mf_train_y, mf_test_y = test_y.iloc[train_index].copy(), test_y.iloc[test_index]\n",
    "    \n",
    "    # Invert labels & take absolute weights\n",
    "    mf_train_y.loc[mf_train_y.weight < 0, 'label'] = 1 - mf_train_y.loc[mf_train_y.weight < 0, 'label'] \n",
    "    mf_train_y.weight = mf_train_y.weight.abs()\n",
    "\n",
    "    \n",
    "    meta_features = np.concatenate([m.predict_proba(mf_train_x)[:,1].reshape(-1, 1) for m in models], axis=1)\n",
    "    print(meta_features.shape)\n",
    "#     break\n",
    "    meta_clf.fit(meta_features, mf_train_y.label, sample_weight = mf_train_y.weight)\n",
    "    \n",
    "   \n",
    "    meta_features_test = np.concatenate([m.predict_proba(mf_test_x)[:,1].reshape(-1, 1) for m in models], axis=1)\n",
    "\n",
    "    \n",
    "    train_preds = meta_clf.predict_proba(meta_features)[:, 1]\n",
    "    train_score = 10000 * scoring.rejection90(np.array(mf_train_y.label),\n",
    "                                      train_preds,\n",
    "                                      sample_weight=np.array(mf_train_y.weight))\n",
    "    train_scores.append(train_score)\n",
    "    \n",
    "    test_preds = meta_clf.predict_proba(meta_features_test)[:, 1]\n",
    "    test_score = 10000* scoring.rejection90(np.array(mf_test_y.label),\n",
    "                                       test_preds,\n",
    "                                       sample_weight=np.array(mf_test_y.weight)) \n",
    "    test_scores.append(test_score)\n",
    "    \n",
    "    print(f\"Train score: {train_score:.2f}, test score: {test_score:.2f}\")\n",
    "\n",
    "print(f\"Train mean score: {np.mean(train_scores):.2f}, test mean score: {np.mean(test_scores):.2f}\")\n"
   ]
  },
  {
   "cell_type": "code",
   "execution_count": 21,
   "metadata": {
    "ExecuteTime": {
     "end_time": "2019-02-08T06:29:29.975116Z",
     "start_time": "2019-02-08T06:29:29.965640Z"
    }
   },
   "outputs": [
    {
     "data": {
      "text/plain": [
       "7877.978243829323"
      ]
     },
     "execution_count": 21,
     "metadata": {},
     "output_type": "execute_result"
    }
   ],
   "source": [
    "np.mean(test_scores)"
   ]
  },
  {
   "cell_type": "code",
   "execution_count": 22,
   "metadata": {
    "ExecuteTime": {
     "end_time": "2019-02-08T06:29:43.247345Z",
     "start_time": "2019-02-08T06:29:43.241036Z"
    }
   },
   "outputs": [
    {
     "data": {
      "text/plain": [
       "210.10624077699526"
      ]
     },
     "execution_count": 22,
     "metadata": {},
     "output_type": "execute_result"
    }
   ],
   "source": [
    "np.std(test_scores)"
   ]
  },
  {
   "cell_type": "code",
   "execution_count": 23,
   "metadata": {
    "ExecuteTime": {
     "end_time": "2019-02-08T06:30:44.121136Z",
     "start_time": "2019-02-08T06:30:44.116653Z"
    }
   },
   "outputs": [
    {
     "data": {
      "text/plain": [
       "5778.03189553093"
      ]
     },
     "execution_count": 23,
     "metadata": {},
     "output_type": "execute_result"
    }
   ],
   "source": [
    "np.mean(train_scores)"
   ]
  },
  {
   "cell_type": "code",
   "execution_count": 24,
   "metadata": {
    "ExecuteTime": {
     "end_time": "2019-02-08T06:30:54.364029Z",
     "start_time": "2019-02-08T06:30:54.356908Z"
    }
   },
   "outputs": [
    {
     "data": {
      "text/plain": [
       "17.10877657681273"
      ]
     },
     "execution_count": 24,
     "metadata": {},
     "output_type": "execute_result"
    }
   ],
   "source": [
    "np.std(train_scores)"
   ]
  },
  {
   "cell_type": "markdown",
   "metadata": {
    "ExecuteTime": {
     "end_time": "2019-02-04T04:34:06.984969Z",
     "start_time": "2019-02-04T04:34:06.982461Z"
    }
   },
   "source": [
    "\n",
    "\n",
    "Check overfitting and score\n"
   ]
  },
  {
   "cell_type": "code",
   "execution_count": null,
   "metadata": {
    "ExecuteTime": {
     "end_time": "2019-02-08T06:33:15.216597Z",
     "start_time": "2019-02-08T06:32:37.926270Z"
    }
   },
   "outputs": [],
   "source": [
    "all_meta_features = np.concatenate([m.predict_proba(test_x)[:,1].reshape(-1, 1) for m in models], axis=1)\n",
    "\n",
    "test_y.loc[test_y.weight < 0, 'label'] = 1 - test_y.loc[test_y.weight < 0, 'label'] \n",
    "test_y.weight = test_y.weight.abs()"
   ]
  },
  {
   "cell_type": "code",
   "execution_count": 26,
   "metadata": {
    "ExecuteTime": {
     "end_time": "2019-02-08T06:34:55.307540Z",
     "start_time": "2019-02-08T06:34:51.325548Z"
    }
   },
   "outputs": [
    {
     "data": {
      "text/plain": [
       "LGBMClassifier(boosting_type='gbdt', class_weight=None, colsample_bytree=1.0,\n",
       "        importance_type='split', learning_rate=0.1, max_depth=-1,\n",
       "        min_child_samples=20, min_child_weight=0.001, min_split_gain=0.0,\n",
       "        n_estimators=200, n_jobs=-1, num_leaves=5, objective=None,\n",
       "        random_state=None, reg_alpha=0.0, reg_lambda=0.0, silent=True,\n",
       "        subsample=1.0, subsample_for_bin=200000, subsample_freq=0)"
      ]
     },
     "execution_count": 26,
     "metadata": {},
     "output_type": "execute_result"
    }
   ],
   "source": [
    "mf_lgbm = lightgbm.LGBMClassifier(num_leaves=5, n_estimators=200, learning_rate=0.1, n_jobs=-1)\n",
    "\n",
    "mf_lgbm.fit(all_meta_features, test_y.label, sample_weight = test_y.weight)"
   ]
  },
  {
   "cell_type": "markdown",
   "metadata": {},
   "source": [
    "# Make prediction"
   ]
  },
  {
   "cell_type": "code",
   "execution_count": 28,
   "metadata": {
    "ExecuteTime": {
     "end_time": "2019-02-08T06:35:46.516361Z",
     "start_time": "2019-02-08T06:35:45.739533Z"
    }
   },
   "outputs": [],
   "source": [
    "# Make prediction\n",
    "submission_data = pd.read_hdf(\"../data/all_test_data.hdf\")\n",
    "\n",
    "preprocess_data(submission_data)\n"
   ]
  },
  {
   "cell_type": "code",
   "execution_count": 29,
   "metadata": {
    "ExecuteTime": {
     "end_time": "2019-02-08T06:35:47.895856Z",
     "start_time": "2019-02-08T06:35:47.890249Z"
    }
   },
   "outputs": [],
   "source": [
    "submission_data.columns = submission_data.columns.str.replace(\"[\", \"\").str.replace(\"]\", \"\")"
   ]
  },
  {
   "cell_type": "code",
   "execution_count": 31,
   "metadata": {
    "ExecuteTime": {
     "end_time": "2019-02-08T06:36:36.849401Z",
     "start_time": "2019-02-08T06:36:24.191029Z"
    }
   },
   "outputs": [],
   "source": [
    "submission_meta_features = np.concatenate([m.predict_proba(submission_data)[:,1].reshape(-1, 1) for m in models], axis=1)\n"
   ]
  },
  {
   "cell_type": "code",
   "execution_count": 32,
   "metadata": {
    "ExecuteTime": {
     "end_time": "2019-02-08T06:36:40.924943Z",
     "start_time": "2019-02-08T06:36:40.545766Z"
    }
   },
   "outputs": [],
   "source": [
    "submission_y = meta_clf.predict_proba(submission_meta_features)[:, 1]"
   ]
  },
  {
   "cell_type": "code",
   "execution_count": 33,
   "metadata": {
    "ExecuteTime": {
     "end_time": "2019-02-08T06:36:47.878320Z",
     "start_time": "2019-02-08T06:36:46.480603Z"
    }
   },
   "outputs": [],
   "source": [
    "pd.DataFrame(data={\"prediction\": submission_y}, index=submission_data.index).to_csv(\n",
    "    \"stacking_lgbm_lgbm_catboost_xgboost.csv\", index_label=\"id\")"
   ]
  },
  {
   "cell_type": "code",
   "execution_count": null,
   "metadata": {},
   "outputs": [],
   "source": []
  }
 ],
 "metadata": {
  "kernelspec": {
   "display_name": "Python 3",
   "language": "python",
   "name": "python3"
  },
  "language_info": {
   "codemirror_mode": {
    "name": "ipython",
    "version": 3
   },
   "file_extension": ".py",
   "mimetype": "text/x-python",
   "name": "python",
   "nbconvert_exporter": "python",
   "pygments_lexer": "ipython3",
   "version": "3.6.6"
  }
 },
 "nbformat": 4,
 "nbformat_minor": 2
}
