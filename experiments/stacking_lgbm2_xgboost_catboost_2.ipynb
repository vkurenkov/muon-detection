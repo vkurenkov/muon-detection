{
 "cells": [
  {
   "cell_type": "code",
   "execution_count": 2,
   "metadata": {
    "ExecuteTime": {
     "end_time": "2019-02-07T13:35:23.333499Z",
     "start_time": "2019-02-07T13:35:23.308754Z"
    }
   },
   "outputs": [],
   "source": [
    "import pandas as pd\n",
    "import numpy as np\n",
    "import catboost\n",
    "import sys\n",
    "import os\n",
    "sys.path.append(os.path.abspath('..'))\n",
    "import utils\n",
    "import scoring\n",
    "import lightgbm\n",
    "import xgboost\n",
    "from sklearn.neighbors.nearest_centroid import NearestCentroid\n",
    "from sklearn.ensemble import RandomForestClassifier\n",
    "from sklearn.linear_model import RidgeClassifier\n",
    "from sklearn.model_selection import train_test_split, KFold\n",
    "from sklearn.svm import SVC\n",
    "import itertools\n",
    "\n",
    "%matplotlib inline"
   ]
  },
  {
   "cell_type": "code",
   "execution_count": 3,
   "metadata": {
    "ExecuteTime": {
     "end_time": "2019-02-07T13:35:30.417869Z",
     "start_time": "2019-02-07T13:35:27.955667Z"
    }
   },
   "outputs": [
    {
     "name": "stderr",
     "output_type": "stream",
     "text": [
      "/anaconda3/lib/python3.6/importlib/_bootstrap.py:219: RuntimeWarning: numpy.dtype size changed, may indicate binary incompatibility. Expected 96, got 88\n",
      "  return f(*args, **kwds)\n"
     ]
    }
   ],
   "source": [
    "data = pd.read_hdf(\"../data/all_train_data.hdf\")\n",
    "target_labels = pd.read_hdf(\"../data/train_labels.hdf\")"
   ]
  },
  {
   "cell_type": "code",
   "execution_count": null,
   "metadata": {
    "ExecuteTime": {
     "end_time": "2019-02-07T14:52:40.399907Z",
     "start_time": "2019-02-07T14:06:53.110Z"
    }
   },
   "outputs": [],
   "source": [
    "# Apply inplace\n",
    "def preprocess_data(data: pd.DataFrame):\n",
    "    new_columns = list(itertools.chain(*[[f'ClosestHit_{f}[{i}]' for i in range(4)] for f in [\"X\", \"Y\", \"T\", \"z\", \"dx\", \"dy\"]]))\n",
    "    rename_dict = dict(zip(range(24), new_columns))\n",
    "    data.rename(rename_dict, axis='columns', inplace=True)\n",
    "    \n",
    "    for j in range(4):\n",
    "        distance_to_center = 0\n",
    "        mh_distance_to_center = 0\n",
    "        for i in [\"X\", \"Y\"]:\n",
    "            data[f'Lextra_ClosestHit_dt_{i}[{j}]'] = np.square(data[f'ClosestHit_{i}[{j}]'] - data[f'Lextra_{i}[{j}]'])\n",
    "            data[f'MatchedHit_ClosestHit_dt{i}[{j}]'] = np.square(data[f'ClosestHit_{i}[{j}]'] - data[f'MatchedHit_{i}[{j}]'])\n",
    "            data[f'MatchedHit_Lextra_dt{i}[{j}]'] = np.square(data[f'Lextra_{i}[{j}]'] - data[f'MatchedHit_{i}[{j}]'])\n",
    "            distance_to_center += np.square(data[f'ClosestHit_{i}[{j}]'])\n",
    "            mh_distance_to_center += np.square(data[f'MatchedHit_{i}[{j}]'])                                     \n",
    "        data[f'ClosestHit_to_Center[{j}]'] = np.sqrt(distance_to_center)\n",
    "        data[f'MachtedHit_to_Center[{j}]'] = np.sqrt(mh_distance_to_center)\n",
    "    \n",
    "    "
   ]
  },
  {
   "cell_type": "code",
   "execution_count": null,
   "metadata": {},
   "outputs": [],
   "source": [
    "preprocess_data(data)"
   ]
  },
  {
   "cell_type": "code",
   "execution_count": 7,
   "metadata": {
    "ExecuteTime": {
     "end_time": "2019-02-07T13:38:15.194951Z",
     "start_time": "2019-02-07T13:37:58.160284Z"
    }
   },
   "outputs": [],
   "source": [
    "train_x, test_x, train_y, test_y, = train_test_split(data, target_labels, test_size=0.4)\n"
   ]
  },
  {
   "cell_type": "code",
   "execution_count": 15,
   "metadata": {
    "ExecuteTime": {
     "end_time": "2019-02-07T13:45:11.855149Z",
     "start_time": "2019-02-07T13:45:11.670534Z"
    }
   },
   "outputs": [
    {
     "name": "stderr",
     "output_type": "stream",
     "text": [
      "/anaconda3/lib/python3.6/site-packages/pandas/core/indexing.py:543: SettingWithCopyWarning: \n",
      "A value is trying to be set on a copy of a slice from a DataFrame.\n",
      "Try using .loc[row_indexer,col_indexer] = value instead\n",
      "\n",
      "See the caveats in the documentation: http://pandas.pydata.org/pandas-docs/stable/indexing.html#indexing-view-versus-copy\n",
      "  self.obj[item] = s\n",
      "/anaconda3/lib/python3.6/site-packages/pandas/core/generic.py:4405: SettingWithCopyWarning: \n",
      "A value is trying to be set on a copy of a slice from a DataFrame.\n",
      "Try using .loc[row_indexer,col_indexer] = value instead\n",
      "\n",
      "See the caveats in the documentation: http://pandas.pydata.org/pandas-docs/stable/indexing.html#indexing-view-versus-copy\n",
      "  self[name] = value\n"
     ]
    }
   ],
   "source": [
    "train_y.loc[train_y.weight < 0, 'label'] = 1 - train_y.loc[train_y.weight < 0, 'label'] # Invert labels\n",
    "train_y.weight = train_y.weight.abs() # Take absolute weights\n"
   ]
  },
  {
   "cell_type": "code",
   "execution_count": 16,
   "metadata": {
    "ExecuteTime": {
     "end_time": "2019-02-07T13:45:22.829847Z",
     "start_time": "2019-02-07T13:45:22.824393Z"
    }
   },
   "outputs": [],
   "source": [
    "lgbm = lightgbm.LGBMClassifier(num_leaves=60, n_estimators=200, max_depth=7, n_jobs=-1)\n",
    "catb = catboost.CatBoostClassifier(n_estimators=800, depth=7, thread_count=12)\n",
    "lgbm2 = lightgbm.LGBMClassifier(num_leaves=31, n_estimators=50,\n",
    "                                n_jobs=-1, boosting_type=\"dart\", learning_rate=0.3)\n",
    "xgbt = xgboost.XGBClassifier(n_estimators=250, max_depth=7, n_jobs=12)\n",
    "models = [lgbm, catb, lgbm2, xgbt]"
   ]
  },
  {
   "cell_type": "code",
   "execution_count": 33,
   "metadata": {
    "ExecuteTime": {
     "end_time": "2019-02-07T15:06:19.712622Z",
     "start_time": "2019-02-07T15:06:19.685120Z"
    }
   },
   "outputs": [],
   "source": [
    "train_x.columns = train_x.columns.str.replace(\"[\", \"\").str.replace(\"]\", \"\")"
   ]
  },
  {
   "cell_type": "code",
   "execution_count": null,
   "metadata": {
    "ExecuteTime": {
     "start_time": "2019-02-07T15:06:21.248Z"
    }
   },
   "outputs": [],
   "source": [
    "xgbt.fit(train_x, train_y.label, sample_weight=train_y.weight)"
   ]
  },
  {
   "cell_type": "code",
   "execution_count": null,
   "metadata": {
    "ExecuteTime": {
     "start_time": "2019-02-07T15:13:18.347Z"
    },
    "scrolled": true
   },
   "outputs": [],
   "source": [
    "# for model in models:\n",
    "#     print(f\"{model.__class__} is training.\")\n",
    "#     model.fit(train_x, train_y.label, sample_weight=train_y.weight)"
   ]
  },
  {
   "cell_type": "code",
   "execution_count": null,
   "metadata": {
    "ExecuteTime": {
     "start_time": "2019-02-07T15:13:18.517Z"
    }
   },
   "outputs": [],
   "source": [
    "del train_x, train_y"
   ]
  },
  {
   "cell_type": "markdown",
   "metadata": {},
   "source": [
    "## Stacking part"
   ]
  },
  {
   "cell_type": "code",
   "execution_count": null,
   "metadata": {
    "ExecuteTime": {
     "start_time": "2019-02-07T15:13:18.888Z"
    }
   },
   "outputs": [],
   "source": [
    "# Define meta classifier\n",
    "meta_clf = lightgbm.LGBMClassifier(num_leaves=5, n_estimators=200, learning_rate=0.1, n_jobs=-1)\n"
   ]
  },
  {
   "cell_type": "markdown",
   "metadata": {},
   "source": [
    "Cross validate it"
   ]
  },
  {
   "cell_type": "code",
   "execution_count": null,
   "metadata": {
    "ExecuteTime": {
     "start_time": "2019-02-07T15:13:19.801Z"
    }
   },
   "outputs": [],
   "source": [
    "k =  KFold(n_splits=5)\n",
    "test_scores = []\n",
    "train_scores = []\n",
    "for train_index, test_index in k.split(test_x, test_y):\n",
    "    \n",
    "    mf_train_x, mf_test_x = test_x.iloc[train_index], test_x.iloc[test_index]\n",
    "    mf_train_y, mf_test_y = test_y.iloc[train_index].copy(), test_y.iloc[test_index]\n",
    "    \n",
    "    # Invert labels & take absolute weights\n",
    "    mf_train_y.loc[mf_train_y.weight < 0, 'label'] = 1 - mf_train_y.loc[mf_train_y.weight < 0, 'label'] \n",
    "    mf_train_y.weight = mf_train_y.weight.abs()\n",
    "\n",
    "    \n",
    "    meta_features = np.array([m.predict_proba(mf_train_x)[:,1] for m in models], axis=1).T\n",
    "    print(meta_features.shape)\n",
    "    break\n",
    "    meta_clf.fit(meta_features, mf_train_y.label, sample_weight = mf_train_y.weight)\n",
    "    \n",
    "   \n",
    "    meta_features_test = np.array([m.predict_proba(mf_test_x)[:,1] for m in models], axis=1).T\n",
    "\n",
    "    \n",
    "    train_preds = meta_clf.predict_proba(meta_features)[:, 1]\n",
    "    train_score = 10000 * scoring.rejection90(np.array(mf_train_y.label),\n",
    "                                      train_preds,\n",
    "                                      sample_weight=np.array(mf_train_y.weight))\n",
    "    train_scores.append(train_score)\n",
    "    \n",
    "    test_preds = meta_clf.predict_proba(meta_features_test)[:, 1]\n",
    "    test_score = 10000* scoring.rejection90(np.array(mf_test_y.label),\n",
    "                                       test_preds,\n",
    "                                       sample_weight=np.array(mf_test_y.weight)) \n",
    "    test_scores.append(test_score)\n",
    "    \n",
    "    print(f\"Train score: {train_score:.2f}, test score: {score:.2f}\")\n",
    "\n",
    "print(f\"Train mean score: {np.mean(train_scores):.2f}, test mean score: {np.mean(scores):.2f}\")\n"
   ]
  },
  {
   "cell_type": "markdown",
   "metadata": {
    "ExecuteTime": {
     "end_time": "2019-02-04T04:34:06.984969Z",
     "start_time": "2019-02-04T04:34:06.982461Z"
    }
   },
   "source": [
    "\n",
    "\n",
    "Check overfitting and score\n"
   ]
  },
  {
   "cell_type": "code",
   "execution_count": null,
   "metadata": {
    "ExecuteTime": {
     "start_time": "2019-02-07T15:13:20.489Z"
    }
   },
   "outputs": [],
   "source": [
    "all_meta_features = np.array([m.predict_proba(test_x)[:,1] for m in models], axis=1).T\n",
    "\n",
    "test_y.loc[test_y.weight < 0, 'label'] = 1 - test_y.loc[test_y.weight < 0, 'label'] \n",
    "test_y.weight = test_y.weight.abs()\n",
    "    \n",
    "mf_lgbm.fit(all_meta_features, test_y.label, sample_weight = test_y.weight)"
   ]
  },
  {
   "cell_type": "markdown",
   "metadata": {},
   "source": [
    "# Make prediction"
   ]
  },
  {
   "cell_type": "code",
   "execution_count": null,
   "metadata": {
    "ExecuteTime": {
     "start_time": "2019-02-07T15:13:22.290Z"
    }
   },
   "outputs": [],
   "source": [
    "# Make prediction\n",
    "submission_data = pd.read_hdf(\"../data/all_test_data.hdf\")\n",
    "submission_data.rename(rename_dict, axis='columns', inplace=True)\n",
    "\n",
    "preprocess_data(submission_data)\n"
   ]
  },
  {
   "cell_type": "code",
   "execution_count": null,
   "metadata": {
    "ExecuteTime": {
     "start_time": "2019-02-07T15:13:35.403Z"
    }
   },
   "outputs": [],
   "source": [
    "submission_data.columns = submission_data.columns.str.replace(\"[\", \"\").str.replace(\"]\", \"\")"
   ]
  },
  {
   "cell_type": "code",
   "execution_count": null,
   "metadata": {
    "ExecuteTime": {
     "start_time": "2019-02-07T15:13:39.964Z"
    }
   },
   "outputs": [],
   "source": [
    "submission_meta_features = np.array([m.predict_proba(submission_data)[:,1] for m in models], axis=1).T\n"
   ]
  },
  {
   "cell_type": "code",
   "execution_count": null,
   "metadata": {
    "ExecuteTime": {
     "start_time": "2019-02-07T15:13:41.167Z"
    }
   },
   "outputs": [],
   "source": [
    "submission_y = meta_clf.predict_proba(submission_meta_features)[:, 1]"
   ]
  },
  {
   "cell_type": "code",
   "execution_count": null,
   "metadata": {
    "ExecuteTime": {
     "start_time": "2019-02-07T15:13:41.497Z"
    }
   },
   "outputs": [],
   "source": [
    "pd.DataFrame(data={\"prediction\": submission_y}, index=submission_data.index).to_csv(\n",
    "    \"stacking_lgbm_lgbm_catboost_xgboost.csv\", index_label=\"id\")"
   ]
  },
  {
   "cell_type": "code",
   "execution_count": null,
   "metadata": {},
   "outputs": [],
   "source": []
  }
 ],
 "metadata": {
  "kernelspec": {
   "display_name": "Python 3",
   "language": "python",
   "name": "python3"
  },
  "language_info": {
   "codemirror_mode": {
    "name": "ipython",
    "version": 3
   },
   "file_extension": ".py",
   "mimetype": "text/x-python",
   "name": "python",
   "nbconvert_exporter": "python",
   "pygments_lexer": "ipython3",
   "version": "3.6.8"
  }
 },
 "nbformat": 4,
 "nbformat_minor": 2
}
