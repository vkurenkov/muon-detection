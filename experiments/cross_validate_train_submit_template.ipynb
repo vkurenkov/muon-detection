{
 "cells": [
  {
   "cell_type": "code",
   "execution_count": null,
   "metadata": {
    "ExecuteTime": {
     "end_time": "2019-02-06T08:08:29.937544Z",
     "start_time": "2019-02-06T08:08:28.833306Z"
    }
   },
   "outputs": [],
   "source": [
    "import pandas as pd\n",
    "import numpy as np\n",
    "import catboost\n",
    "import sys\n",
    "import os\n",
    "sys.path.append(os.path.abspath('..'))\n",
    "import utils\n",
    "import scoring\n",
    "import lightgbm\n",
    "import matplotlib.pyplot as plt\n",
    "from sklearn.neighbors.nearest_centroid import NearestCentroid\n",
    "from sklearn.ensemble import RandomForestClassifier\n",
    "from sklearn.linear_model import RidgeClassifier\n",
    "from sklearn.model_selection import train_test_split, KFold\n",
    "from sklearn.svm import SVC\n",
    "%matplotlib inline"
   ]
  },
  {
   "cell_type": "markdown",
   "metadata": {},
   "source": [
    "## Load the data"
   ]
  },
  {
   "cell_type": "code",
   "execution_count": null,
   "metadata": {
    "ExecuteTime": {
     "end_time": "2019-02-06T08:08:31.464402Z",
     "start_time": "2019-02-06T08:08:29.939529Z"
    }
   },
   "outputs": [],
   "source": [
    "data = pd.read_hdf(\"../data/all_train_data.hdf\")\n",
    "target_labels = pd.read_hdf(\"../data/train_labels.hdf\")"
   ]
  },
  {
   "cell_type": "markdown",
   "metadata": {},
   "source": [
    "Rename columns"
   ]
  },
  {
   "cell_type": "code",
   "execution_count": null,
   "metadata": {
    "ExecuteTime": {
     "end_time": "2019-02-06T08:08:36.205652Z",
     "start_time": "2019-02-06T08:08:31.466284Z"
    }
   },
   "outputs": [],
   "source": [
    "import itertools\n",
    "new_columns = list(itertools.chain(*[[f'ClosestHit_{f}[{i}]' for i in range(4)] for f in [\"X\", \"Y\", \"T\", \"z\", \"dx\", \"dy\"]]))\n",
    "rename_dict = dict(zip(range(24), new_columns))\n",
    "data.rename(rename_dict, axis='columns', inplace=True)\n",
    "data.head()"
   ]
  },
  {
   "cell_type": "markdown",
   "metadata": {},
   "source": [
    "Replace missing values with same value"
   ]
  },
  {
   "cell_type": "code",
   "execution_count": null,
   "metadata": {
    "ExecuteTime": {
     "end_time": "2019-02-06T08:08:36.209800Z",
     "start_time": "2019-02-06T08:08:36.207372Z"
    }
   },
   "outputs": [],
   "source": [
    "# # Preprocess missing values\n",
    "# # 0 for MatchedHit_TYPE\n",
    "# # 255 for MatchedHit_T\n",
    "# # -1 for  MatchedHit_DT\n",
    "# # -9999 for rest\n",
    "# for i in range(4):\n",
    "#     data[data[f'MatchedHit_TYPE[{i}]'] == 0] = -9999.0\n",
    "#     data[data[f'MatchedHit_DT[{i}]'] == -1] = -9999.0\n",
    "#     data[data[f'MatchedHit_T[{i}]'] == 255] = -9999.0\n",
    "\n",
    "# data_9999 = data.copy()\n",
    "# data[data==-9999] = np.nan"
   ]
  },
  {
   "cell_type": "markdown",
   "metadata": {},
   "source": [
    "Compute new features"
   ]
  },
  {
   "cell_type": "code",
   "execution_count": null,
   "metadata": {
    "ExecuteTime": {
     "end_time": "2019-02-06T08:08:36.728512Z",
     "start_time": "2019-02-06T08:08:36.211569Z"
    }
   },
   "outputs": [],
   "source": [
    "for j in range(4):\n",
    "    distance_to_center = 0\n",
    "    for i in [\"X\", \"Y\"]:\n",
    "        data[f'Lextra_ClosestHit_dt_{i}[{j}]'] = np.square(data[f'ClosestHit_{i}[{j}]'] - data[f'Lextra_{i}[{j}]'])\n",
    "        data[f'MatchedHit_ClosestHit_dt{i}[{j}]'] = np.square(data[f'ClosestHit_{i}[{j}]'] - data[f'MatchedHit_{i}[{j}]'])\n",
    "        distance_to_center += np.square(data[f'ClosestHit_{i}[{j}]'])\n",
    "    data[f'ClosestHit_to_Center[{j}]'] = np.sqrt(distance_to_center)\n"
   ]
  },
  {
   "cell_type": "markdown",
   "metadata": {},
   "source": [
    "This is columns with big feature importance from cross-validated lightgbm and catboost"
   ]
  },
  {
   "cell_type": "code",
   "execution_count": null,
   "metadata": {
    "ExecuteTime": {
     "end_time": "2019-02-06T08:08:58.546567Z",
     "start_time": "2019-02-06T08:08:58.530260Z"
    }
   },
   "outputs": [],
   "source": [
    "valuable_columns = ['ncl[0]',\n",
    " 'ncl[1]',\n",
    " 'ncl[2]',\n",
    " 'ncl[3]',\n",
    " 'avg_cs[0]',\n",
    " 'avg_cs[1]',\n",
    " 'avg_cs[2]',\n",
    " 'avg_cs[3]',\n",
    " 'MatchedHit_TYPE[0]',\n",
    " 'MatchedHit_TYPE[1]',\n",
    " 'MatchedHit_TYPE[2]',\n",
    " 'MatchedHit_X[3]',\n",
    " 'MatchedHit_Y[0]',\n",
    " 'MatchedHit_Y[1]',\n",
    " 'MatchedHit_Y[2]',\n",
    " 'MatchedHit_Y[3]',\n",
    " 'MatchedHit_DX[3]',\n",
    " 'MatchedHit_DY[3]',\n",
    " 'MatchedHit_DZ[3]',\n",
    " 'MatchedHit_T[0]',\n",
    " 'MatchedHit_DT[0]',\n",
    " 'MatchedHit_DT[1]',\n",
    " 'Lextra_X[3]',\n",
    " 'NShared',\n",
    " 'Mextra_DX2[0]',\n",
    " 'Mextra_DX2[3]',\n",
    " 'FOI_hits_N',\n",
    " 'PT',\n",
    " 'P',\n",
    " 'ClosestHit_X[0]',\n",
    " 'ClosestHit_X[1]',\n",
    " 'ClosestHit_X[2]',\n",
    " 'ClosestHit_X[3]',\n",
    " 'ClosestHit_Y[0]',\n",
    " 'ClosestHit_Y[1]',\n",
    " 'ClosestHit_Y[2]',\n",
    " 'ClosestHit_Y[3]',\n",
    " 'ClosestHit_z[0]',\n",
    " 'Lextra_ClosestHit_dt_Y[0]',\n",
    " 'MatchedHit_ClosestHit_dtY[0]',\n",
    " 'Lextra_ClosestHit_dt_X[1]',\n",
    " 'Lextra_ClosestHit_dt_Y[1]',\n",
    " 'MatchedHit_ClosestHit_dtY[1]',\n",
    " 'MatchedHit_ClosestHit_dtX[2]',\n",
    " 'MatchedHit_ClosestHit_dtY[2]',\n",
    " 'MatchedHit_ClosestHit_dtX[3]',\n",
    " 'MatchedHit_ClosestHit_dtY[3]',\n",
    " 'ClosestHit_to_Center[0]',\n",
    " 'ClosestHit_to_Center[1]',\n",
    " 'ClosestHit_to_Center[2]',\n",
    " 'ClosestHit_to_Center[3]']"
   ]
  },
  {
   "cell_type": "code",
   "execution_count": null,
   "metadata": {
    "ExecuteTime": {
     "end_time": "2019-02-06T08:09:02.569948Z",
     "start_time": "2019-02-06T08:08:59.325136Z"
    }
   },
   "outputs": [],
   "source": [
    "data = data[valuable_columns]"
   ]
  },
  {
   "cell_type": "code",
   "execution_count": null,
   "metadata": {
    "ExecuteTime": {
     "end_time": "2019-02-06T08:08:36.744276Z",
     "start_time": "2019-02-06T08:08:36.741503Z"
    }
   },
   "outputs": [],
   "source": [
    "# train_x, test_x, train_y, test_y = train_test_split(data, target_labels, test_size=0.8)"
   ]
  },
  {
   "cell_type": "markdown",
   "metadata": {},
   "source": [
    "## Cross-validate"
   ]
  },
  {
   "cell_type": "code",
   "execution_count": null,
   "metadata": {
    "ExecuteTime": {
     "end_time": "2019-02-06T07:47:38.711725Z",
     "start_time": "2019-02-06T07:42:06.949253Z"
    }
   },
   "outputs": [],
   "source": [
    "k =  KFold(n_splits=5) # K-Fold index generator\n",
    "scores = [] # Test scores\n",
    "train_scores = [] # Train scores\n",
    "feature_importances = [] # Feature importances\n",
    "\n",
    "\n",
    "for train_index, test_index in k.split(data, target_labels):\n",
    "    \n",
    "    X_train, X_test, y_train, y_test = data.iloc[train_index], data.iloc[test_index], target_labels.iloc[train_index], target_labels.iloc[test_index]\n",
    "\n",
    "    y_train_true = y_train.copy() # Keep unmodified labels for evaluating\n",
    "    y_train.label[y_train.weight < 0] = (1 + -1 * y_train.label[y_train.weight < 0]) # Invert labels\n",
    "    y_train.weight = np.abs(y_train.weight) # Take absolute weights\n",
    "\n",
    "    model = lightgbm.LGBMClassifier(num_leaves=50, n_estimators=200, learning_rate=0.01)\n",
    "\n",
    "    model.fit(X_train, y_train.label, sample_weight = y_train.weight)\n",
    "    \n",
    "    pred_train = model.predict_proba(X_train)[:, 1]\n",
    "    train_score = scoring.rejection90(np.array(y_train_true.label), pred_train, sample_weight=np.array(y_train_true.weight)) * 10000\n",
    "    train_scores.append(train_score)\n",
    "    \n",
    "    pred_test = model.predict_proba(X_test)[:, 1]\n",
    "    score = scoring.rejection90(np.array(y_test.label), pred_test, sample_weight=np.array(y_test.weight)) * 10000\n",
    "    scores.append(score)\n",
    "    print(f\"Train score: {train_score:.2f}, test score: {score:.2f}\")\n",
    "    \n",
    "    feature_importances.append(model.feature_importances_)\n",
    "\n",
    "print(f\"Train mean score: {np.mean(train_scores):.2f}, test mean score: {np.mean(scores):.2f}\")\n"
   ]
  },
  {
   "cell_type": "markdown",
   "metadata": {},
   "source": [
    "## Train final model"
   ]
  },
  {
   "cell_type": "code",
   "execution_count": null,
   "metadata": {},
   "outputs": [],
   "source": [
    "target_labels.label[target_labels.weight < 0] = (1 + -1 * target_labels.label[target_labels.weight < 0])\n",
    "target_labels.weight = np.abs(target_labels.weight)"
   ]
  },
  {
   "cell_type": "code",
   "execution_count": null,
   "metadata": {
    "ExecuteTime": {
     "end_time": "2019-02-06T07:51:06.308535Z",
     "start_time": "2019-02-06T07:47:55.619108Z"
    }
   },
   "outputs": [],
   "source": [
    "model.fit(data, target_labels.label, sample_weight=target_labels.weight)"
   ]
  },
  {
   "cell_type": "markdown",
   "metadata": {},
   "source": [
    "## Make prediction"
   ]
  },
  {
   "cell_type": "code",
   "execution_count": null,
   "metadata": {
    "ExecuteTime": {
     "end_time": "2019-02-06T07:51:08.338034Z",
     "start_time": "2019-02-06T07:51:06.313087Z"
    }
   },
   "outputs": [],
   "source": [
    "submission_data = pd.read_hdf(\"../data/all_test_data.hdf\")\n",
    "submission_data.rename(rename_dict, axis='columns', inplace=True)\n",
    "\n",
    "for j in range(4):\n",
    "    distance_to_center = 0\n",
    "    for i in [\"X\", \"Y\"]:\n",
    "        submission_data[f'Lextra_ClosestHit_dt_{i}[{j}]'] = np.square(submission_data[f'ClosestHit_{i}[{j}]'] - submission_data[f'Lextra_{i}[{j}]'])\n",
    "        submission_data[f'MatchedHit_ClosestHit_dt{i}[{j}]'] = np.square(submission_data[f'ClosestHit_{i}[{j}]'] - submission_data[f'MatchedHit_{i}[{j}]'])\n",
    "        distance_to_center += np.square(data[f'ClosestHit_{i}[{j}]'])\n",
    "    submission_data[f'ClosestHit_to_Center[{j}]'] = np.sqrt(distance_to_center)\n",
    "    \n",
    "# submission_data = submission_data[valuable_columns]\n",
    "    "
   ]
  },
  {
   "cell_type": "code",
   "execution_count": null,
   "metadata": {
    "ExecuteTime": {
     "end_time": "2019-02-06T07:52:21.739711Z",
     "start_time": "2019-02-06T07:52:18.400426Z"
    }
   },
   "outputs": [],
   "source": [
    "submission_y = model.predict_proba(submission_data)[:,1]"
   ]
  },
  {
   "cell_type": "code",
   "execution_count": null,
   "metadata": {
    "ExecuteTime": {
     "end_time": "2019-02-06T07:52:23.838411Z",
     "start_time": "2019-02-06T07:52:22.360693Z"
    }
   },
   "outputs": [],
   "source": [
    "pd.DataFrame(data={\"prediction\": submission_y}, index=submission_data.index).to_csv(\n",
    "    \"sample_submission2.csv\", index_label=\"id\")\n"
   ]
  },
  {
   "cell_type": "code",
   "execution_count": null,
   "metadata": {},
   "outputs": [],
   "source": []
  }
 ],
 "metadata": {
  "kernelspec": {
   "display_name": "Python 3",
   "language": "python",
   "name": "python3"
  },
  "language_info": {
   "codemirror_mode": {
    "name": "ipython",
    "version": 3
   },
   "file_extension": ".py",
   "mimetype": "text/x-python",
   "name": "python",
   "nbconvert_exporter": "python",
   "pygments_lexer": "ipython3",
   "version": "3.6.8"
  }
 },
 "nbformat": 4,
 "nbformat_minor": 2
}
