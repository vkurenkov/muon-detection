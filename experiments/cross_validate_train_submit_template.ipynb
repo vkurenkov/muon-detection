{
 "cells": [
  {
   "cell_type": "code",
   "execution_count": 68,
   "metadata": {
    "ExecuteTime": {
     "end_time": "2019-02-06T17:55:55.958128Z",
     "start_time": "2019-02-06T17:55:55.802140Z"
    }
   },
   "outputs": [],
   "source": [
    "import pandas as pd\n",
    "import numpy as np\n",
    "import catboost\n",
    "import sys\n",
    "import os\n",
    "sys.path.append(os.path.abspath('..'))\n",
    "import utils\n",
    "import scoring\n",
    "import lightgbm\n",
    "import matplotlib.pyplot as plt\n",
    "from sklearn.neighbors.nearest_centroid import NearestCentroid\n",
    "from sklearn.ensemble import RandomForestClassifier\n",
    "from sklearn.linear_model import RidgeClassifier\n",
    "from sklearn.model_selection import train_test_split, KFold\n",
    "from sklearn.svm import SVC\n",
    "from tqdm import tqdm_notebook as tqdm\n",
    "%matplotlib inline"
   ]
  },
  {
   "cell_type": "markdown",
   "metadata": {},
   "source": [
    "## Load the data"
   ]
  },
  {
   "cell_type": "code",
   "execution_count": 24,
   "metadata": {
    "ExecuteTime": {
     "end_time": "2019-02-06T17:32:57.910571Z",
     "start_time": "2019-02-06T17:32:56.107650Z"
    }
   },
   "outputs": [],
   "source": [
    "data = pd.read_hdf(\"../data/all_train_data.hdf\")\n",
    "target_labels = pd.read_hdf(\"../data/train_labels.hdf\")"
   ]
  },
  {
   "cell_type": "markdown",
   "metadata": {},
   "source": [
    "Rename columns"
   ]
  },
  {
   "cell_type": "code",
   "execution_count": 25,
   "metadata": {
    "ExecuteTime": {
     "end_time": "2019-02-06T17:33:04.839754Z",
     "start_time": "2019-02-06T17:32:58.763418Z"
    }
   },
   "outputs": [
    {
     "data": {
      "text/html": [
       "<div>\n",
       "<style scoped>\n",
       "    .dataframe tbody tr th:only-of-type {\n",
       "        vertical-align: middle;\n",
       "    }\n",
       "\n",
       "    .dataframe tbody tr th {\n",
       "        vertical-align: top;\n",
       "    }\n",
       "\n",
       "    .dataframe thead th {\n",
       "        text-align: right;\n",
       "    }\n",
       "</style>\n",
       "<table border=\"1\" class=\"dataframe\">\n",
       "  <thead>\n",
       "    <tr style=\"text-align: right;\">\n",
       "      <th></th>\n",
       "      <th>ncl[0]</th>\n",
       "      <th>ncl[1]</th>\n",
       "      <th>ncl[2]</th>\n",
       "      <th>ncl[3]</th>\n",
       "      <th>avg_cs[0]</th>\n",
       "      <th>avg_cs[1]</th>\n",
       "      <th>avg_cs[2]</th>\n",
       "      <th>avg_cs[3]</th>\n",
       "      <th>ndof</th>\n",
       "      <th>MatchedHit_TYPE[0]</th>\n",
       "      <th>...</th>\n",
       "      <th>ClosestHit_Z[2]</th>\n",
       "      <th>ClosestHit_Z[3]</th>\n",
       "      <th>ClosestHit_dx[0]</th>\n",
       "      <th>ClosestHit_dx[1]</th>\n",
       "      <th>ClosestHit_dx[2]</th>\n",
       "      <th>ClosestHit_dx[3]</th>\n",
       "      <th>ClosestHit_dy[0]</th>\n",
       "      <th>ClosestHit_dy[1]</th>\n",
       "      <th>ClosestHit_dy[2]</th>\n",
       "      <th>ClosestHit_dy[3]</th>\n",
       "    </tr>\n",
       "  </thead>\n",
       "  <tbody>\n",
       "    <tr>\n",
       "      <th>0</th>\n",
       "      <td>47</td>\n",
       "      <td>31</td>\n",
       "      <td>13</td>\n",
       "      <td>15</td>\n",
       "      <td>2.000000</td>\n",
       "      <td>1.580645</td>\n",
       "      <td>1.153846</td>\n",
       "      <td>1.133333</td>\n",
       "      <td>8</td>\n",
       "      <td>2</td>\n",
       "      <td>...</td>\n",
       "      <td>17520.826172</td>\n",
       "      <td>18729.324219</td>\n",
       "      <td>25.500000</td>\n",
       "      <td>27.50</td>\n",
       "      <td>118.0</td>\n",
       "      <td>126.0</td>\n",
       "      <td>126.278549</td>\n",
       "      <td>136.278488</td>\n",
       "      <td>146.278412</td>\n",
       "      <td>156.278351</td>\n",
       "    </tr>\n",
       "    <tr>\n",
       "      <th>1</th>\n",
       "      <td>92</td>\n",
       "      <td>19</td>\n",
       "      <td>11</td>\n",
       "      <td>26</td>\n",
       "      <td>2.750000</td>\n",
       "      <td>2.789474</td>\n",
       "      <td>1.363636</td>\n",
       "      <td>1.230769</td>\n",
       "      <td>8</td>\n",
       "      <td>2</td>\n",
       "      <td>...</td>\n",
       "      <td>17614.853516</td>\n",
       "      <td>18824.429688</td>\n",
       "      <td>25.500000</td>\n",
       "      <td>27.50</td>\n",
       "      <td>118.0</td>\n",
       "      <td>756.0</td>\n",
       "      <td>126.278549</td>\n",
       "      <td>136.278488</td>\n",
       "      <td>146.278412</td>\n",
       "      <td>156.278351</td>\n",
       "    </tr>\n",
       "    <tr>\n",
       "      <th>2</th>\n",
       "      <td>100</td>\n",
       "      <td>21</td>\n",
       "      <td>11</td>\n",
       "      <td>12</td>\n",
       "      <td>2.930000</td>\n",
       "      <td>2.428571</td>\n",
       "      <td>1.181818</td>\n",
       "      <td>1.083333</td>\n",
       "      <td>8</td>\n",
       "      <td>2</td>\n",
       "      <td>...</td>\n",
       "      <td>17598.300781</td>\n",
       "      <td>18806.351562</td>\n",
       "      <td>12.750000</td>\n",
       "      <td>13.75</td>\n",
       "      <td>59.0</td>\n",
       "      <td>63.0</td>\n",
       "      <td>63.078957</td>\n",
       "      <td>68.078926</td>\n",
       "      <td>73.078896</td>\n",
       "      <td>78.078857</td>\n",
       "    </tr>\n",
       "    <tr>\n",
       "      <th>3</th>\n",
       "      <td>74</td>\n",
       "      <td>27</td>\n",
       "      <td>13</td>\n",
       "      <td>20</td>\n",
       "      <td>3.067568</td>\n",
       "      <td>2.518518</td>\n",
       "      <td>1.923077</td>\n",
       "      <td>1.300000</td>\n",
       "      <td>8</td>\n",
       "      <td>2</td>\n",
       "      <td>...</td>\n",
       "      <td>17598.300781</td>\n",
       "      <td>18806.351562</td>\n",
       "      <td>12.948485</td>\n",
       "      <td>13.75</td>\n",
       "      <td>59.0</td>\n",
       "      <td>63.0</td>\n",
       "      <td>63.038589</td>\n",
       "      <td>68.078926</td>\n",
       "      <td>73.078896</td>\n",
       "      <td>78.078857</td>\n",
       "    </tr>\n",
       "    <tr>\n",
       "      <th>4</th>\n",
       "      <td>18</td>\n",
       "      <td>22</td>\n",
       "      <td>8</td>\n",
       "      <td>8</td>\n",
       "      <td>1.833333</td>\n",
       "      <td>1.954545</td>\n",
       "      <td>1.125000</td>\n",
       "      <td>1.750000</td>\n",
       "      <td>8</td>\n",
       "      <td>2</td>\n",
       "      <td>...</td>\n",
       "      <td>17603.021484</td>\n",
       "      <td>18811.394531</td>\n",
       "      <td>12.750000</td>\n",
       "      <td>13.75</td>\n",
       "      <td>59.0</td>\n",
       "      <td>63.0</td>\n",
       "      <td>63.078957</td>\n",
       "      <td>68.078926</td>\n",
       "      <td>73.078896</td>\n",
       "      <td>78.078857</td>\n",
       "    </tr>\n",
       "  </tbody>\n",
       "</table>\n",
       "<p>5 rows × 89 columns</p>\n",
       "</div>"
      ],
      "text/plain": [
       "   ncl[0]  ncl[1]  ncl[2]  ncl[3]  avg_cs[0]  avg_cs[1]  avg_cs[2]  avg_cs[3]  \\\n",
       "0      47      31      13      15   2.000000   1.580645   1.153846   1.133333   \n",
       "1      92      19      11      26   2.750000   2.789474   1.363636   1.230769   \n",
       "2     100      21      11      12   2.930000   2.428571   1.181818   1.083333   \n",
       "3      74      27      13      20   3.067568   2.518518   1.923077   1.300000   \n",
       "4      18      22       8       8   1.833333   1.954545   1.125000   1.750000   \n",
       "\n",
       "   ndof  MatchedHit_TYPE[0]        ...         ClosestHit_Z[2]  \\\n",
       "0     8                   2        ...            17520.826172   \n",
       "1     8                   2        ...            17614.853516   \n",
       "2     8                   2        ...            17598.300781   \n",
       "3     8                   2        ...            17598.300781   \n",
       "4     8                   2        ...            17603.021484   \n",
       "\n",
       "   ClosestHit_Z[3]  ClosestHit_dx[0]  ClosestHit_dx[1]  ClosestHit_dx[2]  \\\n",
       "0     18729.324219         25.500000             27.50             118.0   \n",
       "1     18824.429688         25.500000             27.50             118.0   \n",
       "2     18806.351562         12.750000             13.75              59.0   \n",
       "3     18806.351562         12.948485             13.75              59.0   \n",
       "4     18811.394531         12.750000             13.75              59.0   \n",
       "\n",
       "   ClosestHit_dx[3]  ClosestHit_dy[0]  ClosestHit_dy[1]  ClosestHit_dy[2]  \\\n",
       "0             126.0        126.278549        136.278488        146.278412   \n",
       "1             756.0        126.278549        136.278488        146.278412   \n",
       "2              63.0         63.078957         68.078926         73.078896   \n",
       "3              63.0         63.038589         68.078926         73.078896   \n",
       "4              63.0         63.078957         68.078926         73.078896   \n",
       "\n",
       "   ClosestHit_dy[3]  \n",
       "0        156.278351  \n",
       "1        156.278351  \n",
       "2         78.078857  \n",
       "3         78.078857  \n",
       "4         78.078857  \n",
       "\n",
       "[5 rows x 89 columns]"
      ]
     },
     "execution_count": 25,
     "metadata": {},
     "output_type": "execute_result"
    }
   ],
   "source": [
    "import itertools\n",
    "new_columns = list(itertools.chain(*[[f'ClosestHit_{f}[{i}]' for i in range(4)] for f in [\"X\", \"Y\", \"T\", \"Z\", \"dx\", \"dy\"]]))\n",
    "rename_dict = dict(zip(range(24), new_columns))\n",
    "data.rename(rename_dict, axis='columns', inplace=True)\n",
    "data.head()"
   ]
  },
  {
   "cell_type": "markdown",
   "metadata": {},
   "source": [
    "Replace missing values with same value"
   ]
  },
  {
   "cell_type": "code",
   "execution_count": 26,
   "metadata": {
    "ExecuteTime": {
     "end_time": "2019-02-06T17:33:04.845642Z",
     "start_time": "2019-02-06T17:33:04.841953Z"
    }
   },
   "outputs": [],
   "source": [
    "# # Preprocess missing values\n",
    "# # 0 for MatchedHit_TYPE\n",
    "# # 255 for MatchedHit_T\n",
    "# # -1 for  MatchedHit_DT\n",
    "# # -9999 for rest\n",
    "# for i in range(4):\n",
    "#     data[data[f'MatchedHit_TYPE[{i}]'] == 0] = -9999.0\n",
    "#     data[data[f'MatchedHit_DT[{i}]'] == -1] = -9999.0\n",
    "#     data[data[f'MatchedHit_T[{i}]'] == 255] = -9999.0\n",
    "\n",
    "# data_9999 = data.copy()\n",
    "# data[data==-9999] = np.nan"
   ]
  },
  {
   "cell_type": "markdown",
   "metadata": {},
   "source": [
    "Compute new features"
   ]
  },
  {
   "cell_type": "code",
   "execution_count": 27,
   "metadata": {
    "ExecuteTime": {
     "end_time": "2019-02-06T17:33:05.877073Z",
     "start_time": "2019-02-06T17:33:04.847371Z"
    }
   },
   "outputs": [],
   "source": [
    "for j in range(4):\n",
    "    distance_to_center = 0\n",
    "    mh_distance_to_center = 0\n",
    "    for i in [\"X\", \"Y\"]:\n",
    "        data[f'Lextra_ClosestHit_dt_{i}[{j}]'] = np.square(data[f'ClosestHit_{i}[{j}]'] - data[f'Lextra_{i}[{j}]'])\n",
    "        data[f'MatchedHit_ClosestHit_dt{i}[{j}]'] = np.square(data[f'ClosestHit_{i}[{j}]'] - data[f'MatchedHit_{i}[{j}]'])\n",
    "        data[f'MatchedHit_Lextra_dt{i}[{j}]'] = np.square(data[f'Lextra_{i}[{j}]'] - data[f'MatchedHit_{i}[{j}]'])\n",
    "        distance_to_center += np.square(data[f'ClosestHit_{i}[{j}]'])\n",
    "        mh_distance_to_center += np.square(data[f'MatchedHit_{i}[{j}]'])                                     \n",
    "    data[f'ClosestHit_to_Center[{j}]'] = np.sqrt(distance_to_center)\n",
    "    data[f'MachtedHit_to_Center[{j}]'] = np.sqrt(mh_distance_to_center)\n"
   ]
  },
  {
   "cell_type": "code",
   "execution_count": 31,
   "metadata": {
    "ExecuteTime": {
     "end_time": "2019-02-06T17:33:35.650104Z",
     "start_time": "2019-02-06T17:33:30.711339Z"
    }
   },
   "outputs": [],
   "source": [
    "# Discretize Z\n",
    "z1_intervals = np.array([15050, 15150, 15225, 15285, 15360, 15450])\n",
    "z2_intervals = z1_intervals + 1200 + 6\n",
    "z3_intervals = z1_intervals + 1200 * 2\n",
    "z4_intervals = z1_intervals + 1200 * 3 + 1200\n",
    "z_intervals = [z1_intervals, z2_intervals, z3_intervals, z4_intervals]\n",
    "\n",
    "for i, z_bin_edges in enumerate(z_intervals):\n",
    "    data[f'ClosestHit_Z[{i}]'] = pd.cut(data[f'ClosestHit_Z[{i}]'], z_bin_edges,  labels=range(5))\n",
    "    "
   ]
  },
  {
   "cell_type": "code",
   "execution_count": 48,
   "metadata": {
    "ExecuteTime": {
     "end_time": "2019-02-06T17:39:34.869204Z",
     "start_time": "2019-02-06T17:39:34.772723Z"
    }
   },
   "outputs": [],
   "source": [
    "s2pad_distance = [pd.read_csv(f\"../data/s2pd{i}.csv\", header=None, names=['layer', 'X', 'Y', 'distance10']) for i in range(4)]\n",
    "\n"
   ]
  },
  {
   "cell_type": "code",
   "execution_count": 85,
   "metadata": {
    "ExecuteTime": {
     "end_time": "2019-02-06T18:39:37.880359Z",
     "start_time": "2019-02-06T18:21:20.821890Z"
    }
   },
   "outputs": [
    {
     "data": {
      "application/vnd.jupyter.widget-view+json": {
       "model_id": "a7e9a07ada1d40e4b0217c9b6b58cf8f",
       "version_major": 2,
       "version_minor": 0
      },
      "text/plain": [
       "HBox(children=(IntProgress(value=0, max=5445705), HTML(value='')))"
      ]
     },
     "metadata": {},
     "output_type": "display_data"
    },
    {
     "ename": "KeyboardInterrupt",
     "evalue": "",
     "output_type": "error",
     "traceback": [
      "\u001b[0;31m---------------------------------------------------------------------------\u001b[0m",
      "\u001b[0;31mKeyboardInterrupt\u001b[0m                         Traceback (most recent call last)",
      "\u001b[0;32m<ipython-input-85-372ffdfb0769>\u001b[0m in \u001b[0;36m<module>\u001b[0;34m()\u001b[0m\n\u001b[1;32m     10\u001b[0m     \u001b[0mls\u001b[0m \u001b[0;34m=\u001b[0m \u001b[0;34m[\u001b[0m\u001b[0ml1\u001b[0m\u001b[0;34m,\u001b[0m \u001b[0ml2\u001b[0m\u001b[0;34m,\u001b[0m \u001b[0ml3\u001b[0m\u001b[0;34m,\u001b[0m \u001b[0ml4\u001b[0m\u001b[0;34m,\u001b[0m \u001b[0ml5\u001b[0m\u001b[0;34m]\u001b[0m\u001b[0;34m\u001b[0m\u001b[0;34m\u001b[0m\u001b[0m\n\u001b[1;32m     11\u001b[0m     \u001b[0;32mfor\u001b[0m \u001b[0mx\u001b[0m \u001b[0;32min\u001b[0m \u001b[0mtqdm\u001b[0m\u001b[0;34m(\u001b[0m\u001b[0mdata\u001b[0m\u001b[0;34m.\u001b[0m\u001b[0mloc\u001b[0m\u001b[0;34m[\u001b[0m\u001b[0;34m:\u001b[0m\u001b[0;34m,\u001b[0m \u001b[0;34m[\u001b[0m\u001b[0;34mf'ClosestHit_X[{s}]'\u001b[0m\u001b[0;34m,\u001b[0m \u001b[0;34mf'ClosestHit_Y[{s}]'\u001b[0m\u001b[0;34m,\u001b[0m \u001b[0;34mf'ClosestHit_Z[{s}]'\u001b[0m\u001b[0;34m]\u001b[0m\u001b[0;34m]\u001b[0m\u001b[0;34m.\u001b[0m\u001b[0mitertuples\u001b[0m\u001b[0;34m(\u001b[0m\u001b[0;34m)\u001b[0m\u001b[0;34m,\u001b[0m \u001b[0mtotal\u001b[0m\u001b[0;34m=\u001b[0m\u001b[0mdata\u001b[0m\u001b[0;34m.\u001b[0m\u001b[0mshape\u001b[0m\u001b[0;34m[\u001b[0m\u001b[0;36m0\u001b[0m\u001b[0;34m]\u001b[0m\u001b[0;34m)\u001b[0m\u001b[0;34m:\u001b[0m\u001b[0;34m\u001b[0m\u001b[0;34m\u001b[0m\u001b[0m\n\u001b[0;32m---> 12\u001b[0;31m         \u001b[0mdistance\u001b[0m \u001b[0;34m=\u001b[0m \u001b[0mnp\u001b[0m\u001b[0;34m.\u001b[0m\u001b[0marray\u001b[0m\u001b[0;34m(\u001b[0m\u001b[0;34m(\u001b[0m\u001b[0mls\u001b[0m\u001b[0;34m[\u001b[0m\u001b[0mx\u001b[0m\u001b[0;34m.\u001b[0m\u001b[0m_3\u001b[0m\u001b[0;34m]\u001b[0m\u001b[0;34m.\u001b[0m\u001b[0mX\u001b[0m \u001b[0;34m-\u001b[0m \u001b[0mx\u001b[0m\u001b[0;34m.\u001b[0m\u001b[0m_1\u001b[0m\u001b[0;34m)\u001b[0m\u001b[0;34m**\u001b[0m\u001b[0;36m2\u001b[0m \u001b[0;34m+\u001b[0m \u001b[0;34m(\u001b[0m\u001b[0mls\u001b[0m\u001b[0;34m[\u001b[0m\u001b[0mx\u001b[0m\u001b[0;34m.\u001b[0m\u001b[0m_3\u001b[0m\u001b[0;34m]\u001b[0m\u001b[0;34m.\u001b[0m\u001b[0mY\u001b[0m \u001b[0;34m-\u001b[0m \u001b[0mx\u001b[0m\u001b[0;34m.\u001b[0m\u001b[0m_2\u001b[0m\u001b[0;34m)\u001b[0m\u001b[0;34m**\u001b[0m\u001b[0;36m2\u001b[0m\u001b[0;34m)\u001b[0m\u001b[0;34m\u001b[0m\u001b[0;34m\u001b[0m\u001b[0m\n\u001b[0m\u001b[1;32m     13\u001b[0m         \u001b[0mclosest_hit_pad_remoteness\u001b[0m\u001b[0;34m.\u001b[0m\u001b[0mappend\u001b[0m\u001b[0;34m(\u001b[0m\u001b[0mls\u001b[0m\u001b[0;34m[\u001b[0m\u001b[0mx\u001b[0m\u001b[0;34m.\u001b[0m\u001b[0m_3\u001b[0m\u001b[0;34m]\u001b[0m\u001b[0;34m.\u001b[0m\u001b[0miloc\u001b[0m\u001b[0;34m[\u001b[0m\u001b[0mdistance\u001b[0m\u001b[0;34m.\u001b[0m\u001b[0margmin\u001b[0m\u001b[0;34m(\u001b[0m\u001b[0;34m)\u001b[0m\u001b[0;34m]\u001b[0m\u001b[0;34m.\u001b[0m\u001b[0mdistance10\u001b[0m\u001b[0;34m)\u001b[0m\u001b[0;34m\u001b[0m\u001b[0;34m\u001b[0m\u001b[0m\n\u001b[1;32m     14\u001b[0m     \u001b[0mdata\u001b[0m\u001b[0;34m[\u001b[0m\u001b[0;34mf'ClosestHitPadD[{s}]'\u001b[0m\u001b[0;34m]\u001b[0m \u001b[0;34m=\u001b[0m \u001b[0mclosest_hit_pad_remoteness\u001b[0m\u001b[0;34m\u001b[0m\u001b[0;34m\u001b[0m\u001b[0m\n",
      "\u001b[0;32m/anaconda3/lib/python3.6/site-packages/pandas/core/ops.py\u001b[0m in \u001b[0;36mwrapper\u001b[0;34m(left, right)\u001b[0m\n\u001b[1;32m   1067\u001b[0m             \u001b[0mrvalues\u001b[0m \u001b[0;34m=\u001b[0m \u001b[0mrvalues\u001b[0m\u001b[0;34m.\u001b[0m\u001b[0mvalues\u001b[0m\u001b[0;34m\u001b[0m\u001b[0;34m\u001b[0m\u001b[0m\n\u001b[1;32m   1068\u001b[0m \u001b[0;34m\u001b[0m\u001b[0m\n\u001b[0;32m-> 1069\u001b[0;31m         \u001b[0mresult\u001b[0m \u001b[0;34m=\u001b[0m \u001b[0msafe_na_op\u001b[0m\u001b[0;34m(\u001b[0m\u001b[0mlvalues\u001b[0m\u001b[0;34m,\u001b[0m \u001b[0mrvalues\u001b[0m\u001b[0;34m)\u001b[0m\u001b[0;34m\u001b[0m\u001b[0;34m\u001b[0m\u001b[0m\n\u001b[0m\u001b[1;32m   1070\u001b[0m         return construct_result(left, result,\n\u001b[1;32m   1071\u001b[0m                                 index=left.index, name=res_name, dtype=None)\n",
      "\u001b[0;32m/anaconda3/lib/python3.6/site-packages/pandas/core/ops.py\u001b[0m in \u001b[0;36msafe_na_op\u001b[0;34m(lvalues, rvalues)\u001b[0m\n\u001b[1;32m   1031\u001b[0m         \u001b[0;32mtry\u001b[0m\u001b[0;34m:\u001b[0m\u001b[0;34m\u001b[0m\u001b[0;34m\u001b[0m\u001b[0m\n\u001b[1;32m   1032\u001b[0m             \u001b[0;32mwith\u001b[0m \u001b[0mnp\u001b[0m\u001b[0;34m.\u001b[0m\u001b[0merrstate\u001b[0m\u001b[0;34m(\u001b[0m\u001b[0mall\u001b[0m\u001b[0;34m=\u001b[0m\u001b[0;34m'ignore'\u001b[0m\u001b[0;34m)\u001b[0m\u001b[0;34m:\u001b[0m\u001b[0;34m\u001b[0m\u001b[0;34m\u001b[0m\u001b[0m\n\u001b[0;32m-> 1033\u001b[0;31m                 \u001b[0;32mreturn\u001b[0m \u001b[0mna_op\u001b[0m\u001b[0;34m(\u001b[0m\u001b[0mlvalues\u001b[0m\u001b[0;34m,\u001b[0m \u001b[0mrvalues\u001b[0m\u001b[0;34m)\u001b[0m\u001b[0;34m\u001b[0m\u001b[0;34m\u001b[0m\u001b[0m\n\u001b[0m\u001b[1;32m   1034\u001b[0m         \u001b[0;32mexcept\u001b[0m \u001b[0mException\u001b[0m\u001b[0;34m:\u001b[0m\u001b[0;34m\u001b[0m\u001b[0;34m\u001b[0m\u001b[0m\n\u001b[1;32m   1035\u001b[0m             \u001b[0;32mif\u001b[0m \u001b[0mis_object_dtype\u001b[0m\u001b[0;34m(\u001b[0m\u001b[0mlvalues\u001b[0m\u001b[0;34m)\u001b[0m\u001b[0;34m:\u001b[0m\u001b[0;34m\u001b[0m\u001b[0;34m\u001b[0m\u001b[0m\n",
      "\u001b[0;32m/anaconda3/lib/python3.6/site-packages/pandas/core/ops.py\u001b[0m in \u001b[0;36mna_op\u001b[0;34m(x, y)\u001b[0m\n\u001b[1;32m   1010\u001b[0m \u001b[0;34m\u001b[0m\u001b[0m\n\u001b[1;32m   1011\u001b[0m         \u001b[0;32mtry\u001b[0m\u001b[0;34m:\u001b[0m\u001b[0;34m\u001b[0m\u001b[0;34m\u001b[0m\u001b[0m\n\u001b[0;32m-> 1012\u001b[0;31m             \u001b[0mresult\u001b[0m \u001b[0;34m=\u001b[0m \u001b[0mexpressions\u001b[0m\u001b[0;34m.\u001b[0m\u001b[0mevaluate\u001b[0m\u001b[0;34m(\u001b[0m\u001b[0mop\u001b[0m\u001b[0;34m,\u001b[0m \u001b[0mstr_rep\u001b[0m\u001b[0;34m,\u001b[0m \u001b[0mx\u001b[0m\u001b[0;34m,\u001b[0m \u001b[0my\u001b[0m\u001b[0;34m,\u001b[0m \u001b[0;34m**\u001b[0m\u001b[0meval_kwargs\u001b[0m\u001b[0;34m)\u001b[0m\u001b[0;34m\u001b[0m\u001b[0;34m\u001b[0m\u001b[0m\n\u001b[0m\u001b[1;32m   1013\u001b[0m         \u001b[0;32mexcept\u001b[0m \u001b[0mTypeError\u001b[0m\u001b[0;34m:\u001b[0m\u001b[0;34m\u001b[0m\u001b[0;34m\u001b[0m\u001b[0m\n\u001b[1;32m   1014\u001b[0m             \u001b[0;32mif\u001b[0m \u001b[0misinstance\u001b[0m\u001b[0;34m(\u001b[0m\u001b[0my\u001b[0m\u001b[0;34m,\u001b[0m \u001b[0;34m(\u001b[0m\u001b[0mnp\u001b[0m\u001b[0;34m.\u001b[0m\u001b[0mndarray\u001b[0m\u001b[0;34m,\u001b[0m \u001b[0mABCSeries\u001b[0m\u001b[0;34m,\u001b[0m \u001b[0mpd\u001b[0m\u001b[0;34m.\u001b[0m\u001b[0mIndex\u001b[0m\u001b[0;34m)\u001b[0m\u001b[0;34m)\u001b[0m\u001b[0;34m:\u001b[0m\u001b[0;34m\u001b[0m\u001b[0;34m\u001b[0m\u001b[0m\n",
      "\u001b[0;32m/anaconda3/lib/python3.6/site-packages/pandas/core/computation/expressions.py\u001b[0m in \u001b[0;36mevaluate\u001b[0;34m(op, op_str, a, b, use_numexpr, **eval_kwargs)\u001b[0m\n\u001b[1;32m    203\u001b[0m     \u001b[0muse_numexpr\u001b[0m \u001b[0;34m=\u001b[0m \u001b[0muse_numexpr\u001b[0m \u001b[0;32mand\u001b[0m \u001b[0m_bool_arith_check\u001b[0m\u001b[0;34m(\u001b[0m\u001b[0mop_str\u001b[0m\u001b[0;34m,\u001b[0m \u001b[0ma\u001b[0m\u001b[0;34m,\u001b[0m \u001b[0mb\u001b[0m\u001b[0;34m)\u001b[0m\u001b[0;34m\u001b[0m\u001b[0;34m\u001b[0m\u001b[0m\n\u001b[1;32m    204\u001b[0m     \u001b[0;32mif\u001b[0m \u001b[0muse_numexpr\u001b[0m\u001b[0;34m:\u001b[0m\u001b[0;34m\u001b[0m\u001b[0;34m\u001b[0m\u001b[0m\n\u001b[0;32m--> 205\u001b[0;31m         \u001b[0;32mreturn\u001b[0m \u001b[0m_evaluate\u001b[0m\u001b[0;34m(\u001b[0m\u001b[0mop\u001b[0m\u001b[0;34m,\u001b[0m \u001b[0mop_str\u001b[0m\u001b[0;34m,\u001b[0m \u001b[0ma\u001b[0m\u001b[0;34m,\u001b[0m \u001b[0mb\u001b[0m\u001b[0;34m,\u001b[0m \u001b[0;34m**\u001b[0m\u001b[0meval_kwargs\u001b[0m\u001b[0;34m)\u001b[0m\u001b[0;34m\u001b[0m\u001b[0;34m\u001b[0m\u001b[0m\n\u001b[0m\u001b[1;32m    206\u001b[0m     \u001b[0;32mreturn\u001b[0m \u001b[0m_evaluate_standard\u001b[0m\u001b[0;34m(\u001b[0m\u001b[0mop\u001b[0m\u001b[0;34m,\u001b[0m \u001b[0mop_str\u001b[0m\u001b[0;34m,\u001b[0m \u001b[0ma\u001b[0m\u001b[0;34m,\u001b[0m \u001b[0mb\u001b[0m\u001b[0;34m)\u001b[0m\u001b[0;34m\u001b[0m\u001b[0;34m\u001b[0m\u001b[0m\n\u001b[1;32m    207\u001b[0m \u001b[0;34m\u001b[0m\u001b[0m\n",
      "\u001b[0;32m/anaconda3/lib/python3.6/site-packages/pandas/core/computation/expressions.py\u001b[0m in \u001b[0;36m_evaluate_numexpr\u001b[0;34m(op, op_str, a, b, truediv, reversed, **eval_kwargs)\u001b[0m\n\u001b[1;32m    118\u001b[0m \u001b[0;34m\u001b[0m\u001b[0m\n\u001b[1;32m    119\u001b[0m     \u001b[0;32mif\u001b[0m \u001b[0mresult\u001b[0m \u001b[0;32mis\u001b[0m \u001b[0;32mNone\u001b[0m\u001b[0;34m:\u001b[0m\u001b[0;34m\u001b[0m\u001b[0;34m\u001b[0m\u001b[0m\n\u001b[0;32m--> 120\u001b[0;31m         \u001b[0mresult\u001b[0m \u001b[0;34m=\u001b[0m \u001b[0m_evaluate_standard\u001b[0m\u001b[0;34m(\u001b[0m\u001b[0mop\u001b[0m\u001b[0;34m,\u001b[0m \u001b[0mop_str\u001b[0m\u001b[0;34m,\u001b[0m \u001b[0ma\u001b[0m\u001b[0;34m,\u001b[0m \u001b[0mb\u001b[0m\u001b[0;34m)\u001b[0m\u001b[0;34m\u001b[0m\u001b[0;34m\u001b[0m\u001b[0m\n\u001b[0m\u001b[1;32m    121\u001b[0m \u001b[0;34m\u001b[0m\u001b[0m\n\u001b[1;32m    122\u001b[0m     \u001b[0;32mreturn\u001b[0m \u001b[0mresult\u001b[0m\u001b[0;34m\u001b[0m\u001b[0;34m\u001b[0m\u001b[0m\n",
      "\u001b[0;32m/anaconda3/lib/python3.6/site-packages/pandas/core/computation/expressions.py\u001b[0m in \u001b[0;36m_evaluate_standard\u001b[0;34m(op, op_str, a, b, **eval_kwargs)\u001b[0m\n\u001b[1;32m     62\u001b[0m     \u001b[0;32mif\u001b[0m \u001b[0m_TEST_MODE\u001b[0m\u001b[0;34m:\u001b[0m\u001b[0;34m\u001b[0m\u001b[0;34m\u001b[0m\u001b[0m\n\u001b[1;32m     63\u001b[0m         \u001b[0m_store_test_result\u001b[0m\u001b[0;34m(\u001b[0m\u001b[0;32mFalse\u001b[0m\u001b[0;34m)\u001b[0m\u001b[0;34m\u001b[0m\u001b[0;34m\u001b[0m\u001b[0m\n\u001b[0;32m---> 64\u001b[0;31m     \u001b[0;32mwith\u001b[0m \u001b[0mnp\u001b[0m\u001b[0;34m.\u001b[0m\u001b[0merrstate\u001b[0m\u001b[0;34m(\u001b[0m\u001b[0mall\u001b[0m\u001b[0;34m=\u001b[0m\u001b[0;34m'ignore'\u001b[0m\u001b[0;34m)\u001b[0m\u001b[0;34m:\u001b[0m\u001b[0;34m\u001b[0m\u001b[0;34m\u001b[0m\u001b[0m\n\u001b[0m\u001b[1;32m     65\u001b[0m         \u001b[0;32mreturn\u001b[0m \u001b[0mop\u001b[0m\u001b[0;34m(\u001b[0m\u001b[0ma\u001b[0m\u001b[0;34m,\u001b[0m \u001b[0mb\u001b[0m\u001b[0;34m)\u001b[0m\u001b[0;34m\u001b[0m\u001b[0;34m\u001b[0m\u001b[0m\n\u001b[1;32m     66\u001b[0m \u001b[0;34m\u001b[0m\u001b[0m\n",
      "\u001b[0;32m/anaconda3/lib/python3.6/site-packages/numpy/core/numeric.py\u001b[0m in \u001b[0;36m__enter__\u001b[0;34m(self)\u001b[0m\n\u001b[1;32m   2890\u001b[0m \u001b[0;34m\u001b[0m\u001b[0m\n\u001b[1;32m   2891\u001b[0m     \u001b[0;32mdef\u001b[0m \u001b[0m__enter__\u001b[0m\u001b[0;34m(\u001b[0m\u001b[0mself\u001b[0m\u001b[0;34m)\u001b[0m\u001b[0;34m:\u001b[0m\u001b[0;34m\u001b[0m\u001b[0;34m\u001b[0m\u001b[0m\n\u001b[0;32m-> 2892\u001b[0;31m         \u001b[0mself\u001b[0m\u001b[0;34m.\u001b[0m\u001b[0moldstate\u001b[0m \u001b[0;34m=\u001b[0m \u001b[0mseterr\u001b[0m\u001b[0;34m(\u001b[0m\u001b[0;34m**\u001b[0m\u001b[0mself\u001b[0m\u001b[0;34m.\u001b[0m\u001b[0mkwargs\u001b[0m\u001b[0;34m)\u001b[0m\u001b[0;34m\u001b[0m\u001b[0;34m\u001b[0m\u001b[0m\n\u001b[0m\u001b[1;32m   2893\u001b[0m         \u001b[0;32mif\u001b[0m \u001b[0mself\u001b[0m\u001b[0;34m.\u001b[0m\u001b[0mcall\u001b[0m \u001b[0;32mis\u001b[0m \u001b[0;32mnot\u001b[0m \u001b[0m_Unspecified\u001b[0m\u001b[0;34m:\u001b[0m\u001b[0;34m\u001b[0m\u001b[0;34m\u001b[0m\u001b[0m\n\u001b[1;32m   2894\u001b[0m             \u001b[0mself\u001b[0m\u001b[0;34m.\u001b[0m\u001b[0moldcall\u001b[0m \u001b[0;34m=\u001b[0m \u001b[0mseterrcall\u001b[0m\u001b[0;34m(\u001b[0m\u001b[0mself\u001b[0m\u001b[0;34m.\u001b[0m\u001b[0mcall\u001b[0m\u001b[0;34m)\u001b[0m\u001b[0;34m\u001b[0m\u001b[0;34m\u001b[0m\u001b[0m\n",
      "\u001b[0;32m/anaconda3/lib/python3.6/site-packages/numpy/core/numeric.py\u001b[0m in \u001b[0;36mseterr\u001b[0;34m(all, divide, over, under, invalid)\u001b[0m\n\u001b[1;32m   2586\u001b[0m \u001b[0;34m\u001b[0m\u001b[0m\n\u001b[1;32m   2587\u001b[0m     \u001b[0mpyvals\u001b[0m\u001b[0;34m[\u001b[0m\u001b[0;36m1\u001b[0m\u001b[0;34m]\u001b[0m \u001b[0;34m=\u001b[0m \u001b[0mmaskvalue\u001b[0m\u001b[0;34m\u001b[0m\u001b[0;34m\u001b[0m\u001b[0m\n\u001b[0;32m-> 2588\u001b[0;31m     \u001b[0mumath\u001b[0m\u001b[0;34m.\u001b[0m\u001b[0mseterrobj\u001b[0m\u001b[0;34m(\u001b[0m\u001b[0mpyvals\u001b[0m\u001b[0;34m)\u001b[0m\u001b[0;34m\u001b[0m\u001b[0;34m\u001b[0m\u001b[0m\n\u001b[0m\u001b[1;32m   2589\u001b[0m     \u001b[0;32mreturn\u001b[0m \u001b[0mold\u001b[0m\u001b[0;34m\u001b[0m\u001b[0;34m\u001b[0m\u001b[0m\n\u001b[1;32m   2590\u001b[0m \u001b[0;34m\u001b[0m\u001b[0m\n",
      "\u001b[0;31mKeyboardInterrupt\u001b[0m: "
     ]
    }
   ],
   "source": [
    "for s in range(4):\n",
    "    closest_hit_pad_remoteness = []\n",
    "#     matched_hit_pad_remoteness = [] # TODO!\n",
    "    \n",
    "    l1 = s2pad_distance[s][s2pad_distance[s].layer==0].drop(['layer'], axis=1)\n",
    "    l2 = s2pad_distance[s][s2pad_distance[s].layer==1].drop(['layer'], axis=1)\n",
    "    l3 = s2pad_distance[s][s2pad_distance[s].layer==2].drop(['layer'], axis=1)\n",
    "    l4 = s2pad_distance[s][s2pad_distance[s].layer==3].drop(['layer'], axis=1)\n",
    "    l5 = s2pad_distance[s][s2pad_distance[s].layer==4].drop(['layer'], axis=1)\n",
    "    ls = [l1, l2, l3, l4, l5]\n",
    "    for x in tqdm(data.loc[:, [f'ClosestHit_X[{s}]', f'ClosestHit_Y[{s}]', f'ClosestHit_Z[{s}]']].itertuples(), total=data.shape[0]):\n",
    "        distance = np.array((ls[x._3].X - x._1)**2 + (ls[x._3].Y - x._2)**2)\n",
    "        closest_hit_pad_remoteness.append(ls[x._3].iloc[distance.argmin()].distance10)\n",
    "    data[f'ClosestHitPadD[{s}]'] = closest_hit_pad_remoteness"
   ]
  },
  {
   "cell_type": "code",
   "execution_count": 55,
   "metadata": {
    "ExecuteTime": {
     "end_time": "2019-02-06T17:46:12.202381Z",
     "start_time": "2019-02-06T17:46:12.198814Z"
    }
   },
   "outputs": [],
   "source": [
    "x = data.loc[0, ['ClosestHit_X[0]', 'ClosestHit_Y[0]', 'ClosestHit_Z[0]']]"
   ]
  },
  {
   "cell_type": "code",
   "execution_count": 56,
   "metadata": {
    "ExecuteTime": {
     "end_time": "2019-02-06T17:46:58.000204Z",
     "start_time": "2019-02-06T17:46:57.995811Z"
    }
   },
   "outputs": [
    {
     "data": {
      "text/plain": [
       "ClosestHit_X[0]     387.78\n",
       "ClosestHit_Y[0]    433.572\n",
       "ClosestHit_Z[0]          0\n",
       "Name: 0, dtype: object"
      ]
     },
     "execution_count": 56,
     "metadata": {},
     "output_type": "execute_result"
    }
   ],
   "source": [
    "x"
   ]
  },
  {
   "cell_type": "code",
   "execution_count": 58,
   "metadata": {
    "ExecuteTime": {
     "end_time": "2019-02-06T17:47:30.398226Z",
     "start_time": "2019-02-06T17:47:30.392465Z"
    }
   },
   "outputs": [],
   "source": [
    "s = 0\n",
    "ls = s2pad_distance[s][s2pad_distance[s].layer==0].drop(['layer'], axis=1)\n",
    "ls.head()\n"
   ]
  },
  {
   "cell_type": "code",
   "execution_count": 66,
   "metadata": {
    "ExecuteTime": {
     "end_time": "2019-02-06T17:48:13.940646Z",
     "start_time": "2019-02-06T17:48:13.935994Z"
    }
   },
   "outputs": [
    {
     "data": {
      "text/plain": [
       "X             390.445007\n",
       "Y             485.257019\n",
       "distance10     68.608032\n",
       "Name: 5635, dtype: float64"
      ]
     },
     "execution_count": 66,
     "metadata": {},
     "output_type": "execute_result"
    }
   ],
   "source": [
    "ls.iloc[5634]"
   ]
  },
  {
   "cell_type": "code",
   "execution_count": 65,
   "metadata": {
    "ExecuteTime": {
     "end_time": "2019-02-06T17:48:01.118831Z",
     "start_time": "2019-02-06T17:48:01.114680Z"
    }
   },
   "outputs": [
    {
     "name": "stderr",
     "output_type": "stream",
     "text": [
      "/anaconda3/lib/python3.6/site-packages/ipykernel_launcher.py:1: FutureWarning: 'argmin' is deprecated, use 'idxmin' instead. The behavior of 'argmin'\n",
      "will be corrected to return the positional minimum in the future.\n",
      "Use 'series.values.argmin' to get the position of the minimum now.\n",
      "  \"\"\"Entry point for launching an IPython kernel.\n"
     ]
    },
    {
     "data": {
      "text/plain": [
       "5634"
      ]
     },
     "execution_count": 65,
     "metadata": {},
     "output_type": "execute_result"
    }
   ],
   "source": [
    "distance.argmin()"
   ]
  },
  {
   "cell_type": "code",
   "execution_count": 16,
   "metadata": {
    "ExecuteTime": {
     "end_time": "2019-02-06T12:26:37.912483Z",
     "start_time": "2019-02-06T12:26:36.295096Z"
    }
   },
   "outputs": [],
   "source": [
    "# for i in range(4):\n",
    "#     s2pad_distance[i]\n",
    "#     data['ClosestHitPadAverageDistance[{i}]'] = pass\n"
   ]
  },
  {
   "cell_type": "markdown",
   "metadata": {},
   "source": [
    "This is columns with big feature importance from cross-validated lightgbm and catboost"
   ]
  },
  {
   "cell_type": "code",
   "execution_count": 6,
   "metadata": {
    "ExecuteTime": {
     "end_time": "2019-02-06T08:40:49.791093Z",
     "start_time": "2019-02-06T08:40:49.775139Z"
    }
   },
   "outputs": [],
   "source": [
    "valuable_columns = ['ncl[0]',\n",
    " 'ncl[1]',\n",
    " 'ncl[2]',\n",
    " 'ncl[3]',\n",
    " 'avg_cs[0]',\n",
    " 'avg_cs[1]',\n",
    " 'avg_cs[2]',\n",
    " 'avg_cs[3]',\n",
    " 'MatchedHit_TYPE[0]',\n",
    " 'MatchedHit_TYPE[1]',\n",
    " 'MatchedHit_TYPE[2]',\n",
    " 'MatchedHit_X[3]',\n",
    " 'MatchedHit_Y[0]',\n",
    " 'MatchedHit_Y[1]',\n",
    " 'MatchedHit_Y[2]',\n",
    " 'MatchedHit_Y[3]',\n",
    " 'MatchedHit_DX[3]',\n",
    " 'MatchedHit_DY[3]',\n",
    " 'MatchedHit_DZ[3]',\n",
    " 'MatchedHit_T[0]',\n",
    " 'MatchedHit_DT[0]',\n",
    " 'MatchedHit_DT[1]',\n",
    " 'Lextra_X[3]',\n",
    " 'NShared',\n",
    " 'Mextra_DX2[0]',\n",
    " 'Mextra_DX2[3]',\n",
    " 'FOI_hits_N',\n",
    " 'PT',\n",
    " 'P',\n",
    " 'ClosestHit_X[0]',\n",
    " 'ClosestHit_X[1]',\n",
    " 'ClosestHit_X[2]',\n",
    " 'ClosestHit_X[3]',\n",
    " 'ClosestHit_Y[0]',\n",
    " 'ClosestHit_Y[1]',\n",
    " 'ClosestHit_Y[2]',\n",
    " 'ClosestHit_Y[3]',\n",
    " 'ClosestHit_z[0]',\n",
    " 'Lextra_ClosestHit_dt_Y[0]',\n",
    " 'MatchedHit_ClosestHit_dtY[0]',\n",
    " 'Lextra_ClosestHit_dt_X[1]',\n",
    " 'Lextra_ClosestHit_dt_Y[1]',\n",
    " 'MatchedHit_ClosestHit_dtY[1]',\n",
    " 'MatchedHit_ClosestHit_dtX[2]',\n",
    " 'MatchedHit_ClosestHit_dtY[2]',\n",
    " 'MatchedHit_ClosestHit_dtX[3]',\n",
    " 'MatchedHit_ClosestHit_dtY[3]',\n",
    " 'ClosestHit_to_Center[0]',\n",
    " 'ClosestHit_to_Center[1]',\n",
    " 'ClosestHit_to_Center[2]',\n",
    " 'ClosestHit_to_Center[3]']"
   ]
  },
  {
   "cell_type": "code",
   "execution_count": 7,
   "metadata": {
    "ExecuteTime": {
     "end_time": "2019-02-06T08:40:55.105302Z",
     "start_time": "2019-02-06T08:40:50.509325Z"
    }
   },
   "outputs": [],
   "source": [
    "data = data[valuable_columns]"
   ]
  },
  {
   "cell_type": "code",
   "execution_count": 8,
   "metadata": {
    "ExecuteTime": {
     "end_time": "2019-02-06T08:40:55.109743Z",
     "start_time": "2019-02-06T08:40:55.107345Z"
    }
   },
   "outputs": [],
   "source": [
    "# train_x, test_x, train_y, test_y = train_test_split(data, target_labels, test_size=0.8)"
   ]
  },
  {
   "cell_type": "markdown",
   "metadata": {},
   "source": [
    "## Cross-validate"
   ]
  },
  {
   "cell_type": "code",
   "execution_count": 9,
   "metadata": {
    "ExecuteTime": {
     "end_time": "2019-02-06T08:42:15.414198Z",
     "start_time": "2019-02-06T08:40:55.111946Z"
    }
   },
   "outputs": [
    {
     "ename": "NameError",
     "evalue": "name 'y_train_true' is not defined",
     "output_type": "error",
     "traceback": [
      "\u001b[0;31m---------------------------------------------------------------------------\u001b[0m",
      "\u001b[0;31mNameError\u001b[0m                                 Traceback (most recent call last)",
      "\u001b[0;32m<ipython-input-9-3ac32c902e0f>\u001b[0m in \u001b[0;36m<module>\u001b[0;34m()\u001b[0m\n\u001b[1;32m     18\u001b[0m \u001b[0;34m\u001b[0m\u001b[0m\n\u001b[1;32m     19\u001b[0m     \u001b[0mpred_train\u001b[0m \u001b[0;34m=\u001b[0m \u001b[0mmodel\u001b[0m\u001b[0;34m.\u001b[0m\u001b[0mpredict_proba\u001b[0m\u001b[0;34m(\u001b[0m\u001b[0mX_train\u001b[0m\u001b[0;34m)\u001b[0m\u001b[0;34m[\u001b[0m\u001b[0;34m:\u001b[0m\u001b[0;34m,\u001b[0m \u001b[0;36m1\u001b[0m\u001b[0;34m]\u001b[0m\u001b[0;34m\u001b[0m\u001b[0;34m\u001b[0m\u001b[0m\n\u001b[0;32m---> 20\u001b[0;31m     \u001b[0mtrain_score\u001b[0m \u001b[0;34m=\u001b[0m \u001b[0mscoring\u001b[0m\u001b[0;34m.\u001b[0m\u001b[0mrejection90\u001b[0m\u001b[0;34m(\u001b[0m\u001b[0mnp\u001b[0m\u001b[0;34m.\u001b[0m\u001b[0marray\u001b[0m\u001b[0;34m(\u001b[0m\u001b[0my_train_true\u001b[0m\u001b[0;34m.\u001b[0m\u001b[0mlabel\u001b[0m\u001b[0;34m)\u001b[0m\u001b[0;34m,\u001b[0m \u001b[0mpred_train\u001b[0m\u001b[0;34m,\u001b[0m \u001b[0msample_weight\u001b[0m\u001b[0;34m=\u001b[0m\u001b[0mnp\u001b[0m\u001b[0;34m.\u001b[0m\u001b[0marray\u001b[0m\u001b[0;34m(\u001b[0m\u001b[0my_train_true\u001b[0m\u001b[0;34m.\u001b[0m\u001b[0mweight\u001b[0m\u001b[0;34m)\u001b[0m\u001b[0;34m)\u001b[0m \u001b[0;34m*\u001b[0m \u001b[0;36m10000\u001b[0m\u001b[0;34m\u001b[0m\u001b[0;34m\u001b[0m\u001b[0m\n\u001b[0m\u001b[1;32m     21\u001b[0m     \u001b[0mtrain_scores\u001b[0m\u001b[0;34m.\u001b[0m\u001b[0mappend\u001b[0m\u001b[0;34m(\u001b[0m\u001b[0mtrain_score\u001b[0m\u001b[0;34m)\u001b[0m\u001b[0;34m\u001b[0m\u001b[0;34m\u001b[0m\u001b[0m\n\u001b[1;32m     22\u001b[0m \u001b[0;34m\u001b[0m\u001b[0m\n",
      "\u001b[0;31mNameError\u001b[0m: name 'y_train_true' is not defined"
     ]
    }
   ],
   "source": [
    "k =  KFold(n_splits=5) # K-Fold index generator\n",
    "scores = [] # Test scores\n",
    "train_scores = [] # Train scores\n",
    "feature_importances = [] # Feature importances\n",
    "\n",
    "\n",
    "for train_index, test_index in k.split(data, target_labels):\n",
    "    \n",
    "    X_train, X_test, y_train, y_test = data.iloc[train_index], data.iloc[test_index], target_labels.iloc[train_index], target_labels.iloc[test_index]\n",
    "\n",
    "#     y_train_true = y_train.copy() # Keep unmodified labels for evaluating\n",
    "#     y_train.label[y_train.weight < 0] = (1 + -1 * y_train.label[y_train.weight < 0]) # Invert labels\n",
    "#     y_train.weight = np.abs(y_train.weight) # Take absolute weights\n",
    "\n",
    "    model = lightgbm.LGBMClassifier(num_leaves=50, n_estimators=200, learning_rate=0.01)\n",
    "\n",
    "    model.fit(X_train, y_train.label, sample_weight = y_train.weight)\n",
    "    \n",
    "    pred_train = model.predict_proba(X_train)[:, 1]\n",
    "    train_score = scoring.rejection90(np.array(y_train_true.label), pred_train, sample_weight=np.array(y_train_true.weight)) * 10000\n",
    "    train_scores.append(train_score)\n",
    "    \n",
    "    pred_test = model.predict_proba(X_test)[:, 1]\n",
    "    score = scoring.rejection90(np.array(y_test.label), pred_test, sample_weight=np.array(y_test.weight)) * 10000\n",
    "    scores.append(score)\n",
    "    print(f\"Train score: {train_score:.2f}, test score: {score:.2f}\")\n",
    "    \n",
    "    feature_importances.append(model.feature_importances_)\n",
    "\n",
    "print(f\"Train mean score: {np.mean(train_scores):.2f}, test mean score: {np.mean(scores):.2f}\")\n"
   ]
  },
  {
   "cell_type": "markdown",
   "metadata": {},
   "source": [
    "## Train final model"
   ]
  },
  {
   "cell_type": "code",
   "execution_count": null,
   "metadata": {},
   "outputs": [],
   "source": [
    "target_labels.label[target_labels.weight < 0] = (1 + -1 * target_labels.label[target_labels.weight < 0])\n",
    "target_labels.weight = np.abs(target_labels.weight)"
   ]
  },
  {
   "cell_type": "code",
   "execution_count": null,
   "metadata": {
    "ExecuteTime": {
     "end_time": "2019-02-06T07:51:06.308535Z",
     "start_time": "2019-02-06T07:47:55.619108Z"
    }
   },
   "outputs": [],
   "source": [
    "model.fit(data, target_labels.label, sample_weight=target_labels.weight)"
   ]
  },
  {
   "cell_type": "markdown",
   "metadata": {},
   "source": [
    "## Make prediction"
   ]
  },
  {
   "cell_type": "code",
   "execution_count": null,
   "metadata": {
    "ExecuteTime": {
     "end_time": "2019-02-06T07:51:08.338034Z",
     "start_time": "2019-02-06T07:51:06.313087Z"
    }
   },
   "outputs": [],
   "source": [
    "submission_data = pd.read_hdf(\"../data/all_test_data.hdf\")\n",
    "submission_data.rename(rename_dict, axis='columns', inplace=True)\n",
    "\n",
    "for j in range(4):\n",
    "    distance_to_center = 0\n",
    "    for i in [\"X\", \"Y\"]:\n",
    "        submission_data[f'Lextra_ClosestHit_dt_{i}[{j}]'] = np.square(submission_data[f'ClosestHit_{i}[{j}]'] - submission_data[f'Lextra_{i}[{j}]'])\n",
    "        submission_data[f'MatchedHit_ClosestHit_dt{i}[{j}]'] = np.square(submission_data[f'ClosestHit_{i}[{j}]'] - submission_data[f'MatchedHit_{i}[{j}]'])\n",
    "        distance_to_center += np.square(data[f'ClosestHit_{i}[{j}]'])\n",
    "    submission_data[f'ClosestHit_to_Center[{j}]'] = np.sqrt(distance_to_center)\n",
    "    \n",
    "# submission_data = submission_data[valuable_columns]\n",
    "    "
   ]
  },
  {
   "cell_type": "code",
   "execution_count": null,
   "metadata": {
    "ExecuteTime": {
     "end_time": "2019-02-06T07:52:21.739711Z",
     "start_time": "2019-02-06T07:52:18.400426Z"
    }
   },
   "outputs": [],
   "source": [
    "submission_y = model.predict_proba(submission_data)[:,1]"
   ]
  },
  {
   "cell_type": "code",
   "execution_count": null,
   "metadata": {
    "ExecuteTime": {
     "end_time": "2019-02-06T07:52:23.838411Z",
     "start_time": "2019-02-06T07:52:22.360693Z"
    }
   },
   "outputs": [],
   "source": [
    "pd.DataFrame(data={\"prediction\": submission_y}, index=submission_data.index).to_csv(\n",
    "    \"sample_submission2.csv\", index_label=\"id\")\n"
   ]
  },
  {
   "cell_type": "code",
   "execution_count": null,
   "metadata": {},
   "outputs": [],
   "source": []
  }
 ],
 "metadata": {
  "kernelspec": {
   "display_name": "Python 3",
   "language": "python",
   "name": "python3"
  },
  "language_info": {
   "codemirror_mode": {
    "name": "ipython",
    "version": 3
   },
   "file_extension": ".py",
   "mimetype": "text/x-python",
   "name": "python",
   "nbconvert_exporter": "python",
   "pygments_lexer": "ipython3",
   "version": "3.6.8"
  }
 },
 "nbformat": 4,
 "nbformat_minor": 2
}
