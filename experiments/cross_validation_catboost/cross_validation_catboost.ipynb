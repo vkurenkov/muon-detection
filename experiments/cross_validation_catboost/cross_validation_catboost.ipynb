{
 "cells": [
  {
   "cell_type": "code",
   "execution_count": 1,
   "metadata": {
    "ExecuteTime": {
     "end_time": "2019-02-09T21:55:49.368018Z",
     "start_time": "2019-02-09T21:55:49.361603Z"
    }
   },
   "outputs": [],
   "source": [
    "import os\n",
    "os.environ[\"CUDA_DEVICE_ORDER\"]=\"PCI_BUS_ID\";\n",
    " \n",
    "# The GPU id to use, usually either \"0\" or \"1\";\n",
    "os.environ[\"CUDA_VISIBLE_DEVICES\"]=\"0\";"
   ]
  },
  {
   "cell_type": "code",
   "execution_count": 2,
   "metadata": {
    "ExecuteTime": {
     "end_time": "2019-02-09T21:55:50.186906Z",
     "start_time": "2019-02-09T21:55:50.184076Z"
    }
   },
   "outputs": [],
   "source": [
    "import sys\n",
    "sys.path.append('../..')"
   ]
  },
  {
   "cell_type": "code",
   "execution_count": 3,
   "metadata": {
    "ExecuteTime": {
     "end_time": "2019-02-09T21:55:51.533256Z",
     "start_time": "2019-02-09T21:55:50.598323Z"
    }
   },
   "outputs": [],
   "source": [
    "import pandas as pd\n",
    "import numpy as np\n",
    "import catboost\n",
    "from sklearn.model_selection import train_test_split, KFold\n",
    "import itertools\n",
    "from tqdm import tqdm_notebook as tqdm\n",
    "import scoring\n",
    "\n",
    "pd.options.display.max_rows = 80\n",
    "pd.options.display.max_columns = 80"
   ]
  },
  {
   "cell_type": "code",
   "execution_count": 4,
   "metadata": {
    "ExecuteTime": {
     "end_time": "2019-02-09T21:55:52.543132Z",
     "start_time": "2019-02-09T21:55:51.537977Z"
    }
   },
   "outputs": [
    {
     "data": {
      "text/plain": [
       "((5445705, 89), (5445705, 2))"
      ]
     },
     "execution_count": 4,
     "metadata": {},
     "output_type": "execute_result"
    }
   ],
   "source": [
    "data = pd.read_hdf(\"../../data/all_train_data.hdf\")\n",
    "target_labels = pd.read_hdf(\"../../data/train_labels.hdf\")\n",
    "\n",
    "data.shape, target_labels.shape"
   ]
  },
  {
   "cell_type": "code",
   "execution_count": 5,
   "metadata": {
    "ExecuteTime": {
     "end_time": "2019-02-09T21:55:52.549045Z",
     "start_time": "2019-02-09T21:55:52.544548Z"
    }
   },
   "outputs": [],
   "source": [
    "def preprocess_data(data: pd.DataFrame):\n",
    "    new_columns = list(itertools.chain(*[[f'ClosestHit_{f}[{i}]' for i in range(4)] for f in [\"X\", \"Y\", \"T\", \"z\", \"dx\", \"dy\"]]))\n",
    "    rename_dict = dict(zip(range(24), new_columns))\n",
    "    data.rename(rename_dict, axis='columns', inplace=True)\n",
    "    \n",
    "    for j in range(4):\n",
    "        distance_to_center = 0\n",
    "        mh_distance_to_center = 0\n",
    "        for i in [\"X\", \"Y\"]:\n",
    "            data[f'MatchedHit_ClosestHit_dt{i}[{j}]'] = np.square(data[f'ClosestHit_{i}[{j}]'] - data[f'MatchedHit_{i}[{j}]'])\n",
    "            data[f'MatchedHit_Lextra_dt{i}[{j}]'] = np.square(data[f'Lextra_{i}[{j}]'] - data[f'MatchedHit_{i}[{j}]'])\n",
    "            distance_to_center += np.square(data[f'ClosestHit_{i}[{j}]'])\n",
    "            mh_distance_to_center += np.square(data[f'MatchedHit_{i}[{j}]'])                                     \n",
    "        data[f'ClosestHit_to_Center[{j}]'] = np.sqrt(distance_to_center)\n",
    "        data[f'MatchedHit_to_Center[{j}]'] = np.sqrt(mh_distance_to_center)"
   ]
  },
  {
   "cell_type": "code",
   "execution_count": 6,
   "metadata": {
    "ExecuteTime": {
     "end_time": "2019-02-09T21:55:52.705577Z",
     "start_time": "2019-02-09T21:55:52.702154Z"
    }
   },
   "outputs": [
    {
     "data": {
      "text/plain": [
       "((5445705, 89), (5445705, 2))"
      ]
     },
     "execution_count": 6,
     "metadata": {},
     "output_type": "execute_result"
    }
   ],
   "source": [
    "data.shape, target_labels.shape"
   ]
  },
  {
   "cell_type": "code",
   "execution_count": 7,
   "metadata": {
    "ExecuteTime": {
     "end_time": "2019-02-09T21:55:58.418952Z",
     "start_time": "2019-02-09T21:55:53.634488Z"
    }
   },
   "outputs": [],
   "source": [
    "preprocess_data(data)"
   ]
  },
  {
   "cell_type": "code",
   "execution_count": 8,
   "metadata": {
    "ExecuteTime": {
     "end_time": "2019-02-09T21:55:58.424325Z",
     "start_time": "2019-02-09T21:55:58.420971Z"
    }
   },
   "outputs": [
    {
     "data": {
      "text/plain": [
       "((5445705, 113), (5445705, 2))"
      ]
     },
     "execution_count": 8,
     "metadata": {},
     "output_type": "execute_result"
    }
   ],
   "source": [
    "data.shape, target_labels.shape"
   ]
  },
  {
   "cell_type": "code",
   "execution_count": 9,
   "metadata": {
    "ExecuteTime": {
     "end_time": "2019-02-09T21:55:58.437665Z",
     "start_time": "2019-02-09T21:55:58.426080Z"
    }
   },
   "outputs": [],
   "source": [
    "def _test_parameters(fit_params):\n",
    "    k = KFold(n_splits=5, shuffle=True, random_state=0) # K-Fold index generator\n",
    "    \n",
    "    test_scores = [] # Test scores\n",
    "    train_scores = [] # Train scores\n",
    "\n",
    "    for train_index, test_index in tqdm(k.split(data, target_labels), leave=False, total=5):\n",
    "\n",
    "        X_train, X_test, y_train, y_test = data.iloc[train_index], data.iloc[test_index], target_labels.iloc[train_index], target_labels.iloc[test_index]\n",
    "\n",
    "        y_train = y_train.copy()\n",
    "        y_train_true = y_train.copy() # Keep unmodified labels for evaluating\n",
    "        y_train.loc[y_train.weight < 0, 'label'] = 1 - y_train.loc[y_train.weight < 0, 'label'] # Invert labels\n",
    "        y_train.weight = np.abs(y_train.weight) # Take absolute weights\n",
    "        \n",
    "        fit_params['metric_period'] = 10\n",
    "        fit_params['task_type'] = 'GPU'\n",
    "        fit_params['verbose'] = False\n",
    "        model = catboost.CatBoostClassifier(**fit_params)\n",
    "\n",
    "        model.fit(X_train, y_train.label, sample_weight=y_train.weight)\n",
    "\n",
    "        pred_train = model.predict_proba(X_train)[:, 1]\n",
    "        train_score = scoring.rejection90(y_train_true.label.values, pred_train, sample_weight=y_train_true.weight.values) * 10000\n",
    "        train_scores.append(train_score)\n",
    "\n",
    "        pred_test = model.predict_proba(X_test)[:, 1]\n",
    "        score = scoring.rejection90(y_test.label.values, pred_test, sample_weight=y_test.weight.values) * 10000\n",
    "        test_scores.append(score)\n",
    "    \n",
    "    train_score_mean = np.mean(train_scores)\n",
    "    train_score_std = np.std(train_scores)\n",
    "    \n",
    "    test_score_mean = np.mean(test_scores)\n",
    "    test_score_std = np.std(test_scores)    \n",
    "    \n",
    "    return train_score_mean, train_score_std, test_score_mean, test_score_std\n",
    "    "
   ]
  },
  {
   "cell_type": "code",
   "execution_count": 10,
   "metadata": {
    "ExecuteTime": {
     "end_time": "2019-02-09T21:55:58.448986Z",
     "start_time": "2019-02-09T21:55:58.439480Z"
    }
   },
   "outputs": [],
   "source": [
    "def run_cross_validation(parameters):\n",
    "    param_names = list(parameters.keys())\n",
    "    param_combinations = list(itertools.product(*list(parameters.values())))\n",
    "    results = pd.DataFrame(param_combinations, columns=param_names)\n",
    "    results['train_score_mean'] = -1.0\n",
    "    results['train_score_std'] = -1.0\n",
    "    results['test_score_mean'] = -1.0\n",
    "    results['test_score_std'] = -1.0\n",
    "    \n",
    "    \n",
    "    for i in tqdm(range(len(param_combinations)), leave=True):\n",
    "        fit_params = dict(zip(param_names, param_combinations[i]))\n",
    "        train_score_mean, train_score_std, test_score_mean, test_score_std = _test_parameters(fit_params)\n",
    "        \n",
    "        results.loc[i, 'train_score_mean'] = train_score_mean\n",
    "        results.loc[i, 'train_score_std'] = train_score_std\n",
    "        results.loc[i, 'test_score_mean'] = test_score_mean\n",
    "        results.loc[i, 'test_score_std'] = test_score_std\n",
    "        \n",
    "        print(fit_params)\n",
    "        print(f'Train score: {train_score_mean:.0f} ± {train_score_std:.0f}')\n",
    "        print(f'Test score: {test_score_mean:.0f} ± {test_score_std:.0f}')\n",
    "        print()\n",
    "\n",
    "    return results\n"
   ]
  },
  {
   "cell_type": "code",
   "execution_count": 11,
   "metadata": {
    "ExecuteTime": {
     "end_time": "2019-02-09T16:53:22.100610Z",
     "start_time": "2019-02-09T16:53:22.096209Z"
    }
   },
   "outputs": [],
   "source": [
    "parameters = {'iterations': [1000, 1250, 1500, 1750, 2000], 'max_depth': [5, 6, 7]}"
   ]
  },
  {
   "cell_type": "code",
   "execution_count": 12,
   "metadata": {
    "ExecuteTime": {
     "end_time": "2019-02-09T21:29:44.959627Z",
     "start_time": "2019-02-09T16:53:27.981573Z"
    }
   },
   "outputs": [
    {
     "data": {
      "application/vnd.jupyter.widget-view+json": {
       "model_id": "9df5a4a4086e455496447b809b2fca2a",
       "version_major": 2,
       "version_minor": 0
      },
      "text/plain": [
       "HBox(children=(IntProgress(value=0, max=15), HTML(value='')))"
      ]
     },
     "metadata": {},
     "output_type": "display_data"
    },
    {
     "data": {
      "application/vnd.jupyter.widget-view+json": {
       "model_id": "",
       "version_major": 2,
       "version_minor": 0
      },
      "text/plain": [
       "HBox(children=(IntProgress(value=0, max=5), HTML(value='')))"
      ]
     },
     "metadata": {},
     "output_type": "display_data"
    },
    {
     "name": "stdout",
     "output_type": "stream",
     "text": [
      "{'iterations': 1000, 'max_depth': 5, 'metric_period': 10, 'task_type': 'GPU', 'verbose': False}\n",
      "Train score: 9589 ± 25\n",
      "Test score: 7765 ± 110\n",
      "\n"
     ]
    },
    {
     "data": {
      "application/vnd.jupyter.widget-view+json": {
       "model_id": "",
       "version_major": 2,
       "version_minor": 0
      },
      "text/plain": [
       "HBox(children=(IntProgress(value=0, max=5), HTML(value='')))"
      ]
     },
     "metadata": {},
     "output_type": "display_data"
    },
    {
     "name": "stdout",
     "output_type": "stream",
     "text": [
      "{'iterations': 1000, 'max_depth': 6, 'metric_period': 10, 'task_type': 'GPU', 'verbose': False}\n",
      "Train score: 10322 ± 45\n",
      "Test score: 7789 ± 59\n",
      "\n"
     ]
    },
    {
     "data": {
      "application/vnd.jupyter.widget-view+json": {
       "model_id": "",
       "version_major": 2,
       "version_minor": 0
      },
      "text/plain": [
       "HBox(children=(IntProgress(value=0, max=5), HTML(value='')))"
      ]
     },
     "metadata": {},
     "output_type": "display_data"
    },
    {
     "name": "stdout",
     "output_type": "stream",
     "text": [
      "{'iterations': 1000, 'max_depth': 7, 'metric_period': 10, 'task_type': 'GPU', 'verbose': False}\n",
      "Train score: 11069 ± 34\n",
      "Test score: 7751 ± 91\n",
      "\n"
     ]
    },
    {
     "data": {
      "application/vnd.jupyter.widget-view+json": {
       "model_id": "",
       "version_major": 2,
       "version_minor": 0
      },
      "text/plain": [
       "HBox(children=(IntProgress(value=0, max=5), HTML(value='')))"
      ]
     },
     "metadata": {},
     "output_type": "display_data"
    },
    {
     "name": "stdout",
     "output_type": "stream",
     "text": [
      "{'iterations': 1250, 'max_depth': 5, 'metric_period': 10, 'task_type': 'GPU', 'verbose': False}\n",
      "Train score: 9652 ± 48\n",
      "Test score: 7787 ± 99\n",
      "\n"
     ]
    },
    {
     "data": {
      "application/vnd.jupyter.widget-view+json": {
       "model_id": "",
       "version_major": 2,
       "version_minor": 0
      },
      "text/plain": [
       "HBox(children=(IntProgress(value=0, max=5), HTML(value='')))"
      ]
     },
     "metadata": {},
     "output_type": "display_data"
    },
    {
     "name": "stdout",
     "output_type": "stream",
     "text": [
      "{'iterations': 1250, 'max_depth': 6, 'metric_period': 10, 'task_type': 'GPU', 'verbose': False}\n",
      "Train score: 10393 ± 38\n",
      "Test score: 7792 ± 76\n",
      "\n"
     ]
    },
    {
     "data": {
      "application/vnd.jupyter.widget-view+json": {
       "model_id": "",
       "version_major": 2,
       "version_minor": 0
      },
      "text/plain": [
       "HBox(children=(IntProgress(value=0, max=5), HTML(value='')))"
      ]
     },
     "metadata": {},
     "output_type": "display_data"
    },
    {
     "name": "stdout",
     "output_type": "stream",
     "text": [
      "{'iterations': 1250, 'max_depth': 7, 'metric_period': 10, 'task_type': 'GPU', 'verbose': False}\n",
      "Train score: 11154 ± 30\n",
      "Test score: 7795 ± 96\n",
      "\n"
     ]
    },
    {
     "data": {
      "application/vnd.jupyter.widget-view+json": {
       "model_id": "",
       "version_major": 2,
       "version_minor": 0
      },
      "text/plain": [
       "HBox(children=(IntProgress(value=0, max=5), HTML(value='')))"
      ]
     },
     "metadata": {},
     "output_type": "display_data"
    },
    {
     "name": "stdout",
     "output_type": "stream",
     "text": [
      "{'iterations': 1500, 'max_depth': 5, 'metric_period': 10, 'task_type': 'GPU', 'verbose': False}\n",
      "Train score: 9695 ± 25\n",
      "Test score: 7783 ± 65\n",
      "\n"
     ]
    },
    {
     "data": {
      "application/vnd.jupyter.widget-view+json": {
       "model_id": "",
       "version_major": 2,
       "version_minor": 0
      },
      "text/plain": [
       "HBox(children=(IntProgress(value=0, max=5), HTML(value='')))"
      ]
     },
     "metadata": {},
     "output_type": "display_data"
    },
    {
     "name": "stdout",
     "output_type": "stream",
     "text": [
      "{'iterations': 1500, 'max_depth': 6, 'metric_period': 10, 'task_type': 'GPU', 'verbose': False}\n",
      "Train score: 10444 ± 37\n",
      "Test score: 7821 ± 102\n",
      "\n"
     ]
    },
    {
     "data": {
      "application/vnd.jupyter.widget-view+json": {
       "model_id": "",
       "version_major": 2,
       "version_minor": 0
      },
      "text/plain": [
       "HBox(children=(IntProgress(value=0, max=5), HTML(value='')))"
      ]
     },
     "metadata": {},
     "output_type": "display_data"
    },
    {
     "name": "stdout",
     "output_type": "stream",
     "text": [
      "{'iterations': 1500, 'max_depth': 7, 'metric_period': 10, 'task_type': 'GPU', 'verbose': False}\n",
      "Train score: 11209 ± 33\n",
      "Test score: 7793 ± 57\n",
      "\n"
     ]
    },
    {
     "data": {
      "application/vnd.jupyter.widget-view+json": {
       "model_id": "",
       "version_major": 2,
       "version_minor": 0
      },
      "text/plain": [
       "HBox(children=(IntProgress(value=0, max=5), HTML(value='')))"
      ]
     },
     "metadata": {},
     "output_type": "display_data"
    },
    {
     "name": "stdout",
     "output_type": "stream",
     "text": [
      "{'iterations': 1750, 'max_depth': 5, 'metric_period': 10, 'task_type': 'GPU', 'verbose': False}\n",
      "Train score: 9724 ± 21\n",
      "Test score: 7830 ± 75\n",
      "\n"
     ]
    },
    {
     "data": {
      "application/vnd.jupyter.widget-view+json": {
       "model_id": "",
       "version_major": 2,
       "version_minor": 0
      },
      "text/plain": [
       "HBox(children=(IntProgress(value=0, max=5), HTML(value='')))"
      ]
     },
     "metadata": {},
     "output_type": "display_data"
    },
    {
     "name": "stdout",
     "output_type": "stream",
     "text": [
      "{'iterations': 1750, 'max_depth': 6, 'metric_period': 10, 'task_type': 'GPU', 'verbose': False}\n",
      "Train score: 10490 ± 26\n",
      "Test score: 7822 ± 45\n",
      "\n"
     ]
    },
    {
     "data": {
      "application/vnd.jupyter.widget-view+json": {
       "model_id": "",
       "version_major": 2,
       "version_minor": 0
      },
      "text/plain": [
       "HBox(children=(IntProgress(value=0, max=5), HTML(value='')))"
      ]
     },
     "metadata": {},
     "output_type": "display_data"
    },
    {
     "name": "stdout",
     "output_type": "stream",
     "text": [
      "{'iterations': 1750, 'max_depth': 7, 'metric_period': 10, 'task_type': 'GPU', 'verbose': False}\n",
      "Train score: 11254 ± 40\n",
      "Test score: 7827 ± 104\n",
      "\n"
     ]
    },
    {
     "data": {
      "application/vnd.jupyter.widget-view+json": {
       "model_id": "",
       "version_major": 2,
       "version_minor": 0
      },
      "text/plain": [
       "HBox(children=(IntProgress(value=0, max=5), HTML(value='')))"
      ]
     },
     "metadata": {},
     "output_type": "display_data"
    },
    {
     "name": "stdout",
     "output_type": "stream",
     "text": [
      "{'iterations': 2000, 'max_depth': 5, 'metric_period': 10, 'task_type': 'GPU', 'verbose': False}\n",
      "Train score: 9754 ± 25\n",
      "Test score: 7860 ± 78\n",
      "\n"
     ]
    },
    {
     "data": {
      "application/vnd.jupyter.widget-view+json": {
       "model_id": "",
       "version_major": 2,
       "version_minor": 0
      },
      "text/plain": [
       "HBox(children=(IntProgress(value=0, max=5), HTML(value='')))"
      ]
     },
     "metadata": {},
     "output_type": "display_data"
    },
    {
     "name": "stdout",
     "output_type": "stream",
     "text": [
      "{'iterations': 2000, 'max_depth': 6, 'metric_period': 10, 'task_type': 'GPU', 'verbose': False}\n",
      "Train score: 10534 ± 36\n",
      "Test score: 7852 ± 75\n",
      "\n"
     ]
    },
    {
     "data": {
      "application/vnd.jupyter.widget-view+json": {
       "model_id": "",
       "version_major": 2,
       "version_minor": 0
      },
      "text/plain": [
       "HBox(children=(IntProgress(value=0, max=5), HTML(value='')))"
      ]
     },
     "metadata": {},
     "output_type": "display_data"
    },
    {
     "name": "stdout",
     "output_type": "stream",
     "text": [
      "{'iterations': 2000, 'max_depth': 7, 'metric_period': 10, 'task_type': 'GPU', 'verbose': False}\n",
      "Train score: 11273 ± 33\n",
      "Test score: 7834 ± 66\n",
      "\n",
      "\n"
     ]
    }
   ],
   "source": [
    "results = run_cross_validation(parameters)"
   ]
  },
  {
   "cell_type": "code",
   "execution_count": 13,
   "metadata": {
    "ExecuteTime": {
     "end_time": "2019-02-09T21:30:50.217798Z",
     "start_time": "2019-02-09T21:30:50.131107Z"
    }
   },
   "outputs": [
    {
     "data": {
      "text/html": [
       "<div>\n",
       "<style scoped>\n",
       "    .dataframe tbody tr th:only-of-type {\n",
       "        vertical-align: middle;\n",
       "    }\n",
       "\n",
       "    .dataframe tbody tr th {\n",
       "        vertical-align: top;\n",
       "    }\n",
       "\n",
       "    .dataframe thead th {\n",
       "        text-align: right;\n",
       "    }\n",
       "</style>\n",
       "<table border=\"1\" class=\"dataframe\">\n",
       "  <thead>\n",
       "    <tr style=\"text-align: right;\">\n",
       "      <th></th>\n",
       "      <th>iterations</th>\n",
       "      <th>max_depth</th>\n",
       "      <th>train_score_mean</th>\n",
       "      <th>train_score_std</th>\n",
       "      <th>test_score_mean</th>\n",
       "      <th>test_score_std</th>\n",
       "    </tr>\n",
       "  </thead>\n",
       "  <tbody>\n",
       "    <tr>\n",
       "      <th>2</th>\n",
       "      <td>1000</td>\n",
       "      <td>7</td>\n",
       "      <td>11069.030673</td>\n",
       "      <td>34.441025</td>\n",
       "      <td>7751.159436</td>\n",
       "      <td>90.814396</td>\n",
       "    </tr>\n",
       "    <tr>\n",
       "      <th>0</th>\n",
       "      <td>1000</td>\n",
       "      <td>5</td>\n",
       "      <td>9589.295466</td>\n",
       "      <td>24.750302</td>\n",
       "      <td>7765.313261</td>\n",
       "      <td>109.918011</td>\n",
       "    </tr>\n",
       "    <tr>\n",
       "      <th>6</th>\n",
       "      <td>1500</td>\n",
       "      <td>5</td>\n",
       "      <td>9695.463634</td>\n",
       "      <td>24.834492</td>\n",
       "      <td>7783.234637</td>\n",
       "      <td>65.043703</td>\n",
       "    </tr>\n",
       "    <tr>\n",
       "      <th>3</th>\n",
       "      <td>1250</td>\n",
       "      <td>5</td>\n",
       "      <td>9651.977262</td>\n",
       "      <td>48.371843</td>\n",
       "      <td>7786.562436</td>\n",
       "      <td>99.470324</td>\n",
       "    </tr>\n",
       "    <tr>\n",
       "      <th>1</th>\n",
       "      <td>1000</td>\n",
       "      <td>6</td>\n",
       "      <td>10322.348969</td>\n",
       "      <td>44.542375</td>\n",
       "      <td>7789.378136</td>\n",
       "      <td>59.453366</td>\n",
       "    </tr>\n",
       "    <tr>\n",
       "      <th>4</th>\n",
       "      <td>1250</td>\n",
       "      <td>6</td>\n",
       "      <td>10393.497130</td>\n",
       "      <td>38.205341</td>\n",
       "      <td>7792.330915</td>\n",
       "      <td>76.113282</td>\n",
       "    </tr>\n",
       "    <tr>\n",
       "      <th>8</th>\n",
       "      <td>1500</td>\n",
       "      <td>7</td>\n",
       "      <td>11208.829435</td>\n",
       "      <td>33.456174</td>\n",
       "      <td>7793.280881</td>\n",
       "      <td>57.070673</td>\n",
       "    </tr>\n",
       "    <tr>\n",
       "      <th>5</th>\n",
       "      <td>1250</td>\n",
       "      <td>7</td>\n",
       "      <td>11154.340280</td>\n",
       "      <td>30.196770</td>\n",
       "      <td>7795.399558</td>\n",
       "      <td>95.524937</td>\n",
       "    </tr>\n",
       "    <tr>\n",
       "      <th>7</th>\n",
       "      <td>1500</td>\n",
       "      <td>6</td>\n",
       "      <td>10444.105169</td>\n",
       "      <td>36.542777</td>\n",
       "      <td>7820.708296</td>\n",
       "      <td>102.484839</td>\n",
       "    </tr>\n",
       "    <tr>\n",
       "      <th>10</th>\n",
       "      <td>1750</td>\n",
       "      <td>6</td>\n",
       "      <td>10490.178046</td>\n",
       "      <td>26.466213</td>\n",
       "      <td>7822.427038</td>\n",
       "      <td>45.072239</td>\n",
       "    </tr>\n",
       "    <tr>\n",
       "      <th>11</th>\n",
       "      <td>1750</td>\n",
       "      <td>7</td>\n",
       "      <td>11253.871698</td>\n",
       "      <td>40.271814</td>\n",
       "      <td>7827.378324</td>\n",
       "      <td>104.403823</td>\n",
       "    </tr>\n",
       "    <tr>\n",
       "      <th>9</th>\n",
       "      <td>1750</td>\n",
       "      <td>5</td>\n",
       "      <td>9724.299202</td>\n",
       "      <td>20.804408</td>\n",
       "      <td>7829.665820</td>\n",
       "      <td>74.540843</td>\n",
       "    </tr>\n",
       "    <tr>\n",
       "      <th>14</th>\n",
       "      <td>2000</td>\n",
       "      <td>7</td>\n",
       "      <td>11273.437881</td>\n",
       "      <td>33.350120</td>\n",
       "      <td>7834.308064</td>\n",
       "      <td>66.456424</td>\n",
       "    </tr>\n",
       "    <tr>\n",
       "      <th>13</th>\n",
       "      <td>2000</td>\n",
       "      <td>6</td>\n",
       "      <td>10534.456173</td>\n",
       "      <td>35.890389</td>\n",
       "      <td>7852.368715</td>\n",
       "      <td>75.147175</td>\n",
       "    </tr>\n",
       "    <tr>\n",
       "      <th>12</th>\n",
       "      <td>2000</td>\n",
       "      <td>5</td>\n",
       "      <td>9754.201086</td>\n",
       "      <td>25.203794</td>\n",
       "      <td>7859.600856</td>\n",
       "      <td>77.753944</td>\n",
       "    </tr>\n",
       "  </tbody>\n",
       "</table>\n",
       "</div>"
      ],
      "text/plain": [
       "    iterations  max_depth  train_score_mean  train_score_std  test_score_mean  \\\n",
       "2         1000          7      11069.030673        34.441025      7751.159436   \n",
       "0         1000          5       9589.295466        24.750302      7765.313261   \n",
       "6         1500          5       9695.463634        24.834492      7783.234637   \n",
       "3         1250          5       9651.977262        48.371843      7786.562436   \n",
       "1         1000          6      10322.348969        44.542375      7789.378136   \n",
       "4         1250          6      10393.497130        38.205341      7792.330915   \n",
       "8         1500          7      11208.829435        33.456174      7793.280881   \n",
       "5         1250          7      11154.340280        30.196770      7795.399558   \n",
       "7         1500          6      10444.105169        36.542777      7820.708296   \n",
       "10        1750          6      10490.178046        26.466213      7822.427038   \n",
       "11        1750          7      11253.871698        40.271814      7827.378324   \n",
       "9         1750          5       9724.299202        20.804408      7829.665820   \n",
       "14        2000          7      11273.437881        33.350120      7834.308064   \n",
       "13        2000          6      10534.456173        35.890389      7852.368715   \n",
       "12        2000          5       9754.201086        25.203794      7859.600856   \n",
       "\n",
       "    test_score_std  \n",
       "2        90.814396  \n",
       "0       109.918011  \n",
       "6        65.043703  \n",
       "3        99.470324  \n",
       "1        59.453366  \n",
       "4        76.113282  \n",
       "8        57.070673  \n",
       "5        95.524937  \n",
       "7       102.484839  \n",
       "10       45.072239  \n",
       "11      104.403823  \n",
       "9        74.540843  \n",
       "14       66.456424  \n",
       "13       75.147175  \n",
       "12       77.753944  "
      ]
     },
     "execution_count": 13,
     "metadata": {},
     "output_type": "execute_result"
    }
   ],
   "source": [
    "results.sort_values(by='test_score_mean')"
   ]
  },
  {
   "cell_type": "code",
   "execution_count": 11,
   "metadata": {
    "ExecuteTime": {
     "end_time": "2019-02-09T21:57:36.790892Z",
     "start_time": "2019-02-09T21:57:36.788063Z"
    }
   },
   "outputs": [],
   "source": [
    "parameters = {'iterations': [2000, 2500, 3000, 3500, 4000, 4500, 5000], 'max_depth': [4, 5, 6]}"
   ]
  },
  {
   "cell_type": "code",
   "execution_count": 12,
   "metadata": {
    "ExecuteTime": {
     "end_time": "2019-02-10T06:21:51.504157Z",
     "start_time": "2019-02-09T21:57:54.841150Z"
    }
   },
   "outputs": [
    {
     "data": {
      "application/vnd.jupyter.widget-view+json": {
       "model_id": "10c2d1ae5a3f44bb96569819f2343b09",
       "version_major": 2,
       "version_minor": 0
      },
      "text/plain": [
       "HBox(children=(IntProgress(value=0, max=21), HTML(value='')))"
      ]
     },
     "metadata": {},
     "output_type": "display_data"
    },
    {
     "data": {
      "application/vnd.jupyter.widget-view+json": {
       "model_id": "",
       "version_major": 2,
       "version_minor": 0
      },
      "text/plain": [
       "HBox(children=(IntProgress(value=0, max=5), HTML(value='')))"
      ]
     },
     "metadata": {},
     "output_type": "display_data"
    },
    {
     "name": "stdout",
     "output_type": "stream",
     "text": [
      "{'iterations': 2000, 'max_depth': 4, 'metric_period': 10, 'task_type': 'GPU', 'verbose': False}\n",
      "Train score: 9087 ± 39\n",
      "Test score: 7821 ± 93\n",
      "\n"
     ]
    },
    {
     "data": {
      "application/vnd.jupyter.widget-view+json": {
       "model_id": "",
       "version_major": 2,
       "version_minor": 0
      },
      "text/plain": [
       "HBox(children=(IntProgress(value=0, max=5), HTML(value='')))"
      ]
     },
     "metadata": {},
     "output_type": "display_data"
    },
    {
     "name": "stdout",
     "output_type": "stream",
     "text": [
      "{'iterations': 2000, 'max_depth': 5, 'metric_period': 10, 'task_type': 'GPU', 'verbose': False}\n",
      "Train score: 9759 ± 38\n",
      "Test score: 7847 ± 97\n",
      "\n"
     ]
    },
    {
     "data": {
      "application/vnd.jupyter.widget-view+json": {
       "model_id": "",
       "version_major": 2,
       "version_minor": 0
      },
      "text/plain": [
       "HBox(children=(IntProgress(value=0, max=5), HTML(value='')))"
      ]
     },
     "metadata": {},
     "output_type": "display_data"
    },
    {
     "name": "stdout",
     "output_type": "stream",
     "text": [
      "{'iterations': 2000, 'max_depth': 6, 'metric_period': 10, 'task_type': 'GPU', 'verbose': False}\n",
      "Train score: 10523 ± 31\n",
      "Test score: 7856 ± 80\n",
      "\n"
     ]
    },
    {
     "data": {
      "application/vnd.jupyter.widget-view+json": {
       "model_id": "",
       "version_major": 2,
       "version_minor": 0
      },
      "text/plain": [
       "HBox(children=(IntProgress(value=0, max=5), HTML(value='')))"
      ]
     },
     "metadata": {},
     "output_type": "display_data"
    },
    {
     "name": "stdout",
     "output_type": "stream",
     "text": [
      "{'iterations': 2500, 'max_depth': 4, 'metric_period': 10, 'task_type': 'GPU', 'verbose': False}\n",
      "Train score: 9129 ± 38\n",
      "Test score: 7835 ± 102\n",
      "\n"
     ]
    },
    {
     "data": {
      "application/vnd.jupyter.widget-view+json": {
       "model_id": "",
       "version_major": 2,
       "version_minor": 0
      },
      "text/plain": [
       "HBox(children=(IntProgress(value=0, max=5), HTML(value='')))"
      ]
     },
     "metadata": {},
     "output_type": "display_data"
    },
    {
     "name": "stdout",
     "output_type": "stream",
     "text": [
      "{'iterations': 2500, 'max_depth': 5, 'metric_period': 10, 'task_type': 'GPU', 'verbose': False}\n",
      "Train score: 9812 ± 46\n",
      "Test score: 7832 ± 88\n",
      "\n"
     ]
    },
    {
     "data": {
      "application/vnd.jupyter.widget-view+json": {
       "model_id": "",
       "version_major": 2,
       "version_minor": 0
      },
      "text/plain": [
       "HBox(children=(IntProgress(value=0, max=5), HTML(value='')))"
      ]
     },
     "metadata": {},
     "output_type": "display_data"
    },
    {
     "name": "stdout",
     "output_type": "stream",
     "text": [
      "{'iterations': 2500, 'max_depth': 6, 'metric_period': 10, 'task_type': 'GPU', 'verbose': False}\n",
      "Train score: 10576 ± 25\n",
      "Test score: 7832 ± 74\n",
      "\n"
     ]
    },
    {
     "data": {
      "application/vnd.jupyter.widget-view+json": {
       "model_id": "",
       "version_major": 2,
       "version_minor": 0
      },
      "text/plain": [
       "HBox(children=(IntProgress(value=0, max=5), HTML(value='')))"
      ]
     },
     "metadata": {},
     "output_type": "display_data"
    },
    {
     "name": "stdout",
     "output_type": "stream",
     "text": [
      "{'iterations': 3000, 'max_depth': 4, 'metric_period': 10, 'task_type': 'GPU', 'verbose': False}\n",
      "Train score: 9154 ± 35\n",
      "Test score: 7811 ± 93\n",
      "\n"
     ]
    },
    {
     "data": {
      "application/vnd.jupyter.widget-view+json": {
       "model_id": "",
       "version_major": 2,
       "version_minor": 0
      },
      "text/plain": [
       "HBox(children=(IntProgress(value=0, max=5), HTML(value='')))"
      ]
     },
     "metadata": {},
     "output_type": "display_data"
    },
    {
     "name": "stdout",
     "output_type": "stream",
     "text": [
      "{'iterations': 3000, 'max_depth': 5, 'metric_period': 10, 'task_type': 'GPU', 'verbose': False}\n",
      "Train score: 9837 ± 36\n",
      "Test score: 7875 ± 78\n",
      "\n"
     ]
    },
    {
     "data": {
      "application/vnd.jupyter.widget-view+json": {
       "model_id": "",
       "version_major": 2,
       "version_minor": 0
      },
      "text/plain": [
       "HBox(children=(IntProgress(value=0, max=5), HTML(value='')))"
      ]
     },
     "metadata": {},
     "output_type": "display_data"
    },
    {
     "name": "stdout",
     "output_type": "stream",
     "text": [
      "{'iterations': 3000, 'max_depth': 6, 'metric_period': 10, 'task_type': 'GPU', 'verbose': False}\n",
      "Train score: 10622 ± 25\n",
      "Test score: 7873 ± 113\n",
      "\n"
     ]
    },
    {
     "data": {
      "application/vnd.jupyter.widget-view+json": {
       "model_id": "",
       "version_major": 2,
       "version_minor": 0
      },
      "text/plain": [
       "HBox(children=(IntProgress(value=0, max=5), HTML(value='')))"
      ]
     },
     "metadata": {},
     "output_type": "display_data"
    },
    {
     "name": "stdout",
     "output_type": "stream",
     "text": [
      "{'iterations': 3500, 'max_depth': 4, 'metric_period': 10, 'task_type': 'GPU', 'verbose': False}\n",
      "Train score: 9167 ± 34\n",
      "Test score: 7817 ± 88\n",
      "\n"
     ]
    },
    {
     "data": {
      "application/vnd.jupyter.widget-view+json": {
       "model_id": "",
       "version_major": 2,
       "version_minor": 0
      },
      "text/plain": [
       "HBox(children=(IntProgress(value=0, max=5), HTML(value='')))"
      ]
     },
     "metadata": {},
     "output_type": "display_data"
    },
    {
     "name": "stdout",
     "output_type": "stream",
     "text": [
      "{'iterations': 3500, 'max_depth': 5, 'metric_period': 10, 'task_type': 'GPU', 'verbose': False}\n",
      "Train score: 9870 ± 38\n",
      "Test score: 7838 ± 81\n",
      "\n"
     ]
    },
    {
     "data": {
      "application/vnd.jupyter.widget-view+json": {
       "model_id": "",
       "version_major": 2,
       "version_minor": 0
      },
      "text/plain": [
       "HBox(children=(IntProgress(value=0, max=5), HTML(value='')))"
      ]
     },
     "metadata": {},
     "output_type": "display_data"
    },
    {
     "name": "stdout",
     "output_type": "stream",
     "text": [
      "{'iterations': 3500, 'max_depth': 6, 'metric_period': 10, 'task_type': 'GPU', 'verbose': False}\n",
      "Train score: 10649 ± 30\n",
      "Test score: 7868 ± 100\n",
      "\n"
     ]
    },
    {
     "data": {
      "application/vnd.jupyter.widget-view+json": {
       "model_id": "",
       "version_major": 2,
       "version_minor": 0
      },
      "text/plain": [
       "HBox(children=(IntProgress(value=0, max=5), HTML(value='')))"
      ]
     },
     "metadata": {},
     "output_type": "display_data"
    },
    {
     "name": "stdout",
     "output_type": "stream",
     "text": [
      "{'iterations': 4000, 'max_depth': 4, 'metric_period': 10, 'task_type': 'GPU', 'verbose': False}\n",
      "Train score: 9192 ± 37\n",
      "Test score: 7829 ± 86\n",
      "\n"
     ]
    },
    {
     "data": {
      "application/vnd.jupyter.widget-view+json": {
       "model_id": "",
       "version_major": 2,
       "version_minor": 0
      },
      "text/plain": [
       "HBox(children=(IntProgress(value=0, max=5), HTML(value='')))"
      ]
     },
     "metadata": {},
     "output_type": "display_data"
    },
    {
     "name": "stdout",
     "output_type": "stream",
     "text": [
      "{'iterations': 4000, 'max_depth': 5, 'metric_period': 10, 'task_type': 'GPU', 'verbose': False}\n",
      "Train score: 9896 ± 44\n",
      "Test score: 7843 ± 99\n",
      "\n"
     ]
    },
    {
     "data": {
      "application/vnd.jupyter.widget-view+json": {
       "model_id": "",
       "version_major": 2,
       "version_minor": 0
      },
      "text/plain": [
       "HBox(children=(IntProgress(value=0, max=5), HTML(value='')))"
      ]
     },
     "metadata": {},
     "output_type": "display_data"
    },
    {
     "name": "stdout",
     "output_type": "stream",
     "text": [
      "{'iterations': 4000, 'max_depth': 6, 'metric_period': 10, 'task_type': 'GPU', 'verbose': False}\n",
      "Train score: 10678 ± 28\n",
      "Test score: 7866 ± 95\n",
      "\n"
     ]
    },
    {
     "data": {
      "application/vnd.jupyter.widget-view+json": {
       "model_id": "",
       "version_major": 2,
       "version_minor": 0
      },
      "text/plain": [
       "HBox(children=(IntProgress(value=0, max=5), HTML(value='')))"
      ]
     },
     "metadata": {},
     "output_type": "display_data"
    },
    {
     "name": "stdout",
     "output_type": "stream",
     "text": [
      "{'iterations': 4500, 'max_depth': 4, 'metric_period': 10, 'task_type': 'GPU', 'verbose': False}\n",
      "Train score: 9196 ± 28\n",
      "Test score: 7831 ± 94\n",
      "\n"
     ]
    },
    {
     "data": {
      "application/vnd.jupyter.widget-view+json": {
       "model_id": "",
       "version_major": 2,
       "version_minor": 0
      },
      "text/plain": [
       "HBox(children=(IntProgress(value=0, max=5), HTML(value='')))"
      ]
     },
     "metadata": {},
     "output_type": "display_data"
    },
    {
     "name": "stdout",
     "output_type": "stream",
     "text": [
      "{'iterations': 4500, 'max_depth': 5, 'metric_period': 10, 'task_type': 'GPU', 'verbose': False}\n",
      "Train score: 9917 ± 33\n",
      "Test score: 7839 ± 91\n",
      "\n"
     ]
    },
    {
     "data": {
      "application/vnd.jupyter.widget-view+json": {
       "model_id": "",
       "version_major": 2,
       "version_minor": 0
      },
      "text/plain": [
       "HBox(children=(IntProgress(value=0, max=5), HTML(value='')))"
      ]
     },
     "metadata": {},
     "output_type": "display_data"
    },
    {
     "name": "stdout",
     "output_type": "stream",
     "text": [
      "{'iterations': 4500, 'max_depth': 6, 'metric_period': 10, 'task_type': 'GPU', 'verbose': False}\n",
      "Train score: 10706 ± 30\n",
      "Test score: 7856 ± 69\n",
      "\n"
     ]
    },
    {
     "data": {
      "application/vnd.jupyter.widget-view+json": {
       "model_id": "",
       "version_major": 2,
       "version_minor": 0
      },
      "text/plain": [
       "HBox(children=(IntProgress(value=0, max=5), HTML(value='')))"
      ]
     },
     "metadata": {},
     "output_type": "display_data"
    },
    {
     "name": "stdout",
     "output_type": "stream",
     "text": [
      "{'iterations': 5000, 'max_depth': 4, 'metric_period': 10, 'task_type': 'GPU', 'verbose': False}\n",
      "Train score: 9207 ± 33\n",
      "Test score: 7837 ± 85\n",
      "\n"
     ]
    },
    {
     "data": {
      "application/vnd.jupyter.widget-view+json": {
       "model_id": "",
       "version_major": 2,
       "version_minor": 0
      },
      "text/plain": [
       "HBox(children=(IntProgress(value=0, max=5), HTML(value='')))"
      ]
     },
     "metadata": {},
     "output_type": "display_data"
    },
    {
     "name": "stdout",
     "output_type": "stream",
     "text": [
      "{'iterations': 5000, 'max_depth': 5, 'metric_period': 10, 'task_type': 'GPU', 'verbose': False}\n",
      "Train score: 9937 ± 33\n",
      "Test score: 7864 ± 102\n",
      "\n"
     ]
    },
    {
     "data": {
      "application/vnd.jupyter.widget-view+json": {
       "model_id": "",
       "version_major": 2,
       "version_minor": 0
      },
      "text/plain": [
       "HBox(children=(IntProgress(value=0, max=5), HTML(value='')))"
      ]
     },
     "metadata": {},
     "output_type": "display_data"
    },
    {
     "name": "stdout",
     "output_type": "stream",
     "text": [
      "{'iterations': 5000, 'max_depth': 6, 'metric_period': 10, 'task_type': 'GPU', 'verbose': False}\n",
      "Train score: 10727 ± 27\n",
      "Test score: 7875 ± 89\n",
      "\n",
      "\n"
     ]
    }
   ],
   "source": [
    "results = run_cross_validation(parameters)"
   ]
  },
  {
   "cell_type": "code",
   "execution_count": 13,
   "metadata": {
    "ExecuteTime": {
     "end_time": "2019-02-10T09:26:19.363604Z",
     "start_time": "2019-02-10T09:26:19.342185Z"
    }
   },
   "outputs": [
    {
     "data": {
      "text/html": [
       "<div>\n",
       "<style scoped>\n",
       "    .dataframe tbody tr th:only-of-type {\n",
       "        vertical-align: middle;\n",
       "    }\n",
       "\n",
       "    .dataframe tbody tr th {\n",
       "        vertical-align: top;\n",
       "    }\n",
       "\n",
       "    .dataframe thead th {\n",
       "        text-align: right;\n",
       "    }\n",
       "</style>\n",
       "<table border=\"1\" class=\"dataframe\">\n",
       "  <thead>\n",
       "    <tr style=\"text-align: right;\">\n",
       "      <th></th>\n",
       "      <th>iterations</th>\n",
       "      <th>max_depth</th>\n",
       "      <th>train_score_mean</th>\n",
       "      <th>train_score_std</th>\n",
       "      <th>test_score_mean</th>\n",
       "      <th>test_score_std</th>\n",
       "    </tr>\n",
       "  </thead>\n",
       "  <tbody>\n",
       "    <tr>\n",
       "      <th>6</th>\n",
       "      <td>3000</td>\n",
       "      <td>4</td>\n",
       "      <td>9153.617263</td>\n",
       "      <td>35.170063</td>\n",
       "      <td>7811.191001</td>\n",
       "      <td>93.336521</td>\n",
       "    </tr>\n",
       "    <tr>\n",
       "      <th>9</th>\n",
       "      <td>3500</td>\n",
       "      <td>4</td>\n",
       "      <td>9166.944168</td>\n",
       "      <td>33.996368</td>\n",
       "      <td>7816.612738</td>\n",
       "      <td>88.291821</td>\n",
       "    </tr>\n",
       "    <tr>\n",
       "      <th>0</th>\n",
       "      <td>2000</td>\n",
       "      <td>4</td>\n",
       "      <td>9086.553580</td>\n",
       "      <td>39.233158</td>\n",
       "      <td>7820.599034</td>\n",
       "      <td>92.930324</td>\n",
       "    </tr>\n",
       "    <tr>\n",
       "      <th>12</th>\n",
       "      <td>4000</td>\n",
       "      <td>4</td>\n",
       "      <td>9191.637434</td>\n",
       "      <td>36.945615</td>\n",
       "      <td>7828.748340</td>\n",
       "      <td>86.243184</td>\n",
       "    </tr>\n",
       "    <tr>\n",
       "      <th>15</th>\n",
       "      <td>4500</td>\n",
       "      <td>4</td>\n",
       "      <td>9196.372662</td>\n",
       "      <td>28.349740</td>\n",
       "      <td>7831.193365</td>\n",
       "      <td>94.147767</td>\n",
       "    </tr>\n",
       "    <tr>\n",
       "      <th>5</th>\n",
       "      <td>2500</td>\n",
       "      <td>6</td>\n",
       "      <td>10576.017974</td>\n",
       "      <td>24.866740</td>\n",
       "      <td>7831.502665</td>\n",
       "      <td>73.817539</td>\n",
       "    </tr>\n",
       "    <tr>\n",
       "      <th>4</th>\n",
       "      <td>2500</td>\n",
       "      <td>5</td>\n",
       "      <td>9811.792016</td>\n",
       "      <td>46.413205</td>\n",
       "      <td>7832.446096</td>\n",
       "      <td>88.214310</td>\n",
       "    </tr>\n",
       "    <tr>\n",
       "      <th>3</th>\n",
       "      <td>2500</td>\n",
       "      <td>4</td>\n",
       "      <td>9128.543368</td>\n",
       "      <td>37.562899</td>\n",
       "      <td>7835.331475</td>\n",
       "      <td>101.573327</td>\n",
       "    </tr>\n",
       "    <tr>\n",
       "      <th>18</th>\n",
       "      <td>5000</td>\n",
       "      <td>4</td>\n",
       "      <td>9207.237463</td>\n",
       "      <td>32.780489</td>\n",
       "      <td>7836.873165</td>\n",
       "      <td>85.369803</td>\n",
       "    </tr>\n",
       "    <tr>\n",
       "      <th>10</th>\n",
       "      <td>3500</td>\n",
       "      <td>5</td>\n",
       "      <td>9870.016262</td>\n",
       "      <td>37.531323</td>\n",
       "      <td>7837.998075</td>\n",
       "      <td>81.087351</td>\n",
       "    </tr>\n",
       "    <tr>\n",
       "      <th>16</th>\n",
       "      <td>4500</td>\n",
       "      <td>5</td>\n",
       "      <td>9917.499660</td>\n",
       "      <td>32.549499</td>\n",
       "      <td>7838.510455</td>\n",
       "      <td>90.953258</td>\n",
       "    </tr>\n",
       "    <tr>\n",
       "      <th>13</th>\n",
       "      <td>4000</td>\n",
       "      <td>5</td>\n",
       "      <td>9895.534570</td>\n",
       "      <td>43.812366</td>\n",
       "      <td>7843.321806</td>\n",
       "      <td>99.105250</td>\n",
       "    </tr>\n",
       "    <tr>\n",
       "      <th>1</th>\n",
       "      <td>2000</td>\n",
       "      <td>5</td>\n",
       "      <td>9758.891629</td>\n",
       "      <td>37.585219</td>\n",
       "      <td>7847.016349</td>\n",
       "      <td>97.142644</td>\n",
       "    </tr>\n",
       "    <tr>\n",
       "      <th>2</th>\n",
       "      <td>2000</td>\n",
       "      <td>6</td>\n",
       "      <td>10522.949877</td>\n",
       "      <td>30.911051</td>\n",
       "      <td>7855.542019</td>\n",
       "      <td>80.003572</td>\n",
       "    </tr>\n",
       "    <tr>\n",
       "      <th>17</th>\n",
       "      <td>4500</td>\n",
       "      <td>6</td>\n",
       "      <td>10706.015385</td>\n",
       "      <td>30.086328</td>\n",
       "      <td>7856.104137</td>\n",
       "      <td>68.553668</td>\n",
       "    </tr>\n",
       "    <tr>\n",
       "      <th>19</th>\n",
       "      <td>5000</td>\n",
       "      <td>5</td>\n",
       "      <td>9937.462790</td>\n",
       "      <td>32.598880</td>\n",
       "      <td>7863.817472</td>\n",
       "      <td>101.910906</td>\n",
       "    </tr>\n",
       "    <tr>\n",
       "      <th>14</th>\n",
       "      <td>4000</td>\n",
       "      <td>6</td>\n",
       "      <td>10678.304823</td>\n",
       "      <td>27.771553</td>\n",
       "      <td>7865.815198</td>\n",
       "      <td>94.939894</td>\n",
       "    </tr>\n",
       "    <tr>\n",
       "      <th>11</th>\n",
       "      <td>3500</td>\n",
       "      <td>6</td>\n",
       "      <td>10648.922867</td>\n",
       "      <td>30.363944</td>\n",
       "      <td>7867.607196</td>\n",
       "      <td>99.958955</td>\n",
       "    </tr>\n",
       "    <tr>\n",
       "      <th>8</th>\n",
       "      <td>3000</td>\n",
       "      <td>6</td>\n",
       "      <td>10622.077512</td>\n",
       "      <td>25.254710</td>\n",
       "      <td>7872.975533</td>\n",
       "      <td>112.971226</td>\n",
       "    </tr>\n",
       "    <tr>\n",
       "      <th>20</th>\n",
       "      <td>5000</td>\n",
       "      <td>6</td>\n",
       "      <td>10727.092132</td>\n",
       "      <td>26.942894</td>\n",
       "      <td>7874.683333</td>\n",
       "      <td>89.164548</td>\n",
       "    </tr>\n",
       "    <tr>\n",
       "      <th>7</th>\n",
       "      <td>3000</td>\n",
       "      <td>5</td>\n",
       "      <td>9837.021433</td>\n",
       "      <td>35.530321</td>\n",
       "      <td>7874.866838</td>\n",
       "      <td>77.596826</td>\n",
       "    </tr>\n",
       "  </tbody>\n",
       "</table>\n",
       "</div>"
      ],
      "text/plain": [
       "    iterations  max_depth  train_score_mean  train_score_std  test_score_mean  \\\n",
       "6         3000          4       9153.617263        35.170063      7811.191001   \n",
       "9         3500          4       9166.944168        33.996368      7816.612738   \n",
       "0         2000          4       9086.553580        39.233158      7820.599034   \n",
       "12        4000          4       9191.637434        36.945615      7828.748340   \n",
       "15        4500          4       9196.372662        28.349740      7831.193365   \n",
       "5         2500          6      10576.017974        24.866740      7831.502665   \n",
       "4         2500          5       9811.792016        46.413205      7832.446096   \n",
       "3         2500          4       9128.543368        37.562899      7835.331475   \n",
       "18        5000          4       9207.237463        32.780489      7836.873165   \n",
       "10        3500          5       9870.016262        37.531323      7837.998075   \n",
       "16        4500          5       9917.499660        32.549499      7838.510455   \n",
       "13        4000          5       9895.534570        43.812366      7843.321806   \n",
       "1         2000          5       9758.891629        37.585219      7847.016349   \n",
       "2         2000          6      10522.949877        30.911051      7855.542019   \n",
       "17        4500          6      10706.015385        30.086328      7856.104137   \n",
       "19        5000          5       9937.462790        32.598880      7863.817472   \n",
       "14        4000          6      10678.304823        27.771553      7865.815198   \n",
       "11        3500          6      10648.922867        30.363944      7867.607196   \n",
       "8         3000          6      10622.077512        25.254710      7872.975533   \n",
       "20        5000          6      10727.092132        26.942894      7874.683333   \n",
       "7         3000          5       9837.021433        35.530321      7874.866838   \n",
       "\n",
       "    test_score_std  \n",
       "6        93.336521  \n",
       "9        88.291821  \n",
       "0        92.930324  \n",
       "12       86.243184  \n",
       "15       94.147767  \n",
       "5        73.817539  \n",
       "4        88.214310  \n",
       "3       101.573327  \n",
       "18       85.369803  \n",
       "10       81.087351  \n",
       "16       90.953258  \n",
       "13       99.105250  \n",
       "1        97.142644  \n",
       "2        80.003572  \n",
       "17       68.553668  \n",
       "19      101.910906  \n",
       "14       94.939894  \n",
       "11       99.958955  \n",
       "8       112.971226  \n",
       "20       89.164548  \n",
       "7        77.596826  "
      ]
     },
     "execution_count": 13,
     "metadata": {},
     "output_type": "execute_result"
    }
   ],
   "source": [
    "results.sort_values(by='test_score_mean')"
   ]
  }
 ],
 "metadata": {
  "kernelspec": {
   "display_name": "Python 3",
   "language": "python",
   "name": "python3"
  },
  "language_info": {
   "codemirror_mode": {
    "name": "ipython",
    "version": 3
   },
   "file_extension": ".py",
   "mimetype": "text/x-python",
   "name": "python",
   "nbconvert_exporter": "python",
   "pygments_lexer": "ipython3",
   "version": "3.6.6"
  }
 },
 "nbformat": 4,
 "nbformat_minor": 2
}
