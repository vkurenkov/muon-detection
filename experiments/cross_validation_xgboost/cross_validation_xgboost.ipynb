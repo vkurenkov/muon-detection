{
 "cells": [
  {
   "cell_type": "code",
   "execution_count": 1,
   "metadata": {
    "ExecuteTime": {
     "end_time": "2019-02-07T09:57:41.445143Z",
     "start_time": "2019-02-07T09:57:41.439060Z"
    }
   },
   "outputs": [],
   "source": [
    "import sys\n",
    "sys.path.append('../..')"
   ]
  },
  {
   "cell_type": "code",
   "execution_count": 2,
   "metadata": {
    "ExecuteTime": {
     "end_time": "2019-02-07T09:57:42.089430Z",
     "start_time": "2019-02-07T09:57:41.651884Z"
    }
   },
   "outputs": [],
   "source": [
    "import pandas as pd\n",
    "import numpy as np\n",
    "import catboost\n",
    "from sklearn.model_selection import train_test_split, KFold\n",
    "import itertools\n",
    "from tqdm import tqdm_notebook as tqdm\n",
    "import lightgbm\n",
    "import scoring\n",
    "import xgboost\n",
    "\n",
    "pd.options.display.max_rows = 80\n",
    "pd.options.display.max_columns = 80"
   ]
  },
  {
   "cell_type": "code",
   "execution_count": 3,
   "metadata": {
    "ExecuteTime": {
     "end_time": "2019-02-07T09:57:42.985145Z",
     "start_time": "2019-02-07T09:57:42.090916Z"
    }
   },
   "outputs": [
    {
     "data": {
      "text/plain": [
       "((5445705, 89), (5445705, 2))"
      ]
     },
     "execution_count": 3,
     "metadata": {},
     "output_type": "execute_result"
    }
   ],
   "source": [
    "data = pd.read_hdf(\"../../data/all_train_data.hdf\")\n",
    "target_labels = pd.read_hdf(\"../../data/train_labels.hdf\")\n",
    "\n",
    "data.shape, target_labels.shape"
   ]
  },
  {
   "cell_type": "code",
   "execution_count": 4,
   "metadata": {
    "ExecuteTime": {
     "end_time": "2019-02-07T09:57:42.989582Z",
     "start_time": "2019-02-07T09:57:42.986650Z"
    }
   },
   "outputs": [],
   "source": [
    "new_columns = list(itertools.chain(*[[f'ClosestHit_{f}[{i}]' for i in range(4)]\n",
    "                                     for f in [\"X\", \"Y\", \"T\", \"z\", \"dx\", \"dy\"]]))\n",
    "\n",
    "rename_dict = dict(zip(range(24), new_columns))"
   ]
  },
  {
   "cell_type": "code",
   "execution_count": 5,
   "metadata": {
    "ExecuteTime": {
     "end_time": "2019-02-07T09:57:47.373240Z",
     "start_time": "2019-02-07T09:57:42.990947Z"
    }
   },
   "outputs": [],
   "source": [
    "data.rename(rename_dict, axis='columns', inplace=True)\n",
    "\n",
    "for j in range(4):\n",
    "    distance_to_center = 0\n",
    "    for i in [\"X\", \"Y\"]:\n",
    "        data[f'Lextra_ClosestHit_dt_{i}[{j}]'] = np.square(data[f'ClosestHit_{i}[{j}]'] - data[f'Lextra_{i}[{j}]'])\n",
    "        data[f'MatchedHit_ClosestHit_dt{i}[{j}]'] = np.square(data[f'ClosestHit_{i}[{j}]'] - data[f'MatchedHit_{i}[{j}]'])\n",
    "        distance_to_center += np.square(data[f'ClosestHit_{i}[{j}]'])\n",
    "    data[f'ClosestHit_to_Center[{j}]'] = np.sqrt(distance_to_center)"
   ]
  },
  {
   "cell_type": "code",
   "execution_count": 6,
   "metadata": {
    "ExecuteTime": {
     "end_time": "2019-02-07T09:57:47.377957Z",
     "start_time": "2019-02-07T09:57:47.374989Z"
    }
   },
   "outputs": [
    {
     "data": {
      "text/plain": [
       "((5445705, 109), (5445705, 2))"
      ]
     },
     "execution_count": 6,
     "metadata": {},
     "output_type": "execute_result"
    }
   ],
   "source": [
    "data.shape, target_labels.shape"
   ]
  },
  {
   "cell_type": "code",
   "execution_count": 7,
   "metadata": {
    "ExecuteTime": {
     "end_time": "2019-02-07T09:57:49.983531Z",
     "start_time": "2019-02-07T09:57:47.380143Z"
    }
   },
   "outputs": [],
   "source": [
    "# replace '[' and ']' because xgboost doesn't accept them inside column names\n",
    "\n",
    "rename_dict_2 = dict(zip(data.columns, data.columns.str.replace('[', '{', regex=False).str.replace(']', '}', regex=False)))\n",
    "data.rename(rename_dict_2, axis='columns', inplace=True)"
   ]
  },
  {
   "cell_type": "code",
   "execution_count": 8,
   "metadata": {
    "ExecuteTime": {
     "end_time": "2019-02-07T09:57:49.990305Z",
     "start_time": "2019-02-07T09:57:49.984932Z"
    }
   },
   "outputs": [],
   "source": [
    "def _test_parameters(fit_params):\n",
    "    k = KFold(n_splits=5, shuffle=True, random_state=0) # K-Fold index generator\n",
    "    \n",
    "    test_scores = [] # Test scores\n",
    "    train_scores = [] # Train scores\n",
    "\n",
    "    for train_index, test_index in tqdm(k.split(data, target_labels), leave=False, total=5):\n",
    "\n",
    "        X_train, X_test, y_train, y_test = data.iloc[train_index], data.iloc[test_index], target_labels.iloc[train_index], target_labels.iloc[test_index]\n",
    "\n",
    "        y_train = y_train.copy()\n",
    "        y_train_true = y_train.copy() # Keep unmodified labels for evaluating\n",
    "        y_train.loc[y_train.weight < 0, 'label'] = 1 - y_train.loc[y_train.weight < 0, 'label'] # Invert labels\n",
    "        y_train.weight = np.abs(y_train.weight) # Take absolute weights\n",
    "\n",
    "        \n",
    "        fit_params['n_jobs'] = 12\n",
    "        fit_params['tree_method'] = 'approx'\n",
    "        model = xgboost.XGBClassifier(**fit_params)\n",
    "\n",
    "        model.fit(X_train, y_train.label, sample_weight=y_train.weight)\n",
    "\n",
    "        pred_train = model.predict_proba(X_train)[:, 1]\n",
    "        train_score = scoring.rejection90(y_train_true.label.values, pred_train, sample_weight=y_train_true.weight.values) * 10000\n",
    "        train_scores.append(train_score)\n",
    "\n",
    "        pred_test = model.predict_proba(X_test)[:, 1]\n",
    "        score = scoring.rejection90(y_test.label.values, pred_test, sample_weight=y_test.weight.values) * 10000\n",
    "        test_scores.append(score)\n",
    "    \n",
    "    train_score_mean = np.mean(train_scores)\n",
    "    train_score_std = np.std(train_scores)\n",
    "    \n",
    "    test_score_mean = np.mean(test_scores)\n",
    "    test_score_std = np.std(test_scores)    \n",
    "    \n",
    "    return train_score_mean, train_score_std, test_score_mean, test_score_std\n",
    "    "
   ]
  },
  {
   "cell_type": "code",
   "execution_count": 9,
   "metadata": {
    "ExecuteTime": {
     "end_time": "2019-02-07T09:57:50.007904Z",
     "start_time": "2019-02-07T09:57:49.991506Z"
    }
   },
   "outputs": [],
   "source": [
    "def run_cross_validation(parameters):\n",
    "    param_names = list(parameters.keys())\n",
    "    param_combinations = list(itertools.product(*list(parameters.values())))\n",
    "    results = pd.DataFrame(param_combinations, columns=param_names)\n",
    "    results['train_score_mean'] = -1.0\n",
    "    results['train_score_std'] = -1.0\n",
    "    results['test_score_mean'] = -1.0\n",
    "    results['test_score_std'] = -1.0\n",
    "    \n",
    "    \n",
    "    for i in tqdm(range(len(param_combinations)), leave=True):\n",
    "        fit_params = dict(zip(param_names, param_combinations[i]))\n",
    "        train_score_mean, train_score_std, test_score_mean, test_score_std = _test_parameters(fit_params)\n",
    "        \n",
    "        results.loc[i, 'train_score_mean'] = train_score_mean\n",
    "        results.loc[i, 'train_score_std'] = train_score_std\n",
    "        results.loc[i, 'test_score_mean'] = test_score_mean\n",
    "        results.loc[i, 'test_score_std'] = test_score_std\n",
    "        \n",
    "        print(fit_params)\n",
    "        print(f'Train score: {train_score_mean:.0f} ± {train_score_std:.0f}')\n",
    "        print(f'Test score: {test_score_mean:.0f} ± {test_score_std:.0f}')\n",
    "        print()\n",
    "\n",
    "    return results\n"
   ]
  },
  {
   "cell_type": "code",
   "execution_count": 10,
   "metadata": {
    "ExecuteTime": {
     "end_time": "2019-02-07T09:57:50.018198Z",
     "start_time": "2019-02-07T09:57:50.009475Z"
    }
   },
   "outputs": [],
   "source": [
    "parameters = {'n_estimators': [100], 'max_depth': [4, 5, 6, 7]}"
   ]
  },
  {
   "cell_type": "code",
   "execution_count": 11,
   "metadata": {
    "ExecuteTime": {
     "end_time": "2019-02-07T15:04:50.618010Z",
     "start_time": "2019-02-07T09:57:50.019971Z"
    }
   },
   "outputs": [
    {
     "data": {
      "application/vnd.jupyter.widget-view+json": {
       "model_id": "dc698d4e66684337819aed5738b1f84f",
       "version_major": 2,
       "version_minor": 0
      },
      "text/plain": [
       "HBox(children=(IntProgress(value=0, max=4), HTML(value='')))"
      ]
     },
     "metadata": {},
     "output_type": "display_data"
    },
    {
     "data": {
      "application/vnd.jupyter.widget-view+json": {
       "model_id": "",
       "version_major": 2,
       "version_minor": 0
      },
      "text/plain": [
       "HBox(children=(IntProgress(value=0, max=5), HTML(value='')))"
      ]
     },
     "metadata": {},
     "output_type": "display_data"
    },
    {
     "name": "stdout",
     "output_type": "stream",
     "text": [
      "[09:57:59] Tree method is selected to be 'approx'\n",
      "[10:08:59] Tree method is selected to be 'approx'\n",
      "[10:19:57] Tree method is selected to be 'approx'\n",
      "[10:30:56] Tree method is selected to be 'approx'\n",
      "[10:42:04] Tree method is selected to be 'approx'\n",
      "{'n_estimators': 100, 'max_depth': 4, 'n_jobs': 12, 'tree_method': 'approx'}\n",
      "Train score: 7971 ± 18\n",
      "Test score: 7643 ± 85\n",
      "\n"
     ]
    },
    {
     "data": {
      "application/vnd.jupyter.widget-view+json": {
       "model_id": "",
       "version_major": 2,
       "version_minor": 0
      },
      "text/plain": [
       "HBox(children=(IntProgress(value=0, max=5), HTML(value='')))"
      ]
     },
     "metadata": {},
     "output_type": "display_data"
    },
    {
     "name": "stdout",
     "output_type": "stream",
     "text": [
      "[10:53:27] Tree method is selected to be 'approx'\n",
      "[11:07:24] Tree method is selected to be 'approx'\n",
      "[11:21:08] Tree method is selected to be 'approx'\n",
      "[11:35:05] Tree method is selected to be 'approx'\n",
      "[11:48:59] Tree method is selected to be 'approx'\n",
      "{'n_estimators': 100, 'max_depth': 5, 'n_jobs': 12, 'tree_method': 'approx'}\n",
      "Train score: 8293 ± 18\n",
      "Test score: 7731 ± 66\n",
      "\n"
     ]
    },
    {
     "data": {
      "application/vnd.jupyter.widget-view+json": {
       "model_id": "",
       "version_major": 2,
       "version_minor": 0
      },
      "text/plain": [
       "HBox(children=(IntProgress(value=0, max=5), HTML(value='')))"
      ]
     },
     "metadata": {},
     "output_type": "display_data"
    },
    {
     "name": "stdout",
     "output_type": "stream",
     "text": [
      "[12:02:45] Tree method is selected to be 'approx'\n",
      "[12:19:36] Tree method is selected to be 'approx'\n",
      "[12:36:13] Tree method is selected to be 'approx'\n",
      "[12:53:00] Tree method is selected to be 'approx'\n",
      "[13:09:49] Tree method is selected to be 'approx'\n",
      "{'n_estimators': 100, 'max_depth': 6, 'n_jobs': 12, 'tree_method': 'approx'}\n",
      "Train score: 8729 ± 48\n",
      "Test score: 7805 ± 59\n",
      "\n"
     ]
    },
    {
     "data": {
      "application/vnd.jupyter.widget-view+json": {
       "model_id": "",
       "version_major": 2,
       "version_minor": 0
      },
      "text/plain": [
       "HBox(children=(IntProgress(value=0, max=5), HTML(value='')))"
      ]
     },
     "metadata": {},
     "output_type": "display_data"
    },
    {
     "name": "stdout",
     "output_type": "stream",
     "text": [
      "[13:26:30] Tree method is selected to be 'approx'\n",
      "[13:46:11] Tree method is selected to be 'approx'\n",
      "[14:05:46] Tree method is selected to be 'approx'\n",
      "[14:25:30] Tree method is selected to be 'approx'\n",
      "[14:45:27] Tree method is selected to be 'approx'\n",
      "{'n_estimators': 100, 'max_depth': 7, 'n_jobs': 12, 'tree_method': 'approx'}\n",
      "Train score: 9222 ± 29\n",
      "Test score: 7824 ± 69\n",
      "\n",
      "\n"
     ]
    }
   ],
   "source": [
    "results = run_cross_validation(parameters)"
   ]
  },
  {
   "cell_type": "code",
   "execution_count": 12,
   "metadata": {
    "ExecuteTime": {
     "end_time": "2019-02-07T15:28:28.933200Z",
     "start_time": "2019-02-07T15:28:28.921581Z"
    }
   },
   "outputs": [
    {
     "data": {
      "text/html": [
       "<div>\n",
       "<style scoped>\n",
       "    .dataframe tbody tr th:only-of-type {\n",
       "        vertical-align: middle;\n",
       "    }\n",
       "\n",
       "    .dataframe tbody tr th {\n",
       "        vertical-align: top;\n",
       "    }\n",
       "\n",
       "    .dataframe thead th {\n",
       "        text-align: right;\n",
       "    }\n",
       "</style>\n",
       "<table border=\"1\" class=\"dataframe\">\n",
       "  <thead>\n",
       "    <tr style=\"text-align: right;\">\n",
       "      <th></th>\n",
       "      <th>n_estimators</th>\n",
       "      <th>max_depth</th>\n",
       "      <th>train_score_mean</th>\n",
       "      <th>train_score_std</th>\n",
       "      <th>test_score_mean</th>\n",
       "      <th>test_score_std</th>\n",
       "    </tr>\n",
       "  </thead>\n",
       "  <tbody>\n",
       "    <tr>\n",
       "      <th>0</th>\n",
       "      <td>100</td>\n",
       "      <td>4</td>\n",
       "      <td>7971.187509</td>\n",
       "      <td>18.269442</td>\n",
       "      <td>7642.634515</td>\n",
       "      <td>84.941578</td>\n",
       "    </tr>\n",
       "    <tr>\n",
       "      <th>1</th>\n",
       "      <td>100</td>\n",
       "      <td>5</td>\n",
       "      <td>8293.210137</td>\n",
       "      <td>17.724997</td>\n",
       "      <td>7730.796012</td>\n",
       "      <td>65.848596</td>\n",
       "    </tr>\n",
       "    <tr>\n",
       "      <th>2</th>\n",
       "      <td>100</td>\n",
       "      <td>6</td>\n",
       "      <td>8729.208373</td>\n",
       "      <td>48.489442</td>\n",
       "      <td>7804.897978</td>\n",
       "      <td>58.628391</td>\n",
       "    </tr>\n",
       "    <tr>\n",
       "      <th>3</th>\n",
       "      <td>100</td>\n",
       "      <td>7</td>\n",
       "      <td>9222.372681</td>\n",
       "      <td>28.960469</td>\n",
       "      <td>7823.956146</td>\n",
       "      <td>69.187647</td>\n",
       "    </tr>\n",
       "  </tbody>\n",
       "</table>\n",
       "</div>"
      ],
      "text/plain": [
       "   n_estimators  max_depth  train_score_mean  train_score_std  \\\n",
       "0           100          4       7971.187509        18.269442   \n",
       "1           100          5       8293.210137        17.724997   \n",
       "2           100          6       8729.208373        48.489442   \n",
       "3           100          7       9222.372681        28.960469   \n",
       "\n",
       "   test_score_mean  test_score_std  \n",
       "0      7642.634515       84.941578  \n",
       "1      7730.796012       65.848596  \n",
       "2      7804.897978       58.628391  \n",
       "3      7823.956146       69.187647  "
      ]
     },
     "execution_count": 12,
     "metadata": {},
     "output_type": "execute_result"
    }
   ],
   "source": [
    "results.sort_values(by='test_score_mean')"
   ]
  },
  {
   "cell_type": "code",
   "execution_count": null,
   "metadata": {},
   "outputs": [],
   "source": []
  }
 ],
 "metadata": {
  "kernelspec": {
   "display_name": "Python 3",
   "language": "python",
   "name": "python3"
  },
  "language_info": {
   "codemirror_mode": {
    "name": "ipython",
    "version": 3
   },
   "file_extension": ".py",
   "mimetype": "text/x-python",
   "name": "python",
   "nbconvert_exporter": "python",
   "pygments_lexer": "ipython3",
   "version": "3.6.6"
  }
 },
 "nbformat": 4,
 "nbformat_minor": 2
}
