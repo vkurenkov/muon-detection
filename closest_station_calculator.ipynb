{
 "cells": [
  {
   "cell_type": "code",
   "execution_count": 1,
   "metadata": {
    "ExecuteTime": {
     "end_time": "2019-01-26T06:44:26.450227Z",
     "start_time": "2019-01-26T06:44:24.271608Z"
    }
   },
   "outputs": [],
   "source": [
    "import os\n",
    "import numpy as np\n",
    "import pandas as pd\n",
    "import swifter\n",
    "from sklearn.model_selection import train_test_split\n",
    "import utils"
   ]
  },
  {
   "cell_type": "code",
   "execution_count": 2,
   "metadata": {
    "ExecuteTime": {
     "end_time": "2019-01-26T06:44:43.584062Z",
     "start_time": "2019-01-26T06:44:43.581732Z"
    }
   },
   "outputs": [],
   "source": [
    "DATA_PATH = \"./data\"\n"
   ]
  },
  {
   "cell_type": "code",
   "execution_count": 5,
   "metadata": {
    "ExecuteTime": {
     "end_time": "2019-01-25T14:53:43.736902Z",
     "start_time": "2019-01-25T14:49:05.388776Z"
    }
   },
   "outputs": [],
   "source": [
    "full_train = utils.load_train_hdf(DATA_PATH)\n"
   ]
  },
  {
   "cell_type": "code",
   "execution_count": 6,
   "metadata": {
    "ExecuteTime": {
     "end_time": "2019-01-25T15:51:23.224990Z",
     "start_time": "2019-01-25T14:55:14.589760Z"
    }
   },
   "outputs": [
    {
     "name": "stderr",
     "output_type": "stream",
     "text": [
      "Pandas Apply: 100%|██████████| 5445705/5445705 [56:06<00:00, 1617.39it/s] \n"
     ]
    }
   ],
   "source": [
    "closest_hits_features = full_train.swifter.apply(\n",
    "    utils.find_closest_hit_per_station, result_type=\"expand\", axis=1)"
   ]
  },
  {
   "cell_type": "code",
   "execution_count": 8,
   "metadata": {
    "ExecuteTime": {
     "end_time": "2019-01-25T15:53:54.778966Z",
     "start_time": "2019-01-25T15:53:47.726678Z"
    }
   },
   "outputs": [],
   "source": [
    "train_concat = pd.concat(\n",
    "    [full_train.loc[:, utils.SIMPLE_FEATURE_COLUMNS],\n",
    "     closest_hits_features], axis=1)"
   ]
  },
  {
   "cell_type": "code",
   "execution_count": 10,
   "metadata": {
    "ExecuteTime": {
     "end_time": "2019-01-25T15:54:39.911508Z",
     "start_time": "2019-01-25T15:54:26.670260Z"
    }
   },
   "outputs": [
    {
     "name": "stderr",
     "output_type": "stream",
     "text": [
      "/anaconda3/lib/python3.6/site-packages/tables/path.py:112: NaturalNameWarning: object name is not a valid Python identifier: '0'; it does not match the pattern ``^[a-zA-Z_][a-zA-Z0-9_]*$``; you will not be able to use natural naming to access this object; using ``getattr()`` will still work, though\n",
      "  NaturalNameWarning)\n",
      "/anaconda3/lib/python3.6/site-packages/pandas/io/pytables.py:279: PerformanceWarning: \n",
      "your performance may suffer as PyTables will pickle object types that it cannot\n",
      "map directly to c-types [inferred_type->mixed-integer,key->axis0] [items->None]\n",
      "\n",
      "  f(store)\n",
      "/anaconda3/lib/python3.6/site-packages/pandas/io/pytables.py:279: PerformanceWarning: \n",
      "your performance may suffer as PyTables will pickle object types that it cannot\n",
      "map directly to c-types [inferred_type->mixed-integer,key->block0_items] [items->None]\n",
      "\n",
      "  f(store)\n"
     ]
    }
   ],
   "source": [
    "train_concat.to_hdf(\"data/all_train_data.hdf\", \"0\")"
   ]
  },
  {
   "cell_type": "code",
   "execution_count": 11,
   "metadata": {
    "ExecuteTime": {
     "end_time": "2019-01-25T16:01:09.205012Z",
     "start_time": "2019-01-25T16:01:09.197368Z"
    }
   },
   "outputs": [
    {
     "data": {
      "text/plain": [
       "(5445705, 89)"
      ]
     },
     "execution_count": 11,
     "metadata": {},
     "output_type": "execute_result"
    }
   ],
   "source": [
    "train_concat.shape"
   ]
  },
  {
   "cell_type": "code",
   "execution_count": 13,
   "metadata": {
    "ExecuteTime": {
     "end_time": "2019-01-25T16:01:24.376626Z",
     "start_time": "2019-01-25T16:01:24.356411Z"
    }
   },
   "outputs": [
    {
     "data": {
      "text/html": [
       "<div>\n",
       "<style scoped>\n",
       "    .dataframe tbody tr th:only-of-type {\n",
       "        vertical-align: middle;\n",
       "    }\n",
       "\n",
       "    .dataframe tbody tr th {\n",
       "        vertical-align: top;\n",
       "    }\n",
       "\n",
       "    .dataframe thead th {\n",
       "        text-align: right;\n",
       "    }\n",
       "</style>\n",
       "<table border=\"1\" class=\"dataframe\">\n",
       "  <thead>\n",
       "    <tr style=\"text-align: right;\">\n",
       "      <th></th>\n",
       "      <th>ncl[0]</th>\n",
       "      <th>ncl[1]</th>\n",
       "      <th>ncl[2]</th>\n",
       "      <th>ncl[3]</th>\n",
       "      <th>avg_cs[0]</th>\n",
       "      <th>avg_cs[1]</th>\n",
       "      <th>avg_cs[2]</th>\n",
       "      <th>avg_cs[3]</th>\n",
       "      <th>ndof</th>\n",
       "      <th>MatchedHit_TYPE[0]</th>\n",
       "      <th>...</th>\n",
       "      <th>14</th>\n",
       "      <th>15</th>\n",
       "      <th>16</th>\n",
       "      <th>17</th>\n",
       "      <th>18</th>\n",
       "      <th>19</th>\n",
       "      <th>20</th>\n",
       "      <th>21</th>\n",
       "      <th>22</th>\n",
       "      <th>23</th>\n",
       "    </tr>\n",
       "  </thead>\n",
       "  <tbody>\n",
       "    <tr>\n",
       "      <th>0</th>\n",
       "      <td>47</td>\n",
       "      <td>31</td>\n",
       "      <td>13</td>\n",
       "      <td>15</td>\n",
       "      <td>2.000000</td>\n",
       "      <td>1.580645</td>\n",
       "      <td>1.153846</td>\n",
       "      <td>1.133333</td>\n",
       "      <td>8</td>\n",
       "      <td>2</td>\n",
       "      <td>...</td>\n",
       "      <td>17520.826172</td>\n",
       "      <td>18729.324219</td>\n",
       "      <td>25.500000</td>\n",
       "      <td>27.50</td>\n",
       "      <td>118.0</td>\n",
       "      <td>126.0</td>\n",
       "      <td>126.278549</td>\n",
       "      <td>136.278488</td>\n",
       "      <td>146.278412</td>\n",
       "      <td>156.278351</td>\n",
       "    </tr>\n",
       "    <tr>\n",
       "      <th>1</th>\n",
       "      <td>92</td>\n",
       "      <td>19</td>\n",
       "      <td>11</td>\n",
       "      <td>26</td>\n",
       "      <td>2.750000</td>\n",
       "      <td>2.789474</td>\n",
       "      <td>1.363636</td>\n",
       "      <td>1.230769</td>\n",
       "      <td>8</td>\n",
       "      <td>2</td>\n",
       "      <td>...</td>\n",
       "      <td>17614.853516</td>\n",
       "      <td>18824.429688</td>\n",
       "      <td>25.500000</td>\n",
       "      <td>27.50</td>\n",
       "      <td>118.0</td>\n",
       "      <td>756.0</td>\n",
       "      <td>126.278549</td>\n",
       "      <td>136.278488</td>\n",
       "      <td>146.278412</td>\n",
       "      <td>156.278351</td>\n",
       "    </tr>\n",
       "    <tr>\n",
       "      <th>2</th>\n",
       "      <td>100</td>\n",
       "      <td>21</td>\n",
       "      <td>11</td>\n",
       "      <td>12</td>\n",
       "      <td>2.930000</td>\n",
       "      <td>2.428571</td>\n",
       "      <td>1.181818</td>\n",
       "      <td>1.083333</td>\n",
       "      <td>8</td>\n",
       "      <td>2</td>\n",
       "      <td>...</td>\n",
       "      <td>17598.300781</td>\n",
       "      <td>18806.351562</td>\n",
       "      <td>12.750000</td>\n",
       "      <td>13.75</td>\n",
       "      <td>59.0</td>\n",
       "      <td>63.0</td>\n",
       "      <td>63.078957</td>\n",
       "      <td>68.078926</td>\n",
       "      <td>73.078896</td>\n",
       "      <td>78.078857</td>\n",
       "    </tr>\n",
       "    <tr>\n",
       "      <th>3</th>\n",
       "      <td>74</td>\n",
       "      <td>27</td>\n",
       "      <td>13</td>\n",
       "      <td>20</td>\n",
       "      <td>3.067568</td>\n",
       "      <td>2.518518</td>\n",
       "      <td>1.923077</td>\n",
       "      <td>1.300000</td>\n",
       "      <td>8</td>\n",
       "      <td>2</td>\n",
       "      <td>...</td>\n",
       "      <td>17598.300781</td>\n",
       "      <td>18806.351562</td>\n",
       "      <td>12.948485</td>\n",
       "      <td>13.75</td>\n",
       "      <td>59.0</td>\n",
       "      <td>63.0</td>\n",
       "      <td>63.038589</td>\n",
       "      <td>68.078926</td>\n",
       "      <td>73.078896</td>\n",
       "      <td>78.078857</td>\n",
       "    </tr>\n",
       "    <tr>\n",
       "      <th>4</th>\n",
       "      <td>18</td>\n",
       "      <td>22</td>\n",
       "      <td>8</td>\n",
       "      <td>8</td>\n",
       "      <td>1.833333</td>\n",
       "      <td>1.954545</td>\n",
       "      <td>1.125000</td>\n",
       "      <td>1.750000</td>\n",
       "      <td>8</td>\n",
       "      <td>2</td>\n",
       "      <td>...</td>\n",
       "      <td>17603.021484</td>\n",
       "      <td>18811.394531</td>\n",
       "      <td>12.750000</td>\n",
       "      <td>13.75</td>\n",
       "      <td>59.0</td>\n",
       "      <td>63.0</td>\n",
       "      <td>63.078957</td>\n",
       "      <td>68.078926</td>\n",
       "      <td>73.078896</td>\n",
       "      <td>78.078857</td>\n",
       "    </tr>\n",
       "  </tbody>\n",
       "</table>\n",
       "<p>5 rows × 89 columns</p>\n",
       "</div>"
      ],
      "text/plain": [
       "   ncl[0]  ncl[1]  ncl[2]  ncl[3]  avg_cs[0]  avg_cs[1]  avg_cs[2]  avg_cs[3]  \\\n",
       "0      47      31      13      15   2.000000   1.580645   1.153846   1.133333   \n",
       "1      92      19      11      26   2.750000   2.789474   1.363636   1.230769   \n",
       "2     100      21      11      12   2.930000   2.428571   1.181818   1.083333   \n",
       "3      74      27      13      20   3.067568   2.518518   1.923077   1.300000   \n",
       "4      18      22       8       8   1.833333   1.954545   1.125000   1.750000   \n",
       "\n",
       "   ndof  MatchedHit_TYPE[0]     ...                14            15  \\\n",
       "0     8                   2     ...      17520.826172  18729.324219   \n",
       "1     8                   2     ...      17614.853516  18824.429688   \n",
       "2     8                   2     ...      17598.300781  18806.351562   \n",
       "3     8                   2     ...      17598.300781  18806.351562   \n",
       "4     8                   2     ...      17603.021484  18811.394531   \n",
       "\n",
       "          16     17     18     19          20          21          22  \\\n",
       "0  25.500000  27.50  118.0  126.0  126.278549  136.278488  146.278412   \n",
       "1  25.500000  27.50  118.0  756.0  126.278549  136.278488  146.278412   \n",
       "2  12.750000  13.75   59.0   63.0   63.078957   68.078926   73.078896   \n",
       "3  12.948485  13.75   59.0   63.0   63.038589   68.078926   73.078896   \n",
       "4  12.750000  13.75   59.0   63.0   63.078957   68.078926   73.078896   \n",
       "\n",
       "           23  \n",
       "0  156.278351  \n",
       "1  156.278351  \n",
       "2   78.078857  \n",
       "3   78.078857  \n",
       "4   78.078857  \n",
       "\n",
       "[5 rows x 89 columns]"
      ]
     },
     "execution_count": 13,
     "metadata": {},
     "output_type": "execute_result"
    }
   ],
   "source": [
    "train_concat.head()"
   ]
  },
  {
   "cell_type": "code",
   "execution_count": 3,
   "metadata": {
    "ExecuteTime": {
     "end_time": "2019-01-26T06:45:18.894739Z",
     "start_time": "2019-01-26T06:45:03.618589Z"
    }
   },
   "outputs": [],
   "source": [
    "test_data = pd.read_hdf(\"data/test_public_v2.hdf\")"
   ]
  },
  {
   "cell_type": "code",
   "execution_count": 4,
   "metadata": {
    "ExecuteTime": {
     "end_time": "2019-01-26T06:52:08.672978Z",
     "start_time": "2019-01-26T06:45:49.227004Z"
    }
   },
   "outputs": [
    {
     "name": "stderr",
     "output_type": "stream",
     "text": [
      "Pandas Apply: 100%|██████████| 726095/726095 [06:17<00:00, 1921.01it/s]\n"
     ]
    }
   ],
   "source": [
    "closest_hits_features = test_data.swifter.apply(\n",
    "    utils.find_closest_hit_per_station, result_type=\"expand\", axis=1)"
   ]
  },
  {
   "cell_type": "code",
   "execution_count": 5,
   "metadata": {
    "ExecuteTime": {
     "end_time": "2019-01-26T06:52:11.856904Z",
     "start_time": "2019-01-26T06:52:11.482809Z"
    }
   },
   "outputs": [],
   "source": [
    "test_concat = pd.concat(\n",
    "    [test_data.loc[:, utils.SIMPLE_FEATURE_COLUMNS],\n",
    "     closest_hits_features], axis=1)"
   ]
  },
  {
   "cell_type": "code",
   "execution_count": null,
   "metadata": {},
   "outputs": [],
   "source": [
    "test_concat.to"
   ]
  }
 ],
 "metadata": {
  "kernelspec": {
   "display_name": "Python 3",
   "language": "python",
   "name": "python3"
  },
  "language_info": {
   "codemirror_mode": {
    "name": "ipython",
    "version": 3
   },
   "file_extension": ".py",
   "mimetype": "text/x-python",
   "name": "python",
   "nbconvert_exporter": "python",
   "pygments_lexer": "ipython3",
   "version": "3.6.8"
  }
 },
 "nbformat": 4,
 "nbformat_minor": 2
}
