{
 "cells": [
  {
   "cell_type": "code",
   "execution_count": 1,
   "metadata": {
    "ExecuteTime": {
     "end_time": "2019-01-26T05:50:18.673800Z",
     "start_time": "2019-01-26T05:50:18.280266Z"
    }
   },
   "outputs": [],
   "source": [
    "import pandas as pd\n",
    "import numpy as np"
   ]
  },
  {
   "cell_type": "code",
   "execution_count": 2,
   "metadata": {
    "ExecuteTime": {
     "end_time": "2019-01-26T05:52:26.904129Z",
     "start_time": "2019-01-26T05:50:18.675564Z"
    }
   },
   "outputs": [
    {
     "name": "stdout",
     "output_type": "stream",
     "text": [
      "(2722852, 79)\n"
     ]
    }
   ],
   "source": [
    "df = pd.read_hdf(\"data/train_part_1_v2.hdf\")\n",
    "df1_shape = df.shape\n",
    "df1_train = df.loc[:, [\"label\", \"weight\"]].copy()\n",
    "del df\n",
    "print(df1_shape)"
   ]
  },
  {
   "cell_type": "code",
   "execution_count": 3,
   "metadata": {
    "ExecuteTime": {
     "end_time": "2019-01-26T05:54:35.138131Z",
     "start_time": "2019-01-26T05:52:26.910964Z"
    }
   },
   "outputs": [
    {
     "name": "stdout",
     "output_type": "stream",
     "text": [
      "(2722853, 79)\n"
     ]
    }
   ],
   "source": [
    "df = pd.read_hdf(\"data/train_part_2_v2.hdf\")\n",
    "df2_shape = df.shape\n",
    "df2_train = df.loc[:, [\"label\", \"weight\"]].copy()\n",
    "del df\n",
    "print(df2_shape)"
   ]
  },
  {
   "cell_type": "code",
   "execution_count": 10,
   "metadata": {
    "ExecuteTime": {
     "end_time": "2019-01-26T06:08:18.343094Z",
     "start_time": "2019-01-26T06:08:18.289766Z"
    }
   },
   "outputs": [],
   "source": [
    "train_concat = pd.concat([df1_train, df2_train], axis=0)"
   ]
  },
  {
   "cell_type": "code",
   "execution_count": 11,
   "metadata": {
    "ExecuteTime": {
     "end_time": "2019-01-26T06:08:19.265568Z",
     "start_time": "2019-01-26T06:08:19.217050Z"
    }
   },
   "outputs": [
    {
     "name": "stderr",
     "output_type": "stream",
     "text": [
      "/anaconda3/lib/python3.6/site-packages/tables/path.py:112: NaturalNameWarning: object name is not a valid Python identifier: '0'; it does not match the pattern ``^[a-zA-Z_][a-zA-Z0-9_]*$``; you will not be able to use natural naming to access this object; using ``getattr()`` will still work, though\n",
      "  NaturalNameWarning)\n"
     ]
    }
   ],
   "source": [
    "train_concat.to_hdf(\"data/train_labels.hdf\", key=\"0\")"
   ]
  },
  {
   "cell_type": "code",
   "execution_count": 12,
   "metadata": {
    "ExecuteTime": {
     "end_time": "2019-01-26T06:08:20.640955Z",
     "start_time": "2019-01-26T06:08:20.637209Z"
    }
   },
   "outputs": [
    {
     "data": {
      "text/plain": [
       "5445705"
      ]
     },
     "execution_count": 12,
     "metadata": {},
     "output_type": "execute_result"
    }
   ],
   "source": [
    "2722853 + 2722852"
   ]
  },
  {
   "cell_type": "code",
   "execution_count": 13,
   "metadata": {
    "ExecuteTime": {
     "end_time": "2019-01-26T06:08:20.829683Z",
     "start_time": "2019-01-26T06:08:20.826040Z"
    }
   },
   "outputs": [
    {
     "data": {
      "text/plain": [
       "(5445705, 2)"
      ]
     },
     "execution_count": 13,
     "metadata": {},
     "output_type": "execute_result"
    }
   ],
   "source": [
    "train_concat.shape"
   ]
  },
  {
   "cell_type": "code",
   "execution_count": null,
   "metadata": {},
   "outputs": [],
   "source": []
  }
 ],
 "metadata": {
  "kernelspec": {
   "display_name": "Python 3",
   "language": "python",
   "name": "python3"
  },
  "language_info": {
   "codemirror_mode": {
    "name": "ipython",
    "version": 3
   },
   "file_extension": ".py",
   "mimetype": "text/x-python",
   "name": "python",
   "nbconvert_exporter": "python",
   "pygments_lexer": "ipython3",
   "version": "3.6.6"
  }
 },
 "nbformat": 4,
 "nbformat_minor": 2
}
