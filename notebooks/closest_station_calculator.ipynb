{
 "cells": [
  {
   "cell_type": "code",
   "execution_count": 2,
   "metadata": {
    "ExecuteTime": {
     "end_time": "2019-02-10T13:49:42.500394Z",
     "start_time": "2019-02-10T13:49:42.497964Z"
    }
   },
   "outputs": [],
   "source": [
    "import sys\n",
    "sys.path.append('..')"
   ]
  },
  {
   "cell_type": "code",
   "execution_count": 3,
   "metadata": {
    "ExecuteTime": {
     "end_time": "2019-02-10T13:49:42.661324Z",
     "start_time": "2019-02-10T13:49:42.649356Z"
    }
   },
   "outputs": [],
   "source": [
    "import os\n",
    "import numpy as np\n",
    "import pandas as pd\n",
    "import swifter\n",
    "from sklearn.model_selection import train_test_split\n",
    "import utils"
   ]
  },
  {
   "cell_type": "code",
   "execution_count": 18,
   "metadata": {
    "ExecuteTime": {
     "end_time": "2019-02-10T13:57:39.253966Z",
     "start_time": "2019-02-10T13:57:18.001792Z"
    }
   },
   "outputs": [],
   "source": [
    "df = pd.read_hdf(\"../data/test_private_v2_track_1.hdf\",)"
   ]
  },
  {
   "cell_type": "code",
   "execution_count": 19,
   "metadata": {
    "ExecuteTime": {
     "end_time": "2019-02-10T13:57:41.688533Z",
     "start_time": "2019-02-10T13:57:41.655428Z"
    }
   },
   "outputs": [
    {
     "data": {
      "text/html": [
       "<div>\n",
       "<style scoped>\n",
       "    .dataframe tbody tr th:only-of-type {\n",
       "        vertical-align: middle;\n",
       "    }\n",
       "\n",
       "    .dataframe tbody tr th {\n",
       "        vertical-align: top;\n",
       "    }\n",
       "\n",
       "    .dataframe thead th {\n",
       "        text-align: right;\n",
       "    }\n",
       "</style>\n",
       "<table border=\"1\" class=\"dataframe\">\n",
       "  <thead>\n",
       "    <tr style=\"text-align: right;\">\n",
       "      <th></th>\n",
       "      <th>ncl[0]</th>\n",
       "      <th>ncl[1]</th>\n",
       "      <th>ncl[2]</th>\n",
       "      <th>ncl[3]</th>\n",
       "      <th>avg_cs[0]</th>\n",
       "      <th>avg_cs[1]</th>\n",
       "      <th>avg_cs[2]</th>\n",
       "      <th>avg_cs[3]</th>\n",
       "      <th>ndof</th>\n",
       "      <th>MatchedHit_TYPE[0]</th>\n",
       "      <th>...</th>\n",
       "      <th>FOI_hits_Y</th>\n",
       "      <th>FOI_hits_Z</th>\n",
       "      <th>FOI_hits_DX</th>\n",
       "      <th>FOI_hits_DY</th>\n",
       "      <th>FOI_hits_DZ</th>\n",
       "      <th>FOI_hits_T</th>\n",
       "      <th>FOI_hits_DT</th>\n",
       "      <th>FOI_hits_S</th>\n",
       "      <th>PT</th>\n",
       "      <th>P</th>\n",
       "    </tr>\n",
       "  </thead>\n",
       "  <tbody>\n",
       "    <tr>\n",
       "      <th>0</th>\n",
       "      <td>76</td>\n",
       "      <td>11</td>\n",
       "      <td>16</td>\n",
       "      <td>25</td>\n",
       "      <td>2.684211</td>\n",
       "      <td>2.090909</td>\n",
       "      <td>1.312500</td>\n",
       "      <td>1.120000</td>\n",
       "      <td>8</td>\n",
       "      <td>2</td>\n",
       "      <td>...</td>\n",
       "      <td>[541.43036, 541.43036, 583.2838, 625.10657, 66...</td>\n",
       "      <td>[15406.95, 15406.95, 16614.4, 17808.152, 19017...</td>\n",
       "      <td>[6.375, 6.375, 6.875, 29.5, 31.5]</td>\n",
       "      <td>[31.479162, 31.479162, 33.979145, 36.47913, 38...</td>\n",
       "      <td>[33.613575, 33.613575, 33.622578, 33.63158, 33...</td>\n",
       "      <td>[8, 1, 4, 8, 5]</td>\n",
       "      <td>[1, -6, -1, 0, 0]</td>\n",
       "      <td>[0, 0, 1, 2, 3]</td>\n",
       "      <td>2589.074895</td>\n",
       "      <td>50268.359507</td>\n",
       "    </tr>\n",
       "    <tr>\n",
       "      <th>1</th>\n",
       "      <td>72</td>\n",
       "      <td>22</td>\n",
       "      <td>9</td>\n",
       "      <td>14</td>\n",
       "      <td>2.500000</td>\n",
       "      <td>2.636364</td>\n",
       "      <td>1.111111</td>\n",
       "      <td>1.142857</td>\n",
       "      <td>8</td>\n",
       "      <td>2</td>\n",
       "      <td>...</td>\n",
       "      <td>[-893.2435, -627.6389, -893.2435, -627.6389, -...</td>\n",
       "      <td>[15399.885, 15115.839, 15399.885, 15115.839, 1...</td>\n",
       "      <td>[25.5, 25.5, 25.5, 25.5, 27.5, 118.0, 126.0, 1...</td>\n",
       "      <td>[126.27855, 126.27855, 126.27855, 126.27855, 1...</td>\n",
       "      <td>[33.95495, 33.95495, 33.95495, 33.95495, 33.99...</td>\n",
       "      <td>[6, 6, 5, 5, 7, 6, 8, 7]</td>\n",
       "      <td>[1, -3, 0, -4, 0, -1, 0, -1]</td>\n",
       "      <td>[0, 0, 0, 0, 1, 2, 3, 3]</td>\n",
       "      <td>1214.306768</td>\n",
       "      <td>9136.633410</td>\n",
       "    </tr>\n",
       "    <tr>\n",
       "      <th>2</th>\n",
       "      <td>59</td>\n",
       "      <td>8</td>\n",
       "      <td>8</td>\n",
       "      <td>11</td>\n",
       "      <td>2.559322</td>\n",
       "      <td>3.375000</td>\n",
       "      <td>1.875000</td>\n",
       "      <td>1.909091</td>\n",
       "      <td>8</td>\n",
       "      <td>2</td>\n",
       "      <td>...</td>\n",
       "      <td>[1318.5292, 1422.3822, 1526.2046, 1629.8118, 1...</td>\n",
       "      <td>[15208.748, 16416.422, 17610.395, 18819.668, 1...</td>\n",
       "      <td>[12.75, 13.75, 59.0, 63.0, 63.0]</td>\n",
       "      <td>[63.078957, 68.078926, 73.078896, 78.07886, 78...</td>\n",
       "      <td>[33.727364, 33.74537, 33.763374, 33.78138, 33....</td>\n",
       "      <td>[1, 4, 5, 5, 5]</td>\n",
       "      <td>[-1, -1, 1, 0, 0]</td>\n",
       "      <td>[0, 1, 2, 3, 3]</td>\n",
       "      <td>4021.866299</td>\n",
       "      <td>46241.344045</td>\n",
       "    </tr>\n",
       "    <tr>\n",
       "      <th>3</th>\n",
       "      <td>49</td>\n",
       "      <td>10</td>\n",
       "      <td>15</td>\n",
       "      <td>12</td>\n",
       "      <td>1.897959</td>\n",
       "      <td>1.000000</td>\n",
       "      <td>1.466667</td>\n",
       "      <td>1.583333</td>\n",
       "      <td>8</td>\n",
       "      <td>2</td>\n",
       "      <td>...</td>\n",
       "      <td>[-1133.8381, -1133.8381, -1224.3226, -1313.586...</td>\n",
       "      <td>[15198.017, 15198.017, 16401.89, 17594.37, 188...</td>\n",
       "      <td>[25.5, 25.5, 27.5, 118.0, 126.0]</td>\n",
       "      <td>[126.27855, 126.27855, 136.27849, 146.27841, 1...</td>\n",
       "      <td>[33.95495, 33.95495, 33.99096, 34.026966, 34.0...</td>\n",
       "      <td>[2, 8, 2, 5, 6]</td>\n",
       "      <td>[-6, 0, 0, 0, 0]</td>\n",
       "      <td>[0, 0, 1, 2, 3]</td>\n",
       "      <td>2900.460154</td>\n",
       "      <td>14855.922836</td>\n",
       "    </tr>\n",
       "    <tr>\n",
       "      <th>4</th>\n",
       "      <td>87</td>\n",
       "      <td>52</td>\n",
       "      <td>23</td>\n",
       "      <td>10</td>\n",
       "      <td>2.586207</td>\n",
       "      <td>2.884615</td>\n",
       "      <td>1.434783</td>\n",
       "      <td>1.300000</td>\n",
       "      <td>8</td>\n",
       "      <td>2</td>\n",
       "      <td>...</td>\n",
       "      <td>[846.64905, 846.64905, 912.36346, 979.399, 105...</td>\n",
       "      <td>[15205.148, 15205.148, 16409.586, 17602.627, 1...</td>\n",
       "      <td>[6.375, 6.375, 6.875, 29.5, 29.5, 29.5, 29.5, ...</td>\n",
       "      <td>[31.479162, 31.479162, 33.979145, 36.47913, 36...</td>\n",
       "      <td>[33.613575, 33.613575, 33.622578, 33.63158, 33...</td>\n",
       "      <td>[4, 3, 10, 8, 8, 8, 8, 8, 8]</td>\n",
       "      <td>[3, 2, 1, 0, 0, 0, 0, -1, -1]</td>\n",
       "      <td>[0, 0, 1, 2, 2, 2, 2, 3, 3]</td>\n",
       "      <td>1915.277178</td>\n",
       "      <td>21442.937297</td>\n",
       "    </tr>\n",
       "  </tbody>\n",
       "</table>\n",
       "<p>5 rows × 74 columns</p>\n",
       "</div>"
      ],
      "text/plain": [
       "   ncl[0]  ncl[1]  ncl[2]  ncl[3]  avg_cs[0]  avg_cs[1]  avg_cs[2]  avg_cs[3]  \\\n",
       "0      76      11      16      25   2.684211   2.090909   1.312500   1.120000   \n",
       "1      72      22       9      14   2.500000   2.636364   1.111111   1.142857   \n",
       "2      59       8       8      11   2.559322   3.375000   1.875000   1.909091   \n",
       "3      49      10      15      12   1.897959   1.000000   1.466667   1.583333   \n",
       "4      87      52      23      10   2.586207   2.884615   1.434783   1.300000   \n",
       "\n",
       "   ndof  MatchedHit_TYPE[0]      ...       \\\n",
       "0     8                   2      ...        \n",
       "1     8                   2      ...        \n",
       "2     8                   2      ...        \n",
       "3     8                   2      ...        \n",
       "4     8                   2      ...        \n",
       "\n",
       "                                          FOI_hits_Y  \\\n",
       "0  [541.43036, 541.43036, 583.2838, 625.10657, 66...   \n",
       "1  [-893.2435, -627.6389, -893.2435, -627.6389, -...   \n",
       "2  [1318.5292, 1422.3822, 1526.2046, 1629.8118, 1...   \n",
       "3  [-1133.8381, -1133.8381, -1224.3226, -1313.586...   \n",
       "4  [846.64905, 846.64905, 912.36346, 979.399, 105...   \n",
       "\n",
       "                                          FOI_hits_Z  \\\n",
       "0  [15406.95, 15406.95, 16614.4, 17808.152, 19017...   \n",
       "1  [15399.885, 15115.839, 15399.885, 15115.839, 1...   \n",
       "2  [15208.748, 16416.422, 17610.395, 18819.668, 1...   \n",
       "3  [15198.017, 15198.017, 16401.89, 17594.37, 188...   \n",
       "4  [15205.148, 15205.148, 16409.586, 17602.627, 1...   \n",
       "\n",
       "                                         FOI_hits_DX  \\\n",
       "0                  [6.375, 6.375, 6.875, 29.5, 31.5]   \n",
       "1  [25.5, 25.5, 25.5, 25.5, 27.5, 118.0, 126.0, 1...   \n",
       "2                   [12.75, 13.75, 59.0, 63.0, 63.0]   \n",
       "3                   [25.5, 25.5, 27.5, 118.0, 126.0]   \n",
       "4  [6.375, 6.375, 6.875, 29.5, 29.5, 29.5, 29.5, ...   \n",
       "\n",
       "                                         FOI_hits_DY  \\\n",
       "0  [31.479162, 31.479162, 33.979145, 36.47913, 38...   \n",
       "1  [126.27855, 126.27855, 126.27855, 126.27855, 1...   \n",
       "2  [63.078957, 68.078926, 73.078896, 78.07886, 78...   \n",
       "3  [126.27855, 126.27855, 136.27849, 146.27841, 1...   \n",
       "4  [31.479162, 31.479162, 33.979145, 36.47913, 36...   \n",
       "\n",
       "                                         FOI_hits_DZ  \\\n",
       "0  [33.613575, 33.613575, 33.622578, 33.63158, 33...   \n",
       "1  [33.95495, 33.95495, 33.95495, 33.95495, 33.99...   \n",
       "2  [33.727364, 33.74537, 33.763374, 33.78138, 33....   \n",
       "3  [33.95495, 33.95495, 33.99096, 34.026966, 34.0...   \n",
       "4  [33.613575, 33.613575, 33.622578, 33.63158, 33...   \n",
       "\n",
       "                     FOI_hits_T                    FOI_hits_DT  \\\n",
       "0               [8, 1, 4, 8, 5]              [1, -6, -1, 0, 0]   \n",
       "1      [6, 6, 5, 5, 7, 6, 8, 7]   [1, -3, 0, -4, 0, -1, 0, -1]   \n",
       "2               [1, 4, 5, 5, 5]              [-1, -1, 1, 0, 0]   \n",
       "3               [2, 8, 2, 5, 6]               [-6, 0, 0, 0, 0]   \n",
       "4  [4, 3, 10, 8, 8, 8, 8, 8, 8]  [3, 2, 1, 0, 0, 0, 0, -1, -1]   \n",
       "\n",
       "                    FOI_hits_S           PT             P  \n",
       "0              [0, 0, 1, 2, 3]  2589.074895  50268.359507  \n",
       "1     [0, 0, 0, 0, 1, 2, 3, 3]  1214.306768   9136.633410  \n",
       "2              [0, 1, 2, 3, 3]  4021.866299  46241.344045  \n",
       "3              [0, 0, 1, 2, 3]  2900.460154  14855.922836  \n",
       "4  [0, 0, 1, 2, 2, 2, 2, 3, 3]  1915.277178  21442.937297  \n",
       "\n",
       "[5 rows x 74 columns]"
      ]
     },
     "execution_count": 19,
     "metadata": {},
     "output_type": "execute_result"
    }
   ],
   "source": [
    "df.head()"
   ]
  },
  {
   "cell_type": "code",
   "execution_count": 23,
   "metadata": {
    "ExecuteTime": {
     "end_time": "2019-02-10T14:13:03.481712Z",
     "start_time": "2019-02-10T13:57:57.917629Z"
    }
   },
   "outputs": [
    {
     "name": "stderr",
     "output_type": "stream",
     "text": [
      "Pandas Apply: 100%|██████████| 1452188/1452188 [15:03<00:00, 1606.68it/s]\n"
     ]
    }
   ],
   "source": [
    "closest_hits_features = df.swifter.apply(utils.find_closest_hit_per_station, result_type=\"expand\", axis=1)"
   ]
  },
  {
   "cell_type": "code",
   "execution_count": 24,
   "metadata": {
    "ExecuteTime": {
     "end_time": "2019-02-10T14:16:13.620478Z",
     "start_time": "2019-02-10T14:16:12.819175Z"
    }
   },
   "outputs": [],
   "source": [
    "df_concat = pd.concat(\n",
    "    [df.loc[:, utils.SIMPLE_FEATURE_COLUMNS],\n",
    "     closest_hits_features], axis=1)"
   ]
  },
  {
   "cell_type": "code",
   "execution_count": 27,
   "metadata": {
    "ExecuteTime": {
     "end_time": "2019-02-10T14:21:21.351752Z",
     "start_time": "2019-02-10T14:21:20.244490Z"
    }
   },
   "outputs": [
    {
     "name": "stderr",
     "output_type": "stream",
     "text": [
      "/usr/local/lib/python3.6/dist-packages/tables/path.py:112: NaturalNameWarning: object name is not a valid Python identifier: '0'; it does not match the pattern ``^[a-zA-Z_][a-zA-Z0-9_]*$``; you will not be able to use natural naming to access this object; using ``getattr()`` will still work, though\n",
      "  NaturalNameWarning)\n",
      "/usr/local/lib/python3.6/dist-packages/pandas/io/pytables.py:279: PerformanceWarning: \n",
      "your performance may suffer as PyTables will pickle object types that it cannot\n",
      "map directly to c-types [inferred_type->mixed-integer,key->axis0] [items->None]\n",
      "\n",
      "  f(store)\n",
      "/usr/local/lib/python3.6/dist-packages/pandas/io/pytables.py:279: PerformanceWarning: \n",
      "your performance may suffer as PyTables will pickle object types that it cannot\n",
      "map directly to c-types [inferred_type->mixed-integer,key->block0_items] [items->None]\n",
      "\n",
      "  f(store)\n"
     ]
    }
   ],
   "source": [
    "df_concat.to_hdf(\"../data/private_data_v2.hdf\", \"0\")"
   ]
  },
  {
   "cell_type": "code",
   "execution_count": 11,
   "metadata": {
    "ExecuteTime": {
     "end_time": "2019-01-25T16:01:09.205012Z",
     "start_time": "2019-01-25T16:01:09.197368Z"
    }
   },
   "outputs": [
    {
     "data": {
      "text/plain": [
       "(5445705, 89)"
      ]
     },
     "execution_count": 11,
     "metadata": {},
     "output_type": "execute_result"
    }
   ],
   "source": [
    "train_concat.shape"
   ]
  },
  {
   "cell_type": "code",
   "execution_count": 26,
   "metadata": {
    "ExecuteTime": {
     "end_time": "2019-02-10T14:17:48.808105Z",
     "start_time": "2019-02-10T14:17:48.801911Z"
    }
   },
   "outputs": [
    {
     "data": {
      "text/plain": [
       "(1452188, 89)"
      ]
     },
     "execution_count": 26,
     "metadata": {},
     "output_type": "execute_result"
    }
   ],
   "source": [
    "df_concat.shape"
   ]
  },
  {
   "cell_type": "code",
   "execution_count": 13,
   "metadata": {
    "ExecuteTime": {
     "end_time": "2019-01-25T16:01:24.376626Z",
     "start_time": "2019-01-25T16:01:24.356411Z"
    }
   },
   "outputs": [
    {
     "data": {
      "text/html": [
       "<div>\n",
       "<style scoped>\n",
       "    .dataframe tbody tr th:only-of-type {\n",
       "        vertical-align: middle;\n",
       "    }\n",
       "\n",
       "    .dataframe tbody tr th {\n",
       "        vertical-align: top;\n",
       "    }\n",
       "\n",
       "    .dataframe thead th {\n",
       "        text-align: right;\n",
       "    }\n",
       "</style>\n",
       "<table border=\"1\" class=\"dataframe\">\n",
       "  <thead>\n",
       "    <tr style=\"text-align: right;\">\n",
       "      <th></th>\n",
       "      <th>ncl[0]</th>\n",
       "      <th>ncl[1]</th>\n",
       "      <th>ncl[2]</th>\n",
       "      <th>ncl[3]</th>\n",
       "      <th>avg_cs[0]</th>\n",
       "      <th>avg_cs[1]</th>\n",
       "      <th>avg_cs[2]</th>\n",
       "      <th>avg_cs[3]</th>\n",
       "      <th>ndof</th>\n",
       "      <th>MatchedHit_TYPE[0]</th>\n",
       "      <th>...</th>\n",
       "      <th>14</th>\n",
       "      <th>15</th>\n",
       "      <th>16</th>\n",
       "      <th>17</th>\n",
       "      <th>18</th>\n",
       "      <th>19</th>\n",
       "      <th>20</th>\n",
       "      <th>21</th>\n",
       "      <th>22</th>\n",
       "      <th>23</th>\n",
       "    </tr>\n",
       "  </thead>\n",
       "  <tbody>\n",
       "    <tr>\n",
       "      <th>0</th>\n",
       "      <td>47</td>\n",
       "      <td>31</td>\n",
       "      <td>13</td>\n",
       "      <td>15</td>\n",
       "      <td>2.000000</td>\n",
       "      <td>1.580645</td>\n",
       "      <td>1.153846</td>\n",
       "      <td>1.133333</td>\n",
       "      <td>8</td>\n",
       "      <td>2</td>\n",
       "      <td>...</td>\n",
       "      <td>17520.826172</td>\n",
       "      <td>18729.324219</td>\n",
       "      <td>25.500000</td>\n",
       "      <td>27.50</td>\n",
       "      <td>118.0</td>\n",
       "      <td>126.0</td>\n",
       "      <td>126.278549</td>\n",
       "      <td>136.278488</td>\n",
       "      <td>146.278412</td>\n",
       "      <td>156.278351</td>\n",
       "    </tr>\n",
       "    <tr>\n",
       "      <th>1</th>\n",
       "      <td>92</td>\n",
       "      <td>19</td>\n",
       "      <td>11</td>\n",
       "      <td>26</td>\n",
       "      <td>2.750000</td>\n",
       "      <td>2.789474</td>\n",
       "      <td>1.363636</td>\n",
       "      <td>1.230769</td>\n",
       "      <td>8</td>\n",
       "      <td>2</td>\n",
       "      <td>...</td>\n",
       "      <td>17614.853516</td>\n",
       "      <td>18824.429688</td>\n",
       "      <td>25.500000</td>\n",
       "      <td>27.50</td>\n",
       "      <td>118.0</td>\n",
       "      <td>756.0</td>\n",
       "      <td>126.278549</td>\n",
       "      <td>136.278488</td>\n",
       "      <td>146.278412</td>\n",
       "      <td>156.278351</td>\n",
       "    </tr>\n",
       "    <tr>\n",
       "      <th>2</th>\n",
       "      <td>100</td>\n",
       "      <td>21</td>\n",
       "      <td>11</td>\n",
       "      <td>12</td>\n",
       "      <td>2.930000</td>\n",
       "      <td>2.428571</td>\n",
       "      <td>1.181818</td>\n",
       "      <td>1.083333</td>\n",
       "      <td>8</td>\n",
       "      <td>2</td>\n",
       "      <td>...</td>\n",
       "      <td>17598.300781</td>\n",
       "      <td>18806.351562</td>\n",
       "      <td>12.750000</td>\n",
       "      <td>13.75</td>\n",
       "      <td>59.0</td>\n",
       "      <td>63.0</td>\n",
       "      <td>63.078957</td>\n",
       "      <td>68.078926</td>\n",
       "      <td>73.078896</td>\n",
       "      <td>78.078857</td>\n",
       "    </tr>\n",
       "    <tr>\n",
       "      <th>3</th>\n",
       "      <td>74</td>\n",
       "      <td>27</td>\n",
       "      <td>13</td>\n",
       "      <td>20</td>\n",
       "      <td>3.067568</td>\n",
       "      <td>2.518518</td>\n",
       "      <td>1.923077</td>\n",
       "      <td>1.300000</td>\n",
       "      <td>8</td>\n",
       "      <td>2</td>\n",
       "      <td>...</td>\n",
       "      <td>17598.300781</td>\n",
       "      <td>18806.351562</td>\n",
       "      <td>12.948485</td>\n",
       "      <td>13.75</td>\n",
       "      <td>59.0</td>\n",
       "      <td>63.0</td>\n",
       "      <td>63.038589</td>\n",
       "      <td>68.078926</td>\n",
       "      <td>73.078896</td>\n",
       "      <td>78.078857</td>\n",
       "    </tr>\n",
       "    <tr>\n",
       "      <th>4</th>\n",
       "      <td>18</td>\n",
       "      <td>22</td>\n",
       "      <td>8</td>\n",
       "      <td>8</td>\n",
       "      <td>1.833333</td>\n",
       "      <td>1.954545</td>\n",
       "      <td>1.125000</td>\n",
       "      <td>1.750000</td>\n",
       "      <td>8</td>\n",
       "      <td>2</td>\n",
       "      <td>...</td>\n",
       "      <td>17603.021484</td>\n",
       "      <td>18811.394531</td>\n",
       "      <td>12.750000</td>\n",
       "      <td>13.75</td>\n",
       "      <td>59.0</td>\n",
       "      <td>63.0</td>\n",
       "      <td>63.078957</td>\n",
       "      <td>68.078926</td>\n",
       "      <td>73.078896</td>\n",
       "      <td>78.078857</td>\n",
       "    </tr>\n",
       "  </tbody>\n",
       "</table>\n",
       "<p>5 rows × 89 columns</p>\n",
       "</div>"
      ],
      "text/plain": [
       "   ncl[0]  ncl[1]  ncl[2]  ncl[3]  avg_cs[0]  avg_cs[1]  avg_cs[2]  avg_cs[3]  \\\n",
       "0      47      31      13      15   2.000000   1.580645   1.153846   1.133333   \n",
       "1      92      19      11      26   2.750000   2.789474   1.363636   1.230769   \n",
       "2     100      21      11      12   2.930000   2.428571   1.181818   1.083333   \n",
       "3      74      27      13      20   3.067568   2.518518   1.923077   1.300000   \n",
       "4      18      22       8       8   1.833333   1.954545   1.125000   1.750000   \n",
       "\n",
       "   ndof  MatchedHit_TYPE[0]     ...                14            15  \\\n",
       "0     8                   2     ...      17520.826172  18729.324219   \n",
       "1     8                   2     ...      17614.853516  18824.429688   \n",
       "2     8                   2     ...      17598.300781  18806.351562   \n",
       "3     8                   2     ...      17598.300781  18806.351562   \n",
       "4     8                   2     ...      17603.021484  18811.394531   \n",
       "\n",
       "          16     17     18     19          20          21          22  \\\n",
       "0  25.500000  27.50  118.0  126.0  126.278549  136.278488  146.278412   \n",
       "1  25.500000  27.50  118.0  756.0  126.278549  136.278488  146.278412   \n",
       "2  12.750000  13.75   59.0   63.0   63.078957   68.078926   73.078896   \n",
       "3  12.948485  13.75   59.0   63.0   63.038589   68.078926   73.078896   \n",
       "4  12.750000  13.75   59.0   63.0   63.078957   68.078926   73.078896   \n",
       "\n",
       "           23  \n",
       "0  156.278351  \n",
       "1  156.278351  \n",
       "2   78.078857  \n",
       "3   78.078857  \n",
       "4   78.078857  \n",
       "\n",
       "[5 rows x 89 columns]"
      ]
     },
     "execution_count": 13,
     "metadata": {},
     "output_type": "execute_result"
    }
   ],
   "source": [
    "train_concat.head()"
   ]
  },
  {
   "cell_type": "code",
   "execution_count": 3,
   "metadata": {
    "ExecuteTime": {
     "end_time": "2019-01-26T06:45:18.894739Z",
     "start_time": "2019-01-26T06:45:03.618589Z"
    }
   },
   "outputs": [],
   "source": [
    "test_data = pd.read_hdf(\"data/test_public_v2.hdf\")"
   ]
  },
  {
   "cell_type": "code",
   "execution_count": 4,
   "metadata": {
    "ExecuteTime": {
     "end_time": "2019-01-26T06:52:08.672978Z",
     "start_time": "2019-01-26T06:45:49.227004Z"
    }
   },
   "outputs": [
    {
     "name": "stderr",
     "output_type": "stream",
     "text": [
      "Pandas Apply: 100%|██████████| 726095/726095 [06:17<00:00, 1921.01it/s]\n"
     ]
    }
   ],
   "source": [
    "closest_hits_features = test_data.swifter.apply(\n",
    "    utils.find_closest_hit_per_station, result_type=\"expand\", axis=1)"
   ]
  },
  {
   "cell_type": "code",
   "execution_count": 5,
   "metadata": {
    "ExecuteTime": {
     "end_time": "2019-01-26T06:52:11.856904Z",
     "start_time": "2019-01-26T06:52:11.482809Z"
    }
   },
   "outputs": [],
   "source": [
    "test_concat = pd.concat(\n",
    "    [test_data.loc[:, utils.SIMPLE_FEATURE_COLUMNS],\n",
    "     closest_hits_features], axis=1)"
   ]
  },
  {
   "cell_type": "code",
   "execution_count": null,
   "metadata": {},
   "outputs": [],
   "source": [
    "test_concat.to"
   ]
  }
 ],
 "metadata": {
  "kernelspec": {
   "display_name": "Python 3",
   "language": "python",
   "name": "python3"
  },
  "language_info": {
   "codemirror_mode": {
    "name": "ipython",
    "version": 3
   },
   "file_extension": ".py",
   "mimetype": "text/x-python",
   "name": "python",
   "nbconvert_exporter": "python",
   "pygments_lexer": "ipython3",
   "version": "3.6.6"
  }
 },
 "nbformat": 4,
 "nbformat_minor": 2
}
