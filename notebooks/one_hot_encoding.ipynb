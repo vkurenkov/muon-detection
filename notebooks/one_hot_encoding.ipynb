{
 "cells": [
  {
   "cell_type": "code",
   "execution_count": 2,
   "metadata": {
    "ExecuteTime": {
     "end_time": "2019-02-02T12:07:38.628507Z",
     "start_time": "2019-02-02T12:07:38.623827Z"
    }
   },
   "outputs": [],
   "source": [
    "import sys\n",
    "import os\n",
    "sys.path.append(os.path.abspath('..'))"
   ]
  },
  {
   "cell_type": "code",
   "execution_count": 81,
   "metadata": {
    "ExecuteTime": {
     "end_time": "2019-02-02T14:11:19.978307Z",
     "start_time": "2019-02-02T14:11:19.971178Z"
    }
   },
   "outputs": [],
   "source": [
    "import os\n",
    "import numpy as np\n",
    "import pandas as pd\n",
    "import swifter\n",
    "from sklearn.model_selection import train_test_split\n",
    "import utils\n",
    "import itertools\n",
    "from scipy.sparse import lil_matrix, csr_matrix, hstack\n",
    "import scipy\n",
    "import pickle\n",
    "from operator import is_not\n",
    "from functools import partial\n",
    "\n",
    "from tqdm import tqdm_notebook as tqdm\n",
    "\n",
    "pd.options.display.max_rows = 80\n",
    "pd.options.display.max_columns = 80"
   ]
  },
  {
   "cell_type": "code",
   "execution_count": 5,
   "metadata": {
    "ExecuteTime": {
     "end_time": "2019-02-02T12:09:24.006002Z",
     "start_time": "2019-02-02T12:08:15.187857Z"
    }
   },
   "outputs": [],
   "source": [
    "DATA_PATH = \"/work/IDAO/muon-detection/data/\"\n",
    "\n",
    "# load full train\n",
    "train_df = utils.load_train_hdf(DATA_PATH)"
   ]
  },
  {
   "cell_type": "code",
   "execution_count": 6,
   "metadata": {
    "ExecuteTime": {
     "end_time": "2019-02-02T12:11:59.455511Z",
     "start_time": "2019-02-02T12:11:59.439965Z"
    }
   },
   "outputs": [
    {
     "data": {
      "text/plain": [
       "(5445705, 79)"
      ]
     },
     "execution_count": 6,
     "metadata": {},
     "output_type": "execute_result"
    }
   ],
   "source": [
    "train_df.shape"
   ]
  },
  {
   "cell_type": "code",
   "execution_count": 7,
   "metadata": {
    "ExecuteTime": {
     "end_time": "2019-02-02T12:12:00.383411Z",
     "start_time": "2019-02-02T12:12:00.371954Z"
    },
    "scrolled": true
   },
   "outputs": [
    {
     "data": {
      "text/plain": [
       "ncl[0]                 uint16\n",
       "ncl[1]                 uint16\n",
       "ncl[2]                 uint16\n",
       "ncl[3]                 uint16\n",
       "avg_cs[0]             float32\n",
       "avg_cs[1]             float32\n",
       "avg_cs[2]             float32\n",
       "avg_cs[3]             float32\n",
       "ndof                    uint8\n",
       "MatchedHit_TYPE[0]       int8\n",
       "MatchedHit_TYPE[1]       int8\n",
       "MatchedHit_TYPE[2]       int8\n",
       "MatchedHit_TYPE[3]       int8\n",
       "MatchedHit_X[0]       float32\n",
       "MatchedHit_X[1]       float32\n",
       "MatchedHit_X[2]       float32\n",
       "MatchedHit_X[3]       float32\n",
       "MatchedHit_Y[0]       float32\n",
       "MatchedHit_Y[1]       float32\n",
       "MatchedHit_Y[2]       float32\n",
       "MatchedHit_Y[3]       float32\n",
       "MatchedHit_Z[0]       float32\n",
       "MatchedHit_Z[1]       float32\n",
       "MatchedHit_Z[2]       float32\n",
       "MatchedHit_Z[3]       float32\n",
       "MatchedHit_DX[0]      float32\n",
       "MatchedHit_DX[1]      float32\n",
       "MatchedHit_DX[2]      float32\n",
       "MatchedHit_DX[3]      float32\n",
       "MatchedHit_DY[0]      float32\n",
       "MatchedHit_DY[1]      float32\n",
       "MatchedHit_DY[2]      float32\n",
       "MatchedHit_DY[3]      float32\n",
       "MatchedHit_DZ[0]      float32\n",
       "MatchedHit_DZ[1]      float32\n",
       "MatchedHit_DZ[2]      float32\n",
       "MatchedHit_DZ[3]      float32\n",
       "MatchedHit_T[0]         uint8\n",
       "MatchedHit_T[1]         uint8\n",
       "MatchedHit_T[2]         uint8\n",
       "MatchedHit_T[3]         uint8\n",
       "MatchedHit_DT[0]         int8\n",
       "MatchedHit_DT[1]         int8\n",
       "MatchedHit_DT[2]         int8\n",
       "MatchedHit_DT[3]         int8\n",
       "Lextra_X[0]           float32\n",
       "Lextra_X[1]           float32\n",
       "Lextra_X[2]           float32\n",
       "Lextra_X[3]           float32\n",
       "Lextra_Y[0]           float32\n",
       "Lextra_Y[1]           float32\n",
       "Lextra_Y[2]           float32\n",
       "Lextra_Y[3]           float32\n",
       "NShared                 int32\n",
       "Mextra_DX2[0]         float32\n",
       "Mextra_DX2[1]         float32\n",
       "Mextra_DX2[2]         float32\n",
       "Mextra_DX2[3]         float32\n",
       "Mextra_DY2[0]         float32\n",
       "Mextra_DY2[1]         float32\n",
       "Mextra_DY2[2]         float32\n",
       "Mextra_DY2[3]         float32\n",
       "FOI_hits_N             uint16\n",
       "FOI_hits_X             object\n",
       "FOI_hits_Y             object\n",
       "FOI_hits_Z             object\n",
       "FOI_hits_DX            object\n",
       "FOI_hits_DY            object\n",
       "FOI_hits_DZ            object\n",
       "FOI_hits_T             object\n",
       "FOI_hits_DT            object\n",
       "FOI_hits_S             object\n",
       "PT                    float64\n",
       "P                     float64\n",
       "sWeight               float64\n",
       "particle_type           uint8\n",
       "label                   uint8\n",
       "kinWeight             float64\n",
       "weight                float64\n",
       "dtype: object"
      ]
     },
     "execution_count": 7,
     "metadata": {},
     "output_type": "execute_result"
    }
   ],
   "source": [
    "train_df.dtypes"
   ]
  },
  {
   "cell_type": "code",
   "execution_count": 8,
   "metadata": {
    "ExecuteTime": {
     "end_time": "2019-02-02T12:12:02.318894Z",
     "start_time": "2019-02-02T12:12:02.242201Z"
    },
    "scrolled": true
   },
   "outputs": [
    {
     "data": {
      "text/html": [
       "<div>\n",
       "<style scoped>\n",
       "    .dataframe tbody tr th:only-of-type {\n",
       "        vertical-align: middle;\n",
       "    }\n",
       "\n",
       "    .dataframe tbody tr th {\n",
       "        vertical-align: top;\n",
       "    }\n",
       "\n",
       "    .dataframe thead th {\n",
       "        text-align: right;\n",
       "    }\n",
       "</style>\n",
       "<table border=\"1\" class=\"dataframe\">\n",
       "  <thead>\n",
       "    <tr style=\"text-align: right;\">\n",
       "      <th></th>\n",
       "      <th>ncl[0]</th>\n",
       "      <th>ncl[1]</th>\n",
       "      <th>ncl[2]</th>\n",
       "      <th>ncl[3]</th>\n",
       "      <th>avg_cs[0]</th>\n",
       "      <th>avg_cs[1]</th>\n",
       "      <th>avg_cs[2]</th>\n",
       "      <th>avg_cs[3]</th>\n",
       "      <th>ndof</th>\n",
       "      <th>MatchedHit_TYPE[0]</th>\n",
       "      <th>MatchedHit_TYPE[1]</th>\n",
       "      <th>MatchedHit_TYPE[2]</th>\n",
       "      <th>MatchedHit_TYPE[3]</th>\n",
       "      <th>MatchedHit_X[0]</th>\n",
       "      <th>MatchedHit_X[1]</th>\n",
       "      <th>MatchedHit_X[2]</th>\n",
       "      <th>MatchedHit_X[3]</th>\n",
       "      <th>MatchedHit_Y[0]</th>\n",
       "      <th>MatchedHit_Y[1]</th>\n",
       "      <th>MatchedHit_Y[2]</th>\n",
       "      <th>MatchedHit_Y[3]</th>\n",
       "      <th>MatchedHit_Z[0]</th>\n",
       "      <th>MatchedHit_Z[1]</th>\n",
       "      <th>MatchedHit_Z[2]</th>\n",
       "      <th>MatchedHit_Z[3]</th>\n",
       "      <th>MatchedHit_DX[0]</th>\n",
       "      <th>MatchedHit_DX[1]</th>\n",
       "      <th>MatchedHit_DX[2]</th>\n",
       "      <th>MatchedHit_DX[3]</th>\n",
       "      <th>MatchedHit_DY[0]</th>\n",
       "      <th>MatchedHit_DY[1]</th>\n",
       "      <th>MatchedHit_DY[2]</th>\n",
       "      <th>MatchedHit_DY[3]</th>\n",
       "      <th>MatchedHit_DZ[0]</th>\n",
       "      <th>MatchedHit_DZ[1]</th>\n",
       "      <th>MatchedHit_DZ[2]</th>\n",
       "      <th>MatchedHit_DZ[3]</th>\n",
       "      <th>MatchedHit_T[0]</th>\n",
       "      <th>MatchedHit_T[1]</th>\n",
       "      <th>MatchedHit_T[2]</th>\n",
       "      <th>MatchedHit_T[3]</th>\n",
       "      <th>MatchedHit_DT[0]</th>\n",
       "      <th>MatchedHit_DT[1]</th>\n",
       "      <th>MatchedHit_DT[2]</th>\n",
       "      <th>MatchedHit_DT[3]</th>\n",
       "      <th>Lextra_X[0]</th>\n",
       "      <th>Lextra_X[1]</th>\n",
       "      <th>Lextra_X[2]</th>\n",
       "      <th>Lextra_X[3]</th>\n",
       "      <th>Lextra_Y[0]</th>\n",
       "      <th>Lextra_Y[1]</th>\n",
       "      <th>Lextra_Y[2]</th>\n",
       "      <th>Lextra_Y[3]</th>\n",
       "      <th>NShared</th>\n",
       "      <th>Mextra_DX2[0]</th>\n",
       "      <th>Mextra_DX2[1]</th>\n",
       "      <th>Mextra_DX2[2]</th>\n",
       "      <th>Mextra_DX2[3]</th>\n",
       "      <th>Mextra_DY2[0]</th>\n",
       "      <th>Mextra_DY2[1]</th>\n",
       "      <th>Mextra_DY2[2]</th>\n",
       "      <th>Mextra_DY2[3]</th>\n",
       "      <th>FOI_hits_N</th>\n",
       "      <th>FOI_hits_X</th>\n",
       "      <th>FOI_hits_Y</th>\n",
       "      <th>FOI_hits_Z</th>\n",
       "      <th>FOI_hits_DX</th>\n",
       "      <th>FOI_hits_DY</th>\n",
       "      <th>FOI_hits_DZ</th>\n",
       "      <th>FOI_hits_T</th>\n",
       "      <th>FOI_hits_DT</th>\n",
       "      <th>FOI_hits_S</th>\n",
       "      <th>PT</th>\n",
       "      <th>P</th>\n",
       "      <th>sWeight</th>\n",
       "      <th>particle_type</th>\n",
       "      <th>label</th>\n",
       "      <th>kinWeight</th>\n",
       "      <th>weight</th>\n",
       "    </tr>\n",
       "  </thead>\n",
       "  <tbody>\n",
       "    <tr>\n",
       "      <th>0</th>\n",
       "      <td>47</td>\n",
       "      <td>31</td>\n",
       "      <td>13</td>\n",
       "      <td>15</td>\n",
       "      <td>2.000000</td>\n",
       "      <td>1.580645</td>\n",
       "      <td>1.153846</td>\n",
       "      <td>1.133333</td>\n",
       "      <td>8</td>\n",
       "      <td>2</td>\n",
       "      <td>2</td>\n",
       "      <td>2</td>\n",
       "      <td>2</td>\n",
       "      <td>-2685.080078</td>\n",
       "      <td>-2954.300049</td>\n",
       "      <td>-3140.969971</td>\n",
       "      <td>-3609.169922</td>\n",
       "      <td>1373.348145</td>\n",
       "      <td>1481.262207</td>\n",
       "      <td>1590.397461</td>\n",
       "      <td>1701.067627</td>\n",
       "      <td>15123.044922</td>\n",
       "      <td>16327.632812</td>\n",
       "      <td>17520.826172</td>\n",
       "      <td>18729.324219</td>\n",
       "      <td>25.500000</td>\n",
       "      <td>27.50</td>\n",
       "      <td>118.0</td>\n",
       "      <td>126.0</td>\n",
       "      <td>126.278549</td>\n",
       "      <td>136.278488</td>\n",
       "      <td>146.278412</td>\n",
       "      <td>156.278351</td>\n",
       "      <td>33.954948</td>\n",
       "      <td>33.990959</td>\n",
       "      <td>34.026966</td>\n",
       "      <td>34.062977</td>\n",
       "      <td>3</td>\n",
       "      <td>2</td>\n",
       "      <td>7</td>\n",
       "      <td>5</td>\n",
       "      <td>0</td>\n",
       "      <td>0</td>\n",
       "      <td>0</td>\n",
       "      <td>0</td>\n",
       "      <td>-2665.387939</td>\n",
       "      <td>-2917.874023</td>\n",
       "      <td>-3170.360107</td>\n",
       "      <td>-3422.846436</td>\n",
       "      <td>1394.170532</td>\n",
       "      <td>1503.675171</td>\n",
       "      <td>1613.179688</td>\n",
       "      <td>1722.684326</td>\n",
       "      <td>0</td>\n",
       "      <td>345.493927</td>\n",
       "      <td>986.100830</td>\n",
       "      <td>2201.950195</td>\n",
       "      <td>4295.085449</td>\n",
       "      <td>333.436310</td>\n",
       "      <td>951.685425</td>\n",
       "      <td>2125.099854</td>\n",
       "      <td>4145.181641</td>\n",
       "      <td>6</td>\n",
       "      <td>[-2685.08, -2583.08, -2954.3, -3376.97, -3140....</td>\n",
       "      <td>[1373.3481, 1373.3481, 1481.2622, 1590.3975, 1...</td>\n",
       "      <td>[15123.045, 15123.045, 16327.633, 17520.826, 1...</td>\n",
       "      <td>[25.5, 25.5, 27.5, 118.0, 118.0, 126.0]</td>\n",
       "      <td>[126.27855, 126.27855, 136.27849, 146.27841, 1...</td>\n",
       "      <td>[33.95495, 33.95495, 33.99096, 34.026966, 34.0...</td>\n",
       "      <td>[3, 11, 2, 7, 7, 5]</td>\n",
       "      <td>[0, 8, 0, 0, 0, 0]</td>\n",
       "      <td>[0, 0, 1, 2, 2, 3]</td>\n",
       "      <td>1764.925899</td>\n",
       "      <td>12646.817591</td>\n",
       "      <td>1.199231</td>\n",
       "      <td>1</td>\n",
       "      <td>1</td>\n",
       "      <td>1.85646</td>\n",
       "      <td>2.226325</td>\n",
       "    </tr>\n",
       "    <tr>\n",
       "      <th>1</th>\n",
       "      <td>92</td>\n",
       "      <td>19</td>\n",
       "      <td>11</td>\n",
       "      <td>26</td>\n",
       "      <td>2.750000</td>\n",
       "      <td>2.789474</td>\n",
       "      <td>1.363636</td>\n",
       "      <td>1.230769</td>\n",
       "      <td>8</td>\n",
       "      <td>2</td>\n",
       "      <td>2</td>\n",
       "      <td>2</td>\n",
       "      <td>1</td>\n",
       "      <td>739.549988</td>\n",
       "      <td>852.510010</td>\n",
       "      <td>827.000000</td>\n",
       "      <td>758.719971</td>\n",
       "      <td>2387.722168</td>\n",
       "      <td>2575.974609</td>\n",
       "      <td>2764.196533</td>\n",
       "      <td>2952.103271</td>\n",
       "      <td>15212.597656</td>\n",
       "      <td>16420.576172</td>\n",
       "      <td>17614.853516</td>\n",
       "      <td>18824.429688</td>\n",
       "      <td>25.500000</td>\n",
       "      <td>27.50</td>\n",
       "      <td>118.0</td>\n",
       "      <td>756.0</td>\n",
       "      <td>126.278549</td>\n",
       "      <td>136.278488</td>\n",
       "      <td>146.278412</td>\n",
       "      <td>156.278351</td>\n",
       "      <td>33.954948</td>\n",
       "      <td>33.990959</td>\n",
       "      <td>34.026966</td>\n",
       "      <td>34.062977</td>\n",
       "      <td>9</td>\n",
       "      <td>10</td>\n",
       "      <td>8</td>\n",
       "      <td>4</td>\n",
       "      <td>1</td>\n",
       "      <td>-1</td>\n",
       "      <td>0</td>\n",
       "      <td>4</td>\n",
       "      <td>765.309204</td>\n",
       "      <td>844.153198</td>\n",
       "      <td>922.997192</td>\n",
       "      <td>1001.841187</td>\n",
       "      <td>2420.164307</td>\n",
       "      <td>2610.679199</td>\n",
       "      <td>2801.193848</td>\n",
       "      <td>2991.708740</td>\n",
       "      <td>1</td>\n",
       "      <td>62.960335</td>\n",
       "      <td>181.760788</td>\n",
       "      <td>405.539215</td>\n",
       "      <td>777.429138</td>\n",
       "      <td>64.267189</td>\n",
       "      <td>185.533554</td>\n",
       "      <td>413.956909</td>\n",
       "      <td>793.566040</td>\n",
       "      <td>4</td>\n",
       "      <td>[739.55, 852.51, 827.0, 758.72]</td>\n",
       "      <td>[2387.7222, 2575.9746, 2764.1965, 2952.1033]</td>\n",
       "      <td>[15212.598, 16420.576, 17614.854, 18824.43]</td>\n",
       "      <td>[25.5, 27.5, 118.0, 756.0]</td>\n",
       "      <td>[126.27855, 136.27849, 146.27841, 156.27835]</td>\n",
       "      <td>[33.95495, 33.99096, 34.026966, 34.062977]</td>\n",
       "      <td>[9, 10, 8, 4]</td>\n",
       "      <td>[1, -1, 0, 4]</td>\n",
       "      <td>[0, 1, 2, 3]</td>\n",
       "      <td>4511.281266</td>\n",
       "      <td>28556.630027</td>\n",
       "      <td>1.145788</td>\n",
       "      <td>1</td>\n",
       "      <td>1</td>\n",
       "      <td>1.85646</td>\n",
       "      <td>2.127109</td>\n",
       "    </tr>\n",
       "    <tr>\n",
       "      <th>2</th>\n",
       "      <td>100</td>\n",
       "      <td>21</td>\n",
       "      <td>11</td>\n",
       "      <td>12</td>\n",
       "      <td>2.930000</td>\n",
       "      <td>2.428571</td>\n",
       "      <td>1.181818</td>\n",
       "      <td>1.083333</td>\n",
       "      <td>8</td>\n",
       "      <td>2</td>\n",
       "      <td>2</td>\n",
       "      <td>2</td>\n",
       "      <td>2</td>\n",
       "      <td>-1595.130005</td>\n",
       "      <td>-1748.449951</td>\n",
       "      <td>-1933.969971</td>\n",
       "      <td>-2066.669922</td>\n",
       "      <td>-318.644745</td>\n",
       "      <td>-344.529694</td>\n",
       "      <td>-221.993256</td>\n",
       "      <td>-235.322327</td>\n",
       "      <td>15317.953125</td>\n",
       "      <td>16522.060547</td>\n",
       "      <td>17598.300781</td>\n",
       "      <td>18806.351562</td>\n",
       "      <td>12.750000</td>\n",
       "      <td>13.75</td>\n",
       "      <td>59.0</td>\n",
       "      <td>63.0</td>\n",
       "      <td>63.078957</td>\n",
       "      <td>68.078926</td>\n",
       "      <td>73.078896</td>\n",
       "      <td>78.078857</td>\n",
       "      <td>33.727364</td>\n",
       "      <td>33.745369</td>\n",
       "      <td>33.763374</td>\n",
       "      <td>33.781380</td>\n",
       "      <td>10</td>\n",
       "      <td>3</td>\n",
       "      <td>3</td>\n",
       "      <td>5</td>\n",
       "      <td>0</td>\n",
       "      <td>0</td>\n",
       "      <td>0</td>\n",
       "      <td>0</td>\n",
       "      <td>-1590.582642</td>\n",
       "      <td>-1745.545898</td>\n",
       "      <td>-1900.509277</td>\n",
       "      <td>-2055.472656</td>\n",
       "      <td>-282.487946</td>\n",
       "      <td>-304.673065</td>\n",
       "      <td>-326.858185</td>\n",
       "      <td>-349.043304</td>\n",
       "      <td>0</td>\n",
       "      <td>161.833542</td>\n",
       "      <td>447.806335</td>\n",
       "      <td>996.013245</td>\n",
       "      <td>1931.484009</td>\n",
       "      <td>159.182327</td>\n",
       "      <td>440.469940</td>\n",
       "      <td>979.695190</td>\n",
       "      <td>1899.839233</td>\n",
       "      <td>9</td>\n",
       "      <td>[-1595.13, -681.58, -1775.95, -1761.95, -1748....</td>\n",
       "      <td>[-318.64474, -222.24156, -344.5297, -207.12927...</td>\n",
       "      <td>[15317.953, 15117.299, 16522.06, 16405.555, 16...</td>\n",
       "      <td>[12.75, 76.5, 13.75, 13.75, 13.75, 13.75, 20.7...</td>\n",
       "      <td>[63.078957, 31.479162, 68.078926, 68.078926, 6...</td>\n",
       "      <td>[33.727364, 33.613575, 33.74537, 33.74537, 33....</td>\n",
       "      <td>[10, 4, 13, 13, 3, 3, 15, 3, 5]</td>\n",
       "      <td>[0, 4, 10, 6, 0, -4, 15, 0, 0]</td>\n",
       "      <td>[0, 0, 1, 1, 1, 1, 1, 2, 3]</td>\n",
       "      <td>1062.550086</td>\n",
       "      <td>17491.702634</td>\n",
       "      <td>1.139144</td>\n",
       "      <td>1</td>\n",
       "      <td>1</td>\n",
       "      <td>3.77936</td>\n",
       "      <td>4.305235</td>\n",
       "    </tr>\n",
       "    <tr>\n",
       "      <th>3</th>\n",
       "      <td>74</td>\n",
       "      <td>27</td>\n",
       "      <td>13</td>\n",
       "      <td>20</td>\n",
       "      <td>3.067568</td>\n",
       "      <td>2.518518</td>\n",
       "      <td>1.923077</td>\n",
       "      <td>1.300000</td>\n",
       "      <td>8</td>\n",
       "      <td>2</td>\n",
       "      <td>2</td>\n",
       "      <td>2</td>\n",
       "      <td>2</td>\n",
       "      <td>-1708.829102</td>\n",
       "      <td>-1816.949951</td>\n",
       "      <td>-1933.969971</td>\n",
       "      <td>-2066.669922</td>\n",
       "      <td>-191.404434</td>\n",
       "      <td>-207.129272</td>\n",
       "      <td>-221.993256</td>\n",
       "      <td>-235.322327</td>\n",
       "      <td>15201.410156</td>\n",
       "      <td>16405.554688</td>\n",
       "      <td>17598.300781</td>\n",
       "      <td>18806.351562</td>\n",
       "      <td>12.948485</td>\n",
       "      <td>13.75</td>\n",
       "      <td>59.0</td>\n",
       "      <td>63.0</td>\n",
       "      <td>63.038589</td>\n",
       "      <td>68.078926</td>\n",
       "      <td>73.078896</td>\n",
       "      <td>78.078857</td>\n",
       "      <td>33.727219</td>\n",
       "      <td>33.745369</td>\n",
       "      <td>33.763374</td>\n",
       "      <td>33.781380</td>\n",
       "      <td>6</td>\n",
       "      <td>4</td>\n",
       "      <td>8</td>\n",
       "      <td>2</td>\n",
       "      <td>1</td>\n",
       "      <td>0</td>\n",
       "      <td>0</td>\n",
       "      <td>0</td>\n",
       "      <td>-1713.122925</td>\n",
       "      <td>-1834.174805</td>\n",
       "      <td>-1955.226685</td>\n",
       "      <td>-2076.278564</td>\n",
       "      <td>-176.800278</td>\n",
       "      <td>-190.682800</td>\n",
       "      <td>-204.565308</td>\n",
       "      <td>-218.447815</td>\n",
       "      <td>0</td>\n",
       "      <td>36.382465</td>\n",
       "      <td>104.446304</td>\n",
       "      <td>232.034851</td>\n",
       "      <td>443.218323</td>\n",
       "      <td>36.024845</td>\n",
       "      <td>103.419678</td>\n",
       "      <td>229.754150</td>\n",
       "      <td>438.861938</td>\n",
       "      <td>5</td>\n",
       "      <td>[-1708.8291, -1708.432, -1816.95, -1933.97, -2...</td>\n",
       "      <td>[-191.40443, -65.00588, -207.12927, -221.99326...</td>\n",
       "      <td>[15201.41, 15201.865, 16405.555, 17598.3, 1880...</td>\n",
       "      <td>[12.948485, 12.948485, 13.75, 59.0, 63.0]</td>\n",
       "      <td>[63.03859, 63.03859, 68.078926, 73.078896, 78....</td>\n",
       "      <td>[33.72722, 33.72722, 33.74537, 33.763374, 33.7...</td>\n",
       "      <td>[6, 6, 4, 8, 2]</td>\n",
       "      <td>[1, -6, 0, 0, 0]</td>\n",
       "      <td>[0, 0, 1, 2, 3]</td>\n",
       "      <td>4991.074825</td>\n",
       "      <td>37192.868559</td>\n",
       "      <td>0.864863</td>\n",
       "      <td>1</td>\n",
       "      <td>1</td>\n",
       "      <td>1.85646</td>\n",
       "      <td>1.605583</td>\n",
       "    </tr>\n",
       "    <tr>\n",
       "      <th>4</th>\n",
       "      <td>18</td>\n",
       "      <td>22</td>\n",
       "      <td>8</td>\n",
       "      <td>8</td>\n",
       "      <td>1.833333</td>\n",
       "      <td>1.954545</td>\n",
       "      <td>1.125000</td>\n",
       "      <td>1.750000</td>\n",
       "      <td>8</td>\n",
       "      <td>2</td>\n",
       "      <td>2</td>\n",
       "      <td>2</td>\n",
       "      <td>2</td>\n",
       "      <td>-1504.630005</td>\n",
       "      <td>-1651.949951</td>\n",
       "      <td>-1815.969971</td>\n",
       "      <td>-1940.670044</td>\n",
       "      <td>941.448425</td>\n",
       "      <td>1014.662781</td>\n",
       "      <td>1089.198242</td>\n",
       "      <td>1165.168579</td>\n",
       "      <td>15205.489258</td>\n",
       "      <td>16409.953125</td>\n",
       "      <td>17603.021484</td>\n",
       "      <td>18811.394531</td>\n",
       "      <td>12.750000</td>\n",
       "      <td>13.75</td>\n",
       "      <td>59.0</td>\n",
       "      <td>63.0</td>\n",
       "      <td>63.078957</td>\n",
       "      <td>68.078926</td>\n",
       "      <td>73.078896</td>\n",
       "      <td>78.078857</td>\n",
       "      <td>33.727364</td>\n",
       "      <td>33.745369</td>\n",
       "      <td>33.763374</td>\n",
       "      <td>33.781380</td>\n",
       "      <td>6</td>\n",
       "      <td>6</td>\n",
       "      <td>5</td>\n",
       "      <td>5</td>\n",
       "      <td>-2</td>\n",
       "      <td>0</td>\n",
       "      <td>0</td>\n",
       "      <td>0</td>\n",
       "      <td>-1497.395386</td>\n",
       "      <td>-1646.681396</td>\n",
       "      <td>-1795.967407</td>\n",
       "      <td>-1945.253296</td>\n",
       "      <td>998.369751</td>\n",
       "      <td>1076.436646</td>\n",
       "      <td>1154.503662</td>\n",
       "      <td>1232.570557</td>\n",
       "      <td>0</td>\n",
       "      <td>192.747238</td>\n",
       "      <td>557.676880</td>\n",
       "      <td>1254.906250</td>\n",
       "      <td>2430.534668</td>\n",
       "      <td>190.557480</td>\n",
       "      <td>551.340942</td>\n",
       "      <td>1240.648438</td>\n",
       "      <td>2402.919189</td>\n",
       "      <td>6</td>\n",
       "      <td>[-1544.13, -1518.63, -1504.63, -1651.95, -1815...</td>\n",
       "      <td>[1075.6462, 1075.6462, 941.4484, 1014.6628, 10...</td>\n",
       "      <td>[15322.974, 15322.974, 15205.489, 16409.953, 1...</td>\n",
       "      <td>[12.75, 12.75, 12.75, 13.75, 59.0, 63.0]</td>\n",
       "      <td>[63.078957, 63.078957, 63.078957, 68.078926, 7...</td>\n",
       "      <td>[33.727364, 33.727364, 33.727364, 33.74537, 33...</td>\n",
       "      <td>[5, 10, 6, 6, 5, 5]</td>\n",
       "      <td>[0, 5, -2, 0, 0, 0]</td>\n",
       "      <td>[0, 0, 0, 1, 2, 3]</td>\n",
       "      <td>1347.704888</td>\n",
       "      <td>16688.746174</td>\n",
       "      <td>1.107431</td>\n",
       "      <td>1</td>\n",
       "      <td>1</td>\n",
       "      <td>1.85646</td>\n",
       "      <td>2.055900</td>\n",
       "    </tr>\n",
       "  </tbody>\n",
       "</table>\n",
       "</div>"
      ],
      "text/plain": [
       "   ncl[0]  ncl[1]  ncl[2]  ncl[3]  avg_cs[0]  avg_cs[1]  avg_cs[2]  avg_cs[3]  \\\n",
       "0      47      31      13      15   2.000000   1.580645   1.153846   1.133333   \n",
       "1      92      19      11      26   2.750000   2.789474   1.363636   1.230769   \n",
       "2     100      21      11      12   2.930000   2.428571   1.181818   1.083333   \n",
       "3      74      27      13      20   3.067568   2.518518   1.923077   1.300000   \n",
       "4      18      22       8       8   1.833333   1.954545   1.125000   1.750000   \n",
       "\n",
       "   ndof  MatchedHit_TYPE[0]  MatchedHit_TYPE[1]  MatchedHit_TYPE[2]  \\\n",
       "0     8                   2                   2                   2   \n",
       "1     8                   2                   2                   2   \n",
       "2     8                   2                   2                   2   \n",
       "3     8                   2                   2                   2   \n",
       "4     8                   2                   2                   2   \n",
       "\n",
       "   MatchedHit_TYPE[3]  MatchedHit_X[0]  MatchedHit_X[1]  MatchedHit_X[2]  \\\n",
       "0                   2     -2685.080078     -2954.300049     -3140.969971   \n",
       "1                   1       739.549988       852.510010       827.000000   \n",
       "2                   2     -1595.130005     -1748.449951     -1933.969971   \n",
       "3                   2     -1708.829102     -1816.949951     -1933.969971   \n",
       "4                   2     -1504.630005     -1651.949951     -1815.969971   \n",
       "\n",
       "   MatchedHit_X[3]  MatchedHit_Y[0]  MatchedHit_Y[1]  MatchedHit_Y[2]  \\\n",
       "0     -3609.169922      1373.348145      1481.262207      1590.397461   \n",
       "1       758.719971      2387.722168      2575.974609      2764.196533   \n",
       "2     -2066.669922      -318.644745      -344.529694      -221.993256   \n",
       "3     -2066.669922      -191.404434      -207.129272      -221.993256   \n",
       "4     -1940.670044       941.448425      1014.662781      1089.198242   \n",
       "\n",
       "   MatchedHit_Y[3]  MatchedHit_Z[0]  MatchedHit_Z[1]  MatchedHit_Z[2]  \\\n",
       "0      1701.067627     15123.044922     16327.632812     17520.826172   \n",
       "1      2952.103271     15212.597656     16420.576172     17614.853516   \n",
       "2      -235.322327     15317.953125     16522.060547     17598.300781   \n",
       "3      -235.322327     15201.410156     16405.554688     17598.300781   \n",
       "4      1165.168579     15205.489258     16409.953125     17603.021484   \n",
       "\n",
       "   MatchedHit_Z[3]  MatchedHit_DX[0]  MatchedHit_DX[1]  MatchedHit_DX[2]  \\\n",
       "0     18729.324219         25.500000             27.50             118.0   \n",
       "1     18824.429688         25.500000             27.50             118.0   \n",
       "2     18806.351562         12.750000             13.75              59.0   \n",
       "3     18806.351562         12.948485             13.75              59.0   \n",
       "4     18811.394531         12.750000             13.75              59.0   \n",
       "\n",
       "   MatchedHit_DX[3]  MatchedHit_DY[0]  MatchedHit_DY[1]  MatchedHit_DY[2]  \\\n",
       "0             126.0        126.278549        136.278488        146.278412   \n",
       "1             756.0        126.278549        136.278488        146.278412   \n",
       "2              63.0         63.078957         68.078926         73.078896   \n",
       "3              63.0         63.038589         68.078926         73.078896   \n",
       "4              63.0         63.078957         68.078926         73.078896   \n",
       "\n",
       "   MatchedHit_DY[3]  MatchedHit_DZ[0]  MatchedHit_DZ[1]  MatchedHit_DZ[2]  \\\n",
       "0        156.278351         33.954948         33.990959         34.026966   \n",
       "1        156.278351         33.954948         33.990959         34.026966   \n",
       "2         78.078857         33.727364         33.745369         33.763374   \n",
       "3         78.078857         33.727219         33.745369         33.763374   \n",
       "4         78.078857         33.727364         33.745369         33.763374   \n",
       "\n",
       "   MatchedHit_DZ[3]  MatchedHit_T[0]  MatchedHit_T[1]  MatchedHit_T[2]  \\\n",
       "0         34.062977                3                2                7   \n",
       "1         34.062977                9               10                8   \n",
       "2         33.781380               10                3                3   \n",
       "3         33.781380                6                4                8   \n",
       "4         33.781380                6                6                5   \n",
       "\n",
       "   MatchedHit_T[3]  MatchedHit_DT[0]  MatchedHit_DT[1]  MatchedHit_DT[2]  \\\n",
       "0                5                 0                 0                 0   \n",
       "1                4                 1                -1                 0   \n",
       "2                5                 0                 0                 0   \n",
       "3                2                 1                 0                 0   \n",
       "4                5                -2                 0                 0   \n",
       "\n",
       "   MatchedHit_DT[3]  Lextra_X[0]  Lextra_X[1]  Lextra_X[2]  Lextra_X[3]  \\\n",
       "0                 0 -2665.387939 -2917.874023 -3170.360107 -3422.846436   \n",
       "1                 4   765.309204   844.153198   922.997192  1001.841187   \n",
       "2                 0 -1590.582642 -1745.545898 -1900.509277 -2055.472656   \n",
       "3                 0 -1713.122925 -1834.174805 -1955.226685 -2076.278564   \n",
       "4                 0 -1497.395386 -1646.681396 -1795.967407 -1945.253296   \n",
       "\n",
       "   Lextra_Y[0]  Lextra_Y[1]  Lextra_Y[2]  Lextra_Y[3]  NShared  Mextra_DX2[0]  \\\n",
       "0  1394.170532  1503.675171  1613.179688  1722.684326        0     345.493927   \n",
       "1  2420.164307  2610.679199  2801.193848  2991.708740        1      62.960335   \n",
       "2  -282.487946  -304.673065  -326.858185  -349.043304        0     161.833542   \n",
       "3  -176.800278  -190.682800  -204.565308  -218.447815        0      36.382465   \n",
       "4   998.369751  1076.436646  1154.503662  1232.570557        0     192.747238   \n",
       "\n",
       "   Mextra_DX2[1]  Mextra_DX2[2]  Mextra_DX2[3]  Mextra_DY2[0]  Mextra_DY2[1]  \\\n",
       "0     986.100830    2201.950195    4295.085449     333.436310     951.685425   \n",
       "1     181.760788     405.539215     777.429138      64.267189     185.533554   \n",
       "2     447.806335     996.013245    1931.484009     159.182327     440.469940   \n",
       "3     104.446304     232.034851     443.218323      36.024845     103.419678   \n",
       "4     557.676880    1254.906250    2430.534668     190.557480     551.340942   \n",
       "\n",
       "   Mextra_DY2[2]  Mextra_DY2[3]  FOI_hits_N  \\\n",
       "0    2125.099854    4145.181641           6   \n",
       "1     413.956909     793.566040           4   \n",
       "2     979.695190    1899.839233           9   \n",
       "3     229.754150     438.861938           5   \n",
       "4    1240.648438    2402.919189           6   \n",
       "\n",
       "                                          FOI_hits_X  \\\n",
       "0  [-2685.08, -2583.08, -2954.3, -3376.97, -3140....   \n",
       "1                    [739.55, 852.51, 827.0, 758.72]   \n",
       "2  [-1595.13, -681.58, -1775.95, -1761.95, -1748....   \n",
       "3  [-1708.8291, -1708.432, -1816.95, -1933.97, -2...   \n",
       "4  [-1544.13, -1518.63, -1504.63, -1651.95, -1815...   \n",
       "\n",
       "                                          FOI_hits_Y  \\\n",
       "0  [1373.3481, 1373.3481, 1481.2622, 1590.3975, 1...   \n",
       "1       [2387.7222, 2575.9746, 2764.1965, 2952.1033]   \n",
       "2  [-318.64474, -222.24156, -344.5297, -207.12927...   \n",
       "3  [-191.40443, -65.00588, -207.12927, -221.99326...   \n",
       "4  [1075.6462, 1075.6462, 941.4484, 1014.6628, 10...   \n",
       "\n",
       "                                          FOI_hits_Z  \\\n",
       "0  [15123.045, 15123.045, 16327.633, 17520.826, 1...   \n",
       "1        [15212.598, 16420.576, 17614.854, 18824.43]   \n",
       "2  [15317.953, 15117.299, 16522.06, 16405.555, 16...   \n",
       "3  [15201.41, 15201.865, 16405.555, 17598.3, 1880...   \n",
       "4  [15322.974, 15322.974, 15205.489, 16409.953, 1...   \n",
       "\n",
       "                                         FOI_hits_DX  \\\n",
       "0            [25.5, 25.5, 27.5, 118.0, 118.0, 126.0]   \n",
       "1                         [25.5, 27.5, 118.0, 756.0]   \n",
       "2  [12.75, 76.5, 13.75, 13.75, 13.75, 13.75, 20.7...   \n",
       "3          [12.948485, 12.948485, 13.75, 59.0, 63.0]   \n",
       "4           [12.75, 12.75, 12.75, 13.75, 59.0, 63.0]   \n",
       "\n",
       "                                         FOI_hits_DY  \\\n",
       "0  [126.27855, 126.27855, 136.27849, 146.27841, 1...   \n",
       "1       [126.27855, 136.27849, 146.27841, 156.27835]   \n",
       "2  [63.078957, 31.479162, 68.078926, 68.078926, 6...   \n",
       "3  [63.03859, 63.03859, 68.078926, 73.078896, 78....   \n",
       "4  [63.078957, 63.078957, 63.078957, 68.078926, 7...   \n",
       "\n",
       "                                         FOI_hits_DZ  \\\n",
       "0  [33.95495, 33.95495, 33.99096, 34.026966, 34.0...   \n",
       "1         [33.95495, 33.99096, 34.026966, 34.062977]   \n",
       "2  [33.727364, 33.613575, 33.74537, 33.74537, 33....   \n",
       "3  [33.72722, 33.72722, 33.74537, 33.763374, 33.7...   \n",
       "4  [33.727364, 33.727364, 33.727364, 33.74537, 33...   \n",
       "\n",
       "                        FOI_hits_T                     FOI_hits_DT  \\\n",
       "0              [3, 11, 2, 7, 7, 5]              [0, 8, 0, 0, 0, 0]   \n",
       "1                    [9, 10, 8, 4]                   [1, -1, 0, 4]   \n",
       "2  [10, 4, 13, 13, 3, 3, 15, 3, 5]  [0, 4, 10, 6, 0, -4, 15, 0, 0]   \n",
       "3                  [6, 6, 4, 8, 2]                [1, -6, 0, 0, 0]   \n",
       "4              [5, 10, 6, 6, 5, 5]             [0, 5, -2, 0, 0, 0]   \n",
       "\n",
       "                    FOI_hits_S           PT             P   sWeight  \\\n",
       "0           [0, 0, 1, 2, 2, 3]  1764.925899  12646.817591  1.199231   \n",
       "1                 [0, 1, 2, 3]  4511.281266  28556.630027  1.145788   \n",
       "2  [0, 0, 1, 1, 1, 1, 1, 2, 3]  1062.550086  17491.702634  1.139144   \n",
       "3              [0, 0, 1, 2, 3]  4991.074825  37192.868559  0.864863   \n",
       "4           [0, 0, 0, 1, 2, 3]  1347.704888  16688.746174  1.107431   \n",
       "\n",
       "   particle_type  label  kinWeight    weight  \n",
       "0              1      1    1.85646  2.226325  \n",
       "1              1      1    1.85646  2.127109  \n",
       "2              1      1    3.77936  4.305235  \n",
       "3              1      1    1.85646  1.605583  \n",
       "4              1      1    1.85646  2.055900  "
      ]
     },
     "execution_count": 8,
     "metadata": {},
     "output_type": "execute_result"
    }
   ],
   "source": [
    "train_df.head()"
   ]
  },
  {
   "cell_type": "code",
   "execution_count": 38,
   "metadata": {
    "ExecuteTime": {
     "end_time": "2019-02-02T13:05:58.642900Z",
     "start_time": "2019-02-02T13:02:20.063339Z"
    }
   },
   "outputs": [
    {
     "data": {
      "application/vnd.jupyter.widget-view+json": {
       "model_id": "c7f72e382acf4c5d9e2a609bce386279",
       "version_major": 2,
       "version_minor": 0
      },
      "text/plain": [
       "HBox(children=(IntProgress(value=1, bar_style='info', max=1), HTML(value='')))"
      ]
     },
     "metadata": {},
     "output_type": "display_data"
    },
    {
     "name": "stdout",
     "output_type": "stream",
     "text": [
      "\n"
     ]
    }
   ],
   "source": [
    "points_for_station = [[], [], [], []]\n",
    "\n",
    "for row in tqdm(train_df.itertuples()):\n",
    "    mask = np.array(row.FOI_hits_S)\n",
    "    X = np.array(row.FOI_hits_X)\n",
    "    Y = np.array(row.FOI_hits_Y)\n",
    "    Z = np.array(row.FOI_hits_Z)\n",
    "    for i in range(4):\n",
    "        points_for_station[i].extend(list(zip(X[mask==i], Y[mask==i], Z[mask==i])))"
   ]
  },
  {
   "cell_type": "code",
   "execution_count": 39,
   "metadata": {
    "ExecuteTime": {
     "end_time": "2019-02-02T13:09:13.889301Z",
     "start_time": "2019-02-02T13:05:58.644341Z"
    }
   },
   "outputs": [
    {
     "data": {
      "application/vnd.jupyter.widget-view+json": {
       "model_id": "18a2487d395d459684763ebd72a31d58",
       "version_major": 2,
       "version_minor": 0
      },
      "text/plain": [
       "HBox(children=(IntProgress(value=1, bar_style='info', max=1), HTML(value='')))"
      ]
     },
     "metadata": {},
     "output_type": "display_data"
    },
    {
     "name": "stdout",
     "output_type": "stream",
     "text": [
      "\n"
     ]
    }
   ],
   "source": [
    "int_points_for_station = [[], [], [], []]\n",
    "\n",
    "for row in tqdm(train_df.itertuples()):\n",
    "    mask = np.array(row.FOI_hits_S)\n",
    "    X = np.array(row.FOI_hits_X).astype(int)\n",
    "    Y = np.array(row.FOI_hits_Y).astype(int)\n",
    "    Z = np.array(row.FOI_hits_Z).astype(int)\n",
    "    for i in range(4):\n",
    "        int_points_for_station[i].extend(list(zip(X[mask==i], Y[mask==i], Z[mask==i])))"
   ]
  },
  {
   "cell_type": "code",
   "execution_count": 41,
   "metadata": {
    "ExecuteTime": {
     "end_time": "2019-02-02T13:10:03.983466Z",
     "start_time": "2019-02-02T13:09:51.937507Z"
    }
   },
   "outputs": [
    {
     "data": {
      "text/plain": [
       "108641"
      ]
     },
     "execution_count": 41,
     "metadata": {},
     "output_type": "execute_result"
    }
   ],
   "source": [
    "len(set.union(*[set(points_for_station[i]) for i in range(4)]))"
   ]
  },
  {
   "cell_type": "code",
   "execution_count": 40,
   "metadata": {
    "ExecuteTime": {
     "end_time": "2019-02-02T13:09:37.334483Z",
     "start_time": "2019-02-02T13:09:26.525413Z"
    }
   },
   "outputs": [
    {
     "data": {
      "text/plain": [
       "108641"
      ]
     },
     "execution_count": 40,
     "metadata": {},
     "output_type": "execute_result"
    }
   ],
   "source": [
    "len(set.union(*[set(int_points_for_station[i]) for i in range(4)]))"
   ]
  },
  {
   "cell_type": "code",
   "execution_count": 49,
   "metadata": {
    "ExecuteTime": {
     "end_time": "2019-02-02T13:14:43.597663Z",
     "start_time": "2019-02-02T13:14:43.593388Z"
    }
   },
   "outputs": [],
   "source": [
    "ONE_HOT_FEATURES = 108641"
   ]
  },
  {
   "cell_type": "markdown",
   "metadata": {},
   "source": [
    "Здесь и далее будем всегда использовать FOI_hits скастованные к int"
   ]
  },
  {
   "cell_type": "code",
   "execution_count": 42,
   "metadata": {
    "ExecuteTime": {
     "end_time": "2019-02-02T13:10:50.767208Z",
     "start_time": "2019-02-02T13:10:39.914715Z"
    }
   },
   "outputs": [],
   "source": [
    "all_points_set = set.union(*[set(int_points_for_station[i]) for i in range(4)])"
   ]
  },
  {
   "cell_type": "code",
   "execution_count": 43,
   "metadata": {
    "ExecuteTime": {
     "end_time": "2019-02-02T13:11:40.994512Z",
     "start_time": "2019-02-02T13:11:40.811257Z"
    }
   },
   "outputs": [],
   "source": [
    "all_points_sorted = sorted(all_points_set)"
   ]
  },
  {
   "cell_type": "code",
   "execution_count": 44,
   "metadata": {
    "ExecuteTime": {
     "end_time": "2019-02-02T13:11:41.739984Z",
     "start_time": "2019-02-02T13:11:41.732047Z"
    }
   },
   "outputs": [
    {
     "data": {
      "text/plain": [
       "[(-5910, -4852, 18906),\n",
       " (-5910, -4226, 18908),\n",
       " (-5910, -3600, 18911),\n",
       " (-5910, -2974, 18913),\n",
       " (-5910, -2348, 18915),\n",
       " (-5910, -1722, 18917),\n",
       " (-5910, -1095, 18920),\n",
       " (-5910, -469, 18922),\n",
       " (-5910, 157, 18924),\n",
       " (-5910, 782, 18927)]"
      ]
     },
     "execution_count": 44,
     "metadata": {},
     "output_type": "execute_result"
    }
   ],
   "source": [
    "all_points_sorted[:10]"
   ]
  },
  {
   "cell_type": "code",
   "execution_count": 45,
   "metadata": {
    "ExecuteTime": {
     "end_time": "2019-02-02T13:11:46.044588Z",
     "start_time": "2019-02-02T13:11:45.980916Z"
    }
   },
   "outputs": [],
   "source": [
    "point_to_one_hot_idx = {point: idx for idx, point in enumerate(all_points_sorted)}"
   ]
  },
  {
   "cell_type": "code",
   "execution_count": 46,
   "metadata": {
    "ExecuteTime": {
     "end_time": "2019-02-02T13:11:52.986743Z",
     "start_time": "2019-02-02T13:11:52.979964Z"
    }
   },
   "outputs": [
    {
     "data": {
      "text/plain": [
       "0"
      ]
     },
     "execution_count": 46,
     "metadata": {},
     "output_type": "execute_result"
    }
   ],
   "source": [
    "point_to_one_hot_idx[(-5910, -4852, 18906)]"
   ]
  },
  {
   "cell_type": "code",
   "execution_count": 58,
   "metadata": {
    "ExecuteTime": {
     "end_time": "2019-02-02T13:38:35.800468Z",
     "start_time": "2019-02-02T13:29:36.938307Z"
    }
   },
   "outputs": [
    {
     "data": {
      "application/vnd.jupyter.widget-view+json": {
       "model_id": "dafa4ce97259450c85e31e93921fda15",
       "version_major": 2,
       "version_minor": 0
      },
      "text/plain": [
       "HBox(children=(IntProgress(value=0, max=5445705), HTML(value='')))"
      ]
     },
     "metadata": {},
     "output_type": "display_data"
    }
   ],
   "source": [
    "train_foi_hits_one_hot = lil_matrix((len(train_df), ONE_HOT_FEATURES), dtype=np.int8)\n",
    "\n",
    "for row in tqdm(train_df.itertuples(), total=len(train_df)):\n",
    "    X = np.array(row.FOI_hits_X).astype(int)\n",
    "    Y = np.array(row.FOI_hits_Y).astype(int)\n",
    "    Z = np.array(row.FOI_hits_Z).astype(int)\n",
    "    \n",
    "    train_foi_hits_one_hot[row.Index, list(map(lambda point: point_to_one_hot_idx[point], zip(X, Y, Z)))] = 1"
   ]
  },
  {
   "cell_type": "code",
   "execution_count": 59,
   "metadata": {
    "ExecuteTime": {
     "end_time": "2019-02-02T13:42:06.173742Z",
     "start_time": "2019-02-02T13:41:57.313331Z"
    }
   },
   "outputs": [],
   "source": [
    "train_foi_hits_one_hot = train_foi_hits_one_hot.tocsr()"
   ]
  },
  {
   "cell_type": "code",
   "execution_count": 60,
   "metadata": {
    "ExecuteTime": {
     "end_time": "2019-02-02T13:42:50.060054Z",
     "start_time": "2019-02-02T13:42:50.043733Z"
    }
   },
   "outputs": [
    {
     "data": {
      "text/plain": [
       "(5445705, 108641)"
      ]
     },
     "execution_count": 60,
     "metadata": {},
     "output_type": "execute_result"
    }
   ],
   "source": [
    "train_foi_hits_one_hot.shape"
   ]
  },
  {
   "cell_type": "code",
   "execution_count": 61,
   "metadata": {
    "ExecuteTime": {
     "end_time": "2019-02-02T13:44:33.570908Z",
     "start_time": "2019-02-02T13:44:33.563561Z"
    }
   },
   "outputs": [
    {
     "data": {
      "text/plain": [
       "226008704"
      ]
     },
     "execution_count": 61,
     "metadata": {},
     "output_type": "execute_result"
    }
   ],
   "source": [
    "train_foi_hits_one_hot.data.nbytes + train_foi_hits_one_hot.indptr.nbytes + train_foi_hits_one_hot.indices.nbytes"
   ]
  },
  {
   "cell_type": "code",
   "execution_count": 63,
   "metadata": {
    "ExecuteTime": {
     "end_time": "2019-02-02T13:47:41.056381Z",
     "start_time": "2019-02-02T13:47:16.959909Z"
    }
   },
   "outputs": [],
   "source": [
    "train_simple_features_csr = csr_matrix(train_df[utils.SIMPLE_FEATURE_COLUMNS].values)"
   ]
  },
  {
   "cell_type": "code",
   "execution_count": 64,
   "metadata": {
    "ExecuteTime": {
     "end_time": "2019-02-02T13:47:50.138277Z",
     "start_time": "2019-02-02T13:47:50.131931Z"
    }
   },
   "outputs": [
    {
     "data": {
      "text/plain": [
       "(5445705, 65)"
      ]
     },
     "execution_count": 64,
     "metadata": {},
     "output_type": "execute_result"
    }
   ],
   "source": [
    "train_simple_features_csr.shape"
   ]
  },
  {
   "cell_type": "code",
   "execution_count": 67,
   "metadata": {
    "ExecuteTime": {
     "end_time": "2019-02-02T13:49:58.563083Z",
     "start_time": "2019-02-02T13:49:58.551337Z"
    }
   },
   "outputs": [
    {
     "data": {
      "text/plain": [
       "dtype('float64')"
      ]
     },
     "execution_count": 67,
     "metadata": {},
     "output_type": "execute_result"
    }
   ],
   "source": [
    "train_simple_features_csr.dtype"
   ]
  },
  {
   "cell_type": "code",
   "execution_count": 68,
   "metadata": {
    "ExecuteTime": {
     "end_time": "2019-02-02T13:50:50.207442Z",
     "start_time": "2019-02-02T13:50:39.327786Z"
    }
   },
   "outputs": [],
   "source": [
    "train_all_features_csr = hstack([train_simple_features_csr, train_foi_hits_one_hot])"
   ]
  },
  {
   "cell_type": "code",
   "execution_count": 70,
   "metadata": {
    "ExecuteTime": {
     "end_time": "2019-02-02T13:51:54.270779Z",
     "start_time": "2019-02-02T13:51:54.265243Z"
    }
   },
   "outputs": [
    {
     "data": {
      "text/plain": [
       "(5445705, 108706)"
      ]
     },
     "execution_count": 70,
     "metadata": {},
     "output_type": "execute_result"
    }
   ],
   "source": [
    "train_all_features_csr.shape"
   ]
  },
  {
   "cell_type": "code",
   "execution_count": 72,
   "metadata": {
    "ExecuteTime": {
     "end_time": "2019-02-02T13:57:28.735337Z",
     "start_time": "2019-02-02T13:54:19.973510Z"
    }
   },
   "outputs": [],
   "source": [
    "scipy.sparse.save_npz('../data/train_all_features_csr.npz', train_all_features_csr)"
   ]
  },
  {
   "cell_type": "markdown",
   "metadata": {},
   "source": [
    "### Repeat preprocessing for test data"
   ]
  },
  {
   "cell_type": "code",
   "execution_count": 73,
   "metadata": {
    "ExecuteTime": {
     "end_time": "2019-02-02T14:01:35.087744Z",
     "start_time": "2019-02-02T14:01:25.781776Z"
    }
   },
   "outputs": [],
   "source": [
    "test_df = pd.read_hdf('../data/test_public_v2.hdf')"
   ]
  },
  {
   "cell_type": "code",
   "execution_count": 82,
   "metadata": {
    "ExecuteTime": {
     "end_time": "2019-02-02T14:13:53.947692Z",
     "start_time": "2019-02-02T14:12:41.545546Z"
    }
   },
   "outputs": [
    {
     "data": {
      "application/vnd.jupyter.widget-view+json": {
       "model_id": "71fce5b4d59a46ee994099c09b407d9e",
       "version_major": 2,
       "version_minor": 0
      },
      "text/plain": [
       "HBox(children=(IntProgress(value=0, max=726095), HTML(value='')))"
      ]
     },
     "metadata": {},
     "output_type": "display_data"
    }
   ],
   "source": [
    "test_foi_hits_one_hot = lil_matrix((len(test_df), ONE_HOT_FEATURES), dtype=np.int8)\n",
    "\n",
    "for row in tqdm(test_df.itertuples(), total=len(test_df)):\n",
    "    X = np.array(row.FOI_hits_X).astype(int)\n",
    "    Y = np.array(row.FOI_hits_Y).astype(int)\n",
    "    Z = np.array(row.FOI_hits_Z).astype(int)\n",
    "    \n",
    "    test_foi_hits_one_hot[row.Index, list(filter(partial(is_not, None), map(lambda point: point_to_one_hot_idx.get(point, None), zip(X, Y, Z))))] = 1\n",
    "\n",
    "test_foi_hits_one_hot = test_foi_hits_one_hot.tocsr()"
   ]
  },
  {
   "cell_type": "code",
   "execution_count": 83,
   "metadata": {
    "ExecuteTime": {
     "end_time": "2019-02-02T14:16:49.542641Z",
     "start_time": "2019-02-02T14:16:46.694264Z"
    }
   },
   "outputs": [],
   "source": [
    "test_simple_features_csr = csr_matrix(test_df[utils.SIMPLE_FEATURE_COLUMNS].values)"
   ]
  },
  {
   "cell_type": "code",
   "execution_count": 84,
   "metadata": {
    "ExecuteTime": {
     "end_time": "2019-02-02T14:16:56.965949Z",
     "start_time": "2019-02-02T14:16:55.934201Z"
    }
   },
   "outputs": [],
   "source": [
    "test_all_features_csr = hstack([test_simple_features_csr, test_foi_hits_one_hot])"
   ]
  },
  {
   "cell_type": "code",
   "execution_count": 85,
   "metadata": {
    "ExecuteTime": {
     "end_time": "2019-02-02T14:16:58.927985Z",
     "start_time": "2019-02-02T14:16:58.921825Z"
    }
   },
   "outputs": [
    {
     "data": {
      "text/plain": [
       "(726095, 108706)"
      ]
     },
     "execution_count": 85,
     "metadata": {},
     "output_type": "execute_result"
    }
   ],
   "source": [
    "test_all_features_csr.shape"
   ]
  },
  {
   "cell_type": "code",
   "execution_count": 86,
   "metadata": {
    "ExecuteTime": {
     "end_time": "2019-02-02T14:17:31.309201Z",
     "start_time": "2019-02-02T14:17:05.314673Z"
    }
   },
   "outputs": [],
   "source": [
    "scipy.sparse.save_npz('../data/test_all_features_csr.npz', test_all_features_csr)"
   ]
  }
 ],
 "metadata": {
  "kernelspec": {
   "display_name": "Python 3",
   "language": "python",
   "name": "python3"
  },
  "language_info": {
   "codemirror_mode": {
    "name": "ipython",
    "version": 3
   },
   "file_extension": ".py",
   "mimetype": "text/x-python",
   "name": "python",
   "nbconvert_exporter": "python",
   "pygments_lexer": "ipython3",
   "version": "3.6.6"
  }
 },
 "nbformat": 4,
 "nbformat_minor": 2
}
