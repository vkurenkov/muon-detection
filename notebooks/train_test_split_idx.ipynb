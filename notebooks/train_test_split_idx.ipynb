{
 "cells": [
  {
   "cell_type": "code",
   "execution_count": 1,
   "metadata": {
    "ExecuteTime": {
     "end_time": "2019-02-02T11:51:30.207818Z",
     "start_time": "2019-02-02T11:51:29.620417Z"
    }
   },
   "outputs": [],
   "source": [
    "import sys\n",
    "import os\n",
    "sys.path.append(os.path.abspath('..'))\n",
    "import utils"
   ]
  },
  {
   "cell_type": "code",
   "execution_count": 2,
   "metadata": {
    "ExecuteTime": {
     "end_time": "2019-02-02T11:51:36.706623Z",
     "start_time": "2019-02-02T11:51:36.463811Z"
    }
   },
   "outputs": [],
   "source": [
    "import numpy as np\n",
    "import pandas as pd\n",
    "import matplotlib.pyplot as plt"
   ]
  },
  {
   "cell_type": "code",
   "execution_count": 3,
   "metadata": {
    "ExecuteTime": {
     "end_time": "2019-02-02T11:52:25.358515Z",
     "start_time": "2019-02-02T11:52:23.465485Z"
    }
   },
   "outputs": [],
   "source": [
    "data = pd.read_hdf(\"../data/all_train_data.hdf\")"
   ]
  },
  {
   "cell_type": "code",
   "execution_count": 11,
   "metadata": {
    "ExecuteTime": {
     "end_time": "2019-02-02T11:54:22.799286Z",
     "start_time": "2019-02-02T11:54:22.725642Z"
    }
   },
   "outputs": [],
   "source": [
    "labels = pd.read_hdf(\"../data/train_labels.hdf\")"
   ]
  },
  {
   "cell_type": "code",
   "execution_count": 12,
   "metadata": {
    "ExecuteTime": {
     "end_time": "2019-02-02T11:54:36.050907Z",
     "start_time": "2019-02-02T11:54:35.848954Z"
    }
   },
   "outputs": [],
   "source": [
    "indexes = np.array(data.index)\n",
    "np.random.shuffle(indexes)\n",
    "folds = np.split(indexes, 5)"
   ]
  },
  {
   "cell_type": "code",
   "execution_count": 23,
   "metadata": {
    "ExecuteTime": {
     "end_time": "2019-02-02T11:56:26.301901Z",
     "start_time": "2019-02-02T11:56:26.160700Z"
    }
   },
   "outputs": [],
   "source": [
    "np.save(\"../cv_folds.npy\", np.array(folds))"
   ]
  },
  {
   "cell_type": "code",
   "execution_count": null,
   "metadata": {},
   "outputs": [],
   "source": []
  }
 ],
 "metadata": {
  "kernelspec": {
   "display_name": "Python 3",
   "language": "python",
   "name": "python3"
  },
  "language_info": {
   "codemirror_mode": {
    "name": "ipython",
    "version": 3
   },
   "file_extension": ".py",
   "mimetype": "text/x-python",
   "name": "python",
   "nbconvert_exporter": "python",
   "pygments_lexer": "ipython3",
   "version": "3.6.8"
  }
 },
 "nbformat": 4,
 "nbformat_minor": 2
}
